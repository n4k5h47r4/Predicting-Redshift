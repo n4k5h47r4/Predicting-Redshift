{
  "cells": [
    {
      "cell_type": "markdown",
      "metadata": {
        "id": "view-in-github",
        "colab_type": "text"
      },
      "source": [
        "<a href=\"https://colab.research.google.com/github/n4k5h47r4/Predicting-Redshift/blob/main/Predicting_redshift_w_spectra.ipynb\" target=\"_parent\"><img src=\"https://colab.research.google.com/assets/colab-badge.svg\" alt=\"Open In Colab\"/></a>"
      ]
    },
    {
      "cell_type": "code",
      "execution_count": null,
      "metadata": {
        "colab": {
          "base_uri": "https://localhost:8080/"
        },
        "id": "mvDP8RIp1uKW",
        "outputId": "78be5e9f-e991-43b5-c774-1f59d6171820"
      },
      "outputs": [
        {
          "output_type": "stream",
          "name": "stdout",
          "text": [
            "Mounted at /content/gdrive\n"
          ]
        }
      ],
      "source": [
        "from google.colab import drive\n",
        "drive.mount(\"/content/gdrive\")"
      ]
    },
    {
      "cell_type": "code",
      "source": [],
      "metadata": {
        "id": "3lbVtJp--CEK"
      },
      "execution_count": null,
      "outputs": []
    },
    {
      "cell_type": "code",
      "execution_count": null,
      "metadata": {
        "id": "0yOqn47y-XLt"
      },
      "outputs": [],
      "source": [
        "#@title PREPROCESSING (ASTRODASH)\n",
        "class ProcessingTools(object):\n",
        "    def redshift_spectrum(self, wave, flux, z):\n",
        "        wave_new = wave * (z + 1)\n",
        "\n",
        "        return wave_new, flux\n",
        "\n",
        "    def deredshift_spectrum(self, wave, flux, z):\n",
        "        wave_new = wave / (z + 1)\n",
        "\n",
        "        return wave_new, flux\n",
        "\n",
        "    def min_max_index(self, flux, outerVal=0):\n",
        "        \"\"\"\n",
        "        :param flux:\n",
        "        :param outerVal: is the scalar value in all entries before the minimum and after the maximum index\n",
        "        :return:\n",
        "        \"\"\"\n",
        "        nonZeros = np.where(flux != outerVal)[0]\n",
        "        if nonZeros.size:\n",
        "            minIndex, maxIndex = min(nonZeros), max(nonZeros)\n",
        "        else:\n",
        "            minIndex, maxIndex = len(flux), len(flux)\n",
        "\n",
        "        return minIndex, maxIndex\n",
        "\n",
        "\n",
        "class PreProcessSpectrum(object):\n",
        "    def __init__(self, w0, w1, nw):\n",
        "        self.w0 = w0\n",
        "        self.w1 = w1\n",
        "        self.nw = nw\n",
        "        self.dwlog = np.log(w1 / w0) / nw\n",
        "        self.processingTools = ProcessingTools()\n",
        "\n",
        "    def log_wavelength(self, wave, flux):\n",
        "        # Set up log wavelength array bins\n",
        "        wlog = self.w0 * np.exp(np.arange(0, self.nw) * self.dwlog)\n",
        "\n",
        "        fluxOut = self._vectorised_log_binning(wave, flux)\n",
        "        # fluxOut = self._original_log_binning(wave, flux)\n",
        "\n",
        "        minIndex, maxIndex = self.processingTools.min_max_index(fluxOut, outerVal=0)\n",
        "\n",
        "        return wlog, fluxOut, minIndex, maxIndex\n",
        "\n",
        "    def _vectorised_log_binning(self, wave, flux):\n",
        "        \"\"\" Vectorised code version of the self._original_log_binning (for improved speed since this is the most called\n",
        "        function in the script during training). This is complicated, but it has been tested to match the slower\n",
        "        looping method \"\"\"\n",
        "\n",
        "        spec = np.array([wave, flux]).T\n",
        "        mask = (wave >= self.w0) & (wave < self.w1)\n",
        "        spec = spec[mask]\n",
        "        wave, flux = spec.T\n",
        "        try:\n",
        "            fluxOut = np.zeros(int(self.nw))\n",
        "            waveMiddle = wave[1:-1]\n",
        "            waveTake1Index = wave[:-2]\n",
        "            wavePlus1Index = wave[2:]\n",
        "            s0List = 0.5 * (waveTake1Index + waveMiddle)\n",
        "            s1List = 0.5 * (waveMiddle + wavePlus1Index)\n",
        "            s0First = 0.5 * (3 * wave[0] - wave[1])\n",
        "            s0Last = 0.5 * (wave[-2] + wave[-1])\n",
        "            s1First = 0.5 * (wave[0] + wave[1])\n",
        "            s1Last = 0.5 * (3 * wave[-1] - wave[-2])\n",
        "            s0List = np.concatenate([[s0First], s0List, [s0Last]])\n",
        "            s1List = np.concatenate([[s1First], s1List, [s1Last]])\n",
        "            s0LogList = np.log(s0List / self.w0) / self.dwlog + 1\n",
        "            s1LogList = np.log(s1List / self.w0) / self.dwlog + 1\n",
        "            dnuList = s1List - s0List\n",
        "\n",
        "            s0LogListInt = s0LogList.astype(int)\n",
        "            s1LogListInt = s1LogList.astype(int)\n",
        "            numOfJLoops = s1LogListInt - s0LogListInt\n",
        "            jIndexes = np.flatnonzero(numOfJLoops)\n",
        "            jIndexVals = s0LogListInt[jIndexes]\n",
        "            prependZero = jIndexVals[0] if jIndexVals[0] < 0 else False\n",
        "            if prependZero is not False:\n",
        "                jIndexVals[0] = 0\n",
        "                numOfJLoops[0] += prependZero\n",
        "            numOfJLoops = (numOfJLoops[jIndexes])[jIndexVals < self.nw]\n",
        "            fluxValList = ((flux * 1 / (s1LogList - s0LogList) * dnuList)[jIndexes])[jIndexVals < self.nw]\n",
        "            fluxValList = np.repeat(fluxValList, numOfJLoops)\n",
        "            minJ = min(jIndexVals)\n",
        "            maxJ = (max(jIndexVals) + numOfJLoops[-1]) if (max(jIndexVals) + numOfJLoops[-1] < self.nw) else self.nw\n",
        "            fluxOut[minJ:maxJ] = fluxValList[:(maxJ - minJ)]\n",
        "\n",
        "            return fluxOut\n",
        "        except Exception as e:\n",
        "            print(e)\n",
        "            print('wave', wave)\n",
        "            print('flux', flux)\n",
        "            print(\"########################################ERROR#######################################\\n\\n\\n\\n\")\n",
        "            return np.zeros(self.nw)\n",
        "\n",
        "    def _original_log_binning(self, wave, flux):\n",
        "        \"\"\" Rebin wavelengths: adapted from SNID apodize.f subroutine rebin() \"\"\"\n",
        "        fluxOut = np.zeros(int(self.nw))\n",
        "\n",
        "        for i in range(0, len(wave)):\n",
        "            if i == 0:\n",
        "                s0 = 0.5 * (3 * wave[i] - wave[i + 1])\n",
        "                s1 = 0.5 * (wave[i] + wave[i + 1])\n",
        "            elif i == len(wave) - 1:\n",
        "                s0 = 0.5 * (wave[i - 1] + wave[i])\n",
        "                s1 = 0.5 * (3 * wave[i] - wave[i - 1])\n",
        "            else:\n",
        "                s0 = 0.5 * (wave[i - 1] + wave[i])\n",
        "                s1 = 0.5 * (wave[i] + wave[i + 1])\n",
        "\n",
        "            s0log = np.log(s0 / self.w0) / self.dwlog + 1\n",
        "            s1log = np.log(s1 / self.w0) / self.dwlog + 1\n",
        "            dnu = s1 - s0\n",
        "\n",
        "            for j in range(int(s0log), int(s1log)):\n",
        "                if j < 0 or j >= self.nw:\n",
        "                    continue\n",
        "                alen = 1  # min(s1log, j+1) - max(s0log, j)\n",
        "                fluxval = flux[i] * alen / (s1log - s0log) * dnu\n",
        "                fluxOut[j] = fluxOut[j] + fluxval\n",
        "\n",
        "        return fluxOut\n",
        "\n",
        "    def spline_fit(self, wave, flux, numSplinePoints, minindex, maxindex):\n",
        "        continuum = np.zeros(int(self.nw)) + 1\n",
        "        if (maxindex - minindex) > 5:\n",
        "            spline = UnivariateSpline(wave[minindex:maxindex + 1], flux[minindex:maxindex + 1], k=3)\n",
        "            splineWave = np.linspace(wave[minindex], wave[maxindex], num=numSplinePoints, endpoint=True)\n",
        "            splinePoints = spline(splineWave)\n",
        "\n",
        "            splineMore = UnivariateSpline(splineWave, splinePoints, k=3)\n",
        "            splinePointsMore = splineMore(wave[minindex:maxindex + 1])\n",
        "\n",
        "            continuum[minindex:maxindex + 1] = splinePointsMore\n",
        "        else:\n",
        "            print(\"WARNING: LESS THAN 6 POINTS IN SPECTRUM\")\n",
        "\n",
        "        return continuum\n",
        "\n",
        "    def continuum_removal(self, wave, flux, numSplinePoints, minIndex, maxIndex):\n",
        "        flux = flux + 1  # Important to keep this as +1\n",
        "        contRemovedFlux = np.copy(flux)\n",
        "\n",
        "        splineFit = self.spline_fit(wave, flux, numSplinePoints, minIndex, maxIndex)\n",
        "        contRemovedFlux[minIndex:maxIndex + 1] = flux[minIndex:maxIndex + 1] / splineFit[minIndex:maxIndex + 1]\n",
        "        contRemovedFluxNorm = normalise_spectrum(contRemovedFlux - 1)\n",
        "        contRemovedFluxNorm = zero_non_overlap_part(contRemovedFluxNorm, minIndex, maxIndex)\n",
        "\n",
        "        return contRemovedFluxNorm, splineFit - 1\n",
        "\n",
        "    def mean_zero(self, flux, minindex, maxindex):\n",
        "        \"\"\"mean zero flux\"\"\"\n",
        "        meanflux = np.mean(flux[minindex:maxindex])\n",
        "        meanzeroflux = flux - meanflux\n",
        "        meanzeroflux[0:minindex] = flux[0:minindex]\n",
        "        meanzeroflux[maxindex + 1:] = flux[maxindex + 1:]\n",
        "\n",
        "        return meanzeroflux\n",
        "\n",
        "    def apodize(self, flux, minindex, maxindex, outerVal=0):\n",
        "        \"\"\"apodize with 5% cosine bell\"\"\"\n",
        "        percent = 0.05\n",
        "        fluxout = np.copy(flux) - outerVal\n",
        "\n",
        "        nsquash = int(self.nw * percent)\n",
        "        for i in range(0, nsquash):\n",
        "            arg = np.pi * i / (nsquash - 1)\n",
        "            factor = 0.5 * (1 - np.cos(arg))\n",
        "            if (minindex + i < self.nw) and (maxindex - i >= 0):\n",
        "                fluxout[minindex + i] = factor * fluxout[minindex + i]\n",
        "                fluxout[maxindex - i] = factor * fluxout[maxindex - i]\n",
        "            else:\n",
        "                print(\"INVALID FLUX IN PREPROCESSING.PY APODIZE()\")\n",
        "                print(\"MININDEX=%d, i=%d\" % (minindex, i))\n",
        "                break\n",
        "\n",
        "        if outerVal != 0:\n",
        "            fluxout = fluxout + outerVal\n",
        "            fluxout = zero_non_overlap_part(fluxout, minindex, maxindex, outerVal=outerVal)\n",
        "\n",
        "        return fluxout"
      ]
    },
    {
      "cell_type": "code",
      "execution_count": null,
      "metadata": {
        "id": "OucQiKT_0AXd"
      },
      "outputs": [],
      "source": [
        "import numpy as np\n",
        "import pandas as pd\n",
        "import matplotlib.pyplot as plt\n",
        "import seaborn as sns\n",
        "import os\n"
      ]
    },
    {
      "cell_type": "code",
      "execution_count": null,
      "metadata": {
        "colab": {
          "base_uri": "https://localhost:8080/"
        },
        "id": "YDR_d4oxeHpG",
        "outputId": "bbb64a66-8b34-43c4-d739-c035b0665185"
      },
      "outputs": [
        {
          "output_type": "stream",
          "name": "stdout",
          "text": [
            "/content/gdrive/My Drive/sne\n"
          ]
        }
      ],
      "source": [
        "%cd /content/gdrive/My Drive/sne"
      ]
    },
    {
      "cell_type": "code",
      "execution_count": null,
      "metadata": {
        "colab": {
          "base_uri": "https://localhost:8080/"
        },
        "id": "4yzie9Fqd2SJ",
        "outputId": "75de906b-cbfd-4e9b-9e0d-867f97574395"
      },
      "outputs": [
        {
          "output_type": "stream",
          "name": "stdout",
          "text": [
            "['./Ia/sn1989b.p18.dat', './Ia/sn1989b.p08.dat', './Ia/sn1989b.p17.dat', './Ia/sn1998aq.p19.dat', './Ia/sn1996x.p57.dat', './Ia/sn1989b.p09.dat', './Ia/sn1999aa.m11.dat', './Ia/sn1991bg.p52.dat', './Ia/sn1991bg.p23.dat', './Ia/sn1989b.p03.dat', './Ia/sn2001ay.p09.dat', './Ia/sn1981b.p20.dat', './Ia/sn1994d.p20.dat', './Ia/sn1999ac.p39.dat', './Ia/sn1990n.p38.dat', './Ia/sn1989b.p19.dat', './Ia/sn2001ay.p21.dat', './Ia/sn2002bo.m01.dat', './Ia/sn1999ac.m15.dat', './Ia/sn1999ac.p11.dat', './Ia/sn2001ay.p26.dat', './Ia/sn1989b.p16.dat', './Ia/sn1999ac.m11.dat', './Ia/sn1999ac.p08.dat', './Ia/sn1994d.m05.dat', './Ia/sn1991bg.max.dat', './Ia/sn1996x.m01.dat', './Ia/sn1991t.p45.dat', './Ia/sn1999ac.p42.dat', './Ia/sn1999ac.m09.dat', './Ia/sn2002bo.m11.dat', './Ia/sn1986g.p41.dat', './Ia/sn1998aq.p01.dat', './Ia/sn1986g.p44.dat', './Ia/sn1999ee.p03.dat', './Ia/sn1989b.p05.dat', './Ia/sn1994d.p18.dat', './Ia/sn1994d.m04.dat', './Ia/sn1989b.m01.dat', './Ia/sn1986g.p22.dat', './Ia/sn1998bu.p27.dat', './Ia/sn1999ac.p33.dat', './Ia/sn1992a.p11.dat', './Ia/sn1998aq.m09.dat', './Ia/sn1999aa.p33.dat', './Ia/sn1991t.p67.dat', './Ia/sn1994d.m07.dat', './Ia/sn1986g.m05.dat', './Ia/sn1999ee.m06.dat', './Ia/sn1991t.m08.dat', './Ia/sn1991t.max.dat', './Ia/sn1992a.p03.dat', './Ia/sn1989b.m02.dat', './Ia/sn1998bu.p10.dat', './Ia/sn1999ac.p24.dat', './Ia/sn1981b.max.dat', './Ia/sn1999ee.p12.dat', './Ia/sn1994d.p11.dat', './Ia/sn2001ay.p16.dat', './Ia/sn1998bu.m02.dat', './Ia/sn1999ac.p28.dat', './Ia/sn1999ac.p31.dat', './Ia/sn1999aa.m01.dat', './Ia/sn1989b.p12.dat', './Ia/sn1991t.p10.dat', './Ia/sn1981b.p26.dat', './Ia/sn1994d.p03.dat', './Ia/sn1992a.p07.dat', './Ia/sn1992a.p28.dat', './Ia/sn1999ee.p08.dat', './Ia/sn1998aq.p07.dat', './Ia/sn1994d.p16.dat', './Ia/sn1986g.p89.dat', './Ia/sn1981b.p35.dat', './Ia/sn1994d.p08.dat', './Ia/sn1986g.max.dat', './Ia/sn1989b.m03.dat', './Ia/sn1999ac.p02.dat', './Ia/sn2003du.m07.dat', './Ia/sn2002bo.m14.dat', './Ia/sn1990n.m14.dat', './Ia/sn1999aa.p19.dat', './Ia/sn1990n.p14.dat', './Ia/sn1999aa.p25.dat', './Ia/sn1986g.m03.dat', './Ia/sn1992a.p37.dat', './Ia/sn2001ay.p01.dat', './Ia/sn1999aa.p58.dat', './Ia/sn1992a.p09.dat', './Ia/sn1991bg.p30.dat', './Ia/sn1994d.p25.dat', './Ia/sn1981b.p17.dat', './Ia/sn1999aa.p40.dat', './Ia/sn2002bo.m13.dat', './Ia/sn1999aa.p14.dat', './Ia/sn1996x.p32.dat', './Ia/sn1989b.m07.dat', './Ia/sn1990n.p07.dat', './Ia/sn1999ee.m08.dat', './Ia/sn2002bo.m05.dat', './Ia/sn1981b.p58.dat', './Ia/sn1999aa.m07.dat', './Ia/sn1981b.p49.dat', './Ia/sn1991bg.max.dat~', './Ia/sn1992a.p06.dat', './Ia/sn1996x.p23.dat', './Ia/sn1999ee.p28.dat', './Ia/sn1994d.m09.dat', './Ia/sn1999ee.p23.dat', './Ia/sn1990n.p17.dat', './Ia/README', './Ia/sn1989b.p13.dat', './Ia/sn1994d.p04.dat', './Ia/sn1991t.p24.dat', './Ia/sn1994d.m08.dat', './Ia/sn1992a.p17.dat', './Ia/sn1986g.m04.dat', './Ia/sn1994d.p14.dat', './Ia/sn1989b.p14.dat', './Ia/sn1992a.p05.dat', './Ia/sn1999ee.p20.dat', './Ia/sn1991bg.p13.dat', './Ia/sn1991bg.p105.dat', './Ia/sn1991bg.p44.dat', './Ia/sn1992a.p76.dat', './Ia/sn1999aa.p28.dat', './Ia/sn1996x.p02.dat', './Ia/sn1999ac.p16.dat', './Ia/sn1999ee.p42.dat', './Ia/sn1989b.m05.dat', './Ia/sn1986g.p102.dat', './Ia/sn1999ac.max.dat', './Ia/sn1999ee.m01.dat', './Ia/sn1989b.p11.dat', './Ia/sn1994d.m10.dat', './Ia/sn1999aa.m03.dat', './Ia/sn1992a.p16.dat', './Ia/sn1994d.p05.dat', './Ia/sn1999aa.p05.dat', './Ia/sn1999aa.p47.dat', './Ia/sn1998aq.m08.dat', './Ia/sn2001ay.max.dat', './Ia/sn1999aa.p51.dat', './Ia/sn2003du.m11.dat', './Ia/sn2003du.p13.dat', './Ia/sn1991t.p15.dat', './Ia/sn1998bu.m04.dat', './Ia/sn1999ee.p17.dat', './Ia/sn1981b.p64.dat', './Ia/sn1994d.p02.dat', './Ia/sn2010zz.p100.dat', './Ia/sn1992a.m01.dat', './Ia/sn1999aa.p06.dat', './Ia/sn1991bg.p16.dat', './Ia/sn1992a.p46.dat', './Ia/sn1990n.p03.dat', './Ia/sn1992a.p24.dat', './Ia/sn1992a.m05.dat', './Ia/sn1990n.m07.dat', './Ia/sn1999ee.p33.dat', './Ia/.DS_Store', './Ia/CVS/Root', './Ia/CVS/Entries', './Ia/CVS/Repository', './Ib/sn2002ao.p05.dat', './Ib/sn1983V.p18.dat', './Ib/sn2008d.p13.dat', './Ib/sn1999di.p45.dat', './Ib/sn1984L.p73.dat', './Ib/sn2002ao.p03.dat', './Ib/sn1987M.p07.dat', './Ib/sn1984L.p34.dat', './Ib/sn2008d.m17.dat', './Ib/sn2005e.p06.dat', './Ib/sn2006jc.p21.dat', './Ib/sn2005e.p26.dat', './Ib/sn1998dt.p33.dat', './Ib/sn2005la.u23.dat', './Ib/sn2006jc.p35.dat', './Ib/sn2000er.u03.dat', './Ib/sn2008d.p40.dat', './Ib/sn2008d.p18.dat', './Ib/sn1983V.m09.dat', './Ib/sn2006jc.p36.dat', './Ib/sn2006jc.p33.dat', './Ib/sn2000er.u06.dat', './Ib/sn1991ar.u16.dat', './Ib/sn1999dn.p38.dat', './Ib/sn2008d.p62.dat', './Ib/sn1990u.p70.dat', './Ib/sn1983N.p04.dat', './Ib/sn1999ex.p14.dat', './Ib/sn1999dn.p10.dat', './Ib/sn2006jc.p37.dat', './Ib/sn2008d.p29.dat', './Ib/sn2008d.m13.dat', './Ib/sn1990u.p12.dat', './Ib/sn1983V.p38.dat', './Ib/sn2008d.p04.dat', './Ib/sn2000er.u07.dat', './Ib/sn1984L.p14.dat', './Ib/sn1999ex.p05.dat', './Ib/sn2006jc.p39.dat', './Ib/sn2006jc.p25.dat', './Ib/sn2005la.u10.dat', './Ib/sn2000h.p30.dat', './Ib/sn2006jc.p54.dat', './Ib/sn2008d.m10.dat', './Ib/sn2008d.p11.dat', './Ib/sn1984L.p30.dat', './Ib/sn1999dn.p17.dat', './Ib/sn2008d.p14.dat', './Ib/sn2008d.m14.dat', './Ib/sn2006jc.p34.dat', './Ib/sn2005e.p59.dat', './Ib/sn1996cb.u63.dat', './Ib/sn1999di.p21.dat', './Ib/sn2008d.m12.dat', './Ib/sn1997dd.u00.dat', './Ib/sn2008d.p03.dat', './Ib/sn2006jc.p84.dat', './Ib/sn1998dt.p08.dat', './Ib/sn2008d.p30.dat', './Ib/sn2006jc.p67.dat', './Ib/sn1999ex.max.dat', './Ib/sn2008d.m07.dat', './Ib/sn2005la.u11.dat', './Ib/sn1984L.p10.dat', './Ib/sn2000er.u04.dat', './Ib/sn2000er.u02.dat', './Ib/sn1983N.p12.dat', './Ib/sn2002ao.p12.dat', './Ib/sn1983V.p12.dat', './Ib/sn1990u.p41.dat', './Ib/sn2005la.u05.dat', './Ib/sn1984L.p11.dat', './Ic/sn1997ef.p108.dat', './Ic/sn2002ap.m07.dat', './Ic/sn1998bw.p13.dat', './Ic/sn1994I.max.dat', './Ic/sn1991a.u11.dat', './Ic/sn1991n.u251.dat', './Ic/sn1998bw.p19.dat', './Ic/sn1994I.p11.dat', './Ic/sn1991n.u28.dat', './Ic/sn1990b.p39.dat', './Ic/sn1997ef.p51.dat', './Ic/sn1991a.u48.dat', './Ic/sn1991a.u00.dat', './Ic/sn1991k.u14.dat', './Ic/sn1991a.u17.dat', './Ic/sn1997ef.p89.dat', './Ic/sn1997c.u00.dat', './Ic/sn2002ap.p15.dat', './Ic/sn1999bv.u00.dat', './Ic/sn1997ei.u11.dat', './Ic/sn1998bw.p22.dat', './Ic/sn1990b.p22.dat', './Ic/sn1998bw.m06.dat', './Ic/sn1997ef.p40.dat', './Ic/sn1998bw.p01.dat', './Ic/sn1990b.p04.dat', './Ic/sn1990aa.u62.dat', './Ic/sn2002ap.p20.dat', './Ic/sn1990aa.u00.dat', './Ic/sn1991l.u00.dat', './Ic/sn2002ap.p08.dat', './Ic/sn2002ap.max.dat', './Ic/sn1994I.p01.dat', './Ic/sn1997dq.u61.dat', './Ic/sn2002ap.p14.dat', './Ic/sn1988l.u00.dat', './Ic/sn1995f.u89.dat', './Ic/sn1994I.m05.dat', './Ic/sn1998bw.p04.dat', './Ic/sn1998bw.m03.dat', './Ic/sn2002ap.p05.dat', './Ic/sn1998bw.p06.dat', './Ic/sn1995bb.u00.dat', './Ic/sn1990aa.u118.dat', './Ic/sn1998bw.p09.dat', './Ic/sn1994I.p02.dat', './Ic/sn1995f.u29.dat', './Ic/sn1998bw.m07.dat', './Ic/sn1995f.u00.dat', './Ic/sn1988l.u48.dat', './Ic/sn1999p.u01.dat', './Ic/sn1997dq.u202.dat', './Ic/sn1990b.p65.dat', './Ic/sn1998bw.p29.dat', './Ic/sn2002ap.p29.dat', './Ic/sn1998bw.m02.dat', './Ic/sn1995f.u57.dat', './Ic/sn1997dq.u00.dat', './Ic/sn1991n.u00.dat', './II/sn2004et.p367.dat', './II/sn1980K.p12.dat', './II/sn2005cp.u53.dat', './II/sn2005cs.p58.dat', './II/sn1979C.p72.dat', './II/theory99em.p15.dat', './II/sn2005cs.p41.dat', './II/sn1999em.p20.dat', './II/sn1998S.p02.dat', './II/sn2005cs.p01.dat', './II/sn2004et.p323.dat', './II/theory99em.p30.dat', './II/sn2005cl.p70.dat', './II/theory99em.45.dat', './II/sn2005cl.p44.dat', './II/theory99em.p05.dat', './II/sn2004et.p71.dat', './II/theory99em.p25.dat', './II/sn2005cs.p02.dat', './II/sn2005cs.p33.dat~', './II/sn1979C.p07.dat', './II/sn2004et.p160.dat', './II/sn2008ax.p35.dat', './II/sn1984E.p04.dat', './II/sn1993W.p21.dat', './II/sn1984E.p59.dat', './II/sn2004et.p265.dat', './II/sn2004et.p248.dat', './II/sn1987a.m64.dat', './II/sn1998S.p11.dat', './II/sn2004et.p76.dat', './II/sn1986I.p50.dat', './II/sn1987a.max.dat', './II/sn2005cp.u79.dat', './II/sn2008ax.m12.dat', './II/sn2005cs.p14.dat', './II/sn1987a.p113.dat', './II/sn1987K.p07.dat', './II/sn2008ax.p15.dat', './II/sn1987a.m84.dat', './II/theory99em.p45.dat', './II/sn1993j.p23.dat', './II/sn2005bx.p46.dat', './II/sn1979C.p11.dat', './II/sn2005cs.max.dat', './II/sn2005cp.u125.dat', './II/sn2004et.p384.dat', './II/sn1987B.p07.dat', './II/sn2005cs.p31.dat', './II/sn1993j.p17.dat', './II/sn1999em.p15.dat', './II/sn2005cs.p33.dat', './II/sn2004et.p47.dat', './II/sn1979C.p43.dat', './II/sn2005cp.u25.dat', './II/sn1999em.p36.dat', './II/sn1999em.p75.dat', './II/sn1993j.p02.dat', './II/sn2004et.p45.dat', './II/sn1993j.p116.dat', './II/sn2004et.p106.dat', './II/sn1980K.p41.dat', './II/sn1980K.p07.dat', './II/sn1993W.p99.dat', './II/sn1986I.p19.dat', './II/sn1998S.m02.dat', './II/sn2005db.p40.dat', './II/sn1993W.p04.dat', './II/sn2005cl.p15.dat', './II/theory99em.p35.dat', './II/sn2005db.p86.dat', './II/sn1993j.p60.dat', './II/sn2004et.p95.dat', './II/sn1997cy.u31.dat', './II/theory99em.p40.dat', './II/sn2005db.p15.dat', './II/sn1999em.p09.dat', './II/theory99em.p10.dat', './II/sn2004et.p391.dat', './II/sn1986I.p83.dat', './II/theory99em.p20.dat', './II/sn1988z.u00.dat', './II/sn1988A.p03.dat', './II/sn2005cs.p11.dat', './II/sn2005cs.p05.dat', './II/sn2008ax.m06.dat', './II/sn2005bx.p11.dat', './II/sn2004et.p169.dat', './II/sn2005cp.u201.dat', './II/sn1998S.m13.dat', './II/sn1999em.p04.dat', './II/sn2005cs.p06.dat', './II/sn1999em.p137.dat', './II/sn2005cs.p59.dat', './II/sn1999em.max.dat', './II/CVS/Repository', './II/CVS/Entries', './II/CVS/Root', './plots/raw_spectrum_sn1999ee.pdf', './plots/processed_spectrum_sn1999ee.pdf', './plots/processed_spectrum_sn1999ac.pdf', './plots/raw_spectrum_sn1999ac.pdf', './plots/raw_spectrum_sn1999aa.pdf', './plots/processed_spectrum_sn1999aa.pdf', './plots/processed_spectrum_sn2002bo.pdf', './plots/raw_spectrum_sn2002bo.pdf', './plots/raw_spectrum_sn1986g.pdf', './plots/raw_spectrum_sn1996x.pdf', './plots/processed_spectrum_sn1989b.pdf', './plots/processed_spectrum_sn1986g.pdf', './plots/processed_spectrum_sn1996x.pdf', './plots/raw_spectrum_sn1989b.pdf', './plots/raw_spectrum_sn1998aq.pdf', './plots/processed_spectrum_sn2001ay.pdf', './plots/raw_spectrum_sn2001ay.pdf', './plots/processed_spectrum_sn1998aq.pdf', './plots/processed_spectrum_sn2003du.pdf', './plots/raw_spectrum_sn2003du.pdf', './plots/raw_spectrum_sn1991t.pdf', './plots/processed_spectrum_sn1991t.pdf', './plots/processed_spectrum_sn1998bu.pdf', './plots/raw_spectrum_sn1998bu.pdf', './plots/raw_spectrum_sn1981b.pdf', './plots/processed_spectrum_sn1981b.pdf', './plots/processed_spectrum_sn1994d.pdf', './plots/raw_spectrum_sn1994d.pdf', './plots/raw_spectrum_sn2010zz.pdf', './plots/processed_spectrum_sn2010zz.pdf', './plots/raw_spectrum_sn1991bg.pdf', './plots/processed_spectrum_sn1991bg.pdf', './plots/raw_spectrum_sn1992a.pdf', './plots/processed_spectrum_sn1992a.pdf', './plots/raw_spectrum_sn1990n.pdf', './plots/processed_spectrum_sn1990n.pdf', './plots/raw_spectrum_sn1987M.pdf', './plots/processed_spectrum_sn1987M.pdf', './plots/raw_spectrum_sn2000h.pdf', './plots/processed_spectrum_sn2000h.pdf', './plots/raw_spectrum_sn1999dn.pdf', './plots/processed_spectrum_sn1999dn.pdf', './plots/processed_spectrum_sn2005e.pdf', './plots/raw_spectrum_sn2005e.pdf', './plots/raw_spectrum_sn1999di.pdf', './plots/processed_spectrum_sn1999di.pdf', './plots/raw_spectrum_sn2006jc.pdf', './plots/raw_spectrum_sn1998dt.pdf', './plots/processed_spectrum_sn1998dt.pdf', './plots/processed_spectrum_sn2006jc.pdf', './plots/raw_spectrum_sn1999ex.pdf', './plots/raw_spectrum_sn2008d.pdf', './plots/processed_spectrum_sn1999ex.pdf', './plots/processed_spectrum_sn2008d.pdf', './plots/raw_spectrum_sn1983N.pdf', './plots/processed_spectrum_sn1983N.pdf', './plots/raw_spectrum_sn2002ao.pdf', './plots/processed_spectrum_sn1983V.pdf', './plots/raw_spectrum_sn1983V.pdf', './plots/processed_spectrum_sn2002ao.pdf', './plots/raw_spectrum_sn1990u.pdf', './plots/processed_spectrum_sn1990u.pdf', './plots/raw_spectrum_sn1984L.pdf', './plots/processed_spectrum_sn1984L.pdf', './plots/processed_spectrum_sn1997ef.pdf', './plots/raw_spectrum_sn1997ef.pdf', './plots/raw_spectrum_sn1994I.pdf', './plots/processed_spectrum_sn1994I.pdf', './plots/raw_spectrum_sn1990b.pdf', './plots/processed_spectrum_sn1990b.pdf', './plots/processed_spectrum_sn2002ap.pdf', './plots/raw_spectrum_sn2002ap.pdf', './plots/processed_spectrum_sn1998bw.pdf', './plots/raw_spectrum_sn1998bw.pdf', './plots/raw_spectrum_sn1984E.pdf', './plots/processed_spectrum_sn1984E.pdf', './plots/raw_spectrum_sn1987K.pdf', './plots/processed_spectrum_sn1987K.pdf', './plots/raw_spectrum_sn1987a.pdf', './plots/processed_spectrum_sn1987a.pdf', './plots/raw_spectrum_sn1987B.pdf', './plots/processed_spectrum_sn1987B.pdf', './plots/processed_spectrum_sn1979C.pdf', './plots/raw_spectrum_sn1979C.pdf', './plots/raw_spectrum_sn1980K.pdf', './plots/processed_spectrum_sn1980K.pdf', './plots/processed_spectrum_sn1993W.pdf', './plots/raw_spectrum_sn1993W.pdf', './plots/processed_spectrum_sn2005cl.pdf', './plots/raw_spectrum_sn2005cl.pdf', './plots/raw_spectrum_sn1993j.pdf', './plots/processed_spectrum_sn1993j.pdf', './plots/raw_spectrum_sn2005db.pdf', './plots/processed_spectrum_sn2005db.pdf', './plots/raw_spectrum_sn1986I.pdf', './plots/processed_spectrum_sn1986I.pdf', './plots/raw_spectrum_theory99em.pdf', './plots/processed_spectrum_theory99em.pdf', './plots/raw_spectrum_sn1988A.pdf', './plots/processed_spectrum_sn1988A.pdf', './plots/raw_spectrum_sn2008ax.pdf', './plots/raw_spectrum_sn2005bx.pdf', './plots/processed_spectrum_sn2008ax.pdf', './plots/processed_spectrum_sn2005bx.pdf', './plots/raw_spectrum_sn2004et.pdf', './plots/processed_spectrum_sn2004et.pdf', './plots/raw_spectrum_sn1998S.pdf', './plots/processed_spectrum_sn1998S.pdf', './plots/processed_spectrum_sn2005cs.pdf', './plots/raw_spectrum_sn1999em.pdf', './plots/raw_spectrum_sn2005cs.pdf', './plots/processed_spectrum_sn1999em.pdf']\n"
          ]
        }
      ],
      "source": [
        "# Get filenames\n",
        "filepaths = []\n",
        "for subdir, dirs, files in os.walk('.'):\n",
        "    for file in files:\n",
        "        filepaths.append(os.path.join(subdir, file))\n",
        "print(filepaths)"
      ]
    },
    {
      "cell_type": "code",
      "execution_count": null,
      "metadata": {
        "colab": {
          "base_uri": "https://localhost:8080/",
          "height": 1000
        },
        "id": "fn-6hKVNVSCD",
        "outputId": "4fd6ef0b-7bf7-479f-a62e-611e8a88d8c1",
        "cellView": "form"
      },
      "outputs": [
        {
          "output_type": "stream",
          "name": "stdout",
          "text": [
            "./Ia/sn1989b.p18.dat\n"
          ]
        },
        {
          "output_type": "stream",
          "name": "stderr",
          "text": [
            "<ipython-input-10-9c27abae6a2f>:81: FutureWarning: The 'delim_whitespace' keyword in pd.read_csv is deprecated and will be removed in a future version. Use ``sep='\\s+'`` instead\n",
            "  data = pd.read_csv(filepath, names=['wavelength', 'flux'], delim_whitespace=True)\n"
          ]
        },
        {
          "output_type": "stream",
          "name": "stdout",
          "text": [
            "./Ia/sn1989b.p08.dat\n"
          ]
        },
        {
          "output_type": "stream",
          "name": "stderr",
          "text": [
            "<ipython-input-10-9c27abae6a2f>:81: FutureWarning: The 'delim_whitespace' keyword in pd.read_csv is deprecated and will be removed in a future version. Use ``sep='\\s+'`` instead\n",
            "  data = pd.read_csv(filepath, names=['wavelength', 'flux'], delim_whitespace=True)\n"
          ]
        },
        {
          "output_type": "stream",
          "name": "stdout",
          "text": [
            "./Ia/sn1989b.p17.dat\n"
          ]
        },
        {
          "output_type": "stream",
          "name": "stderr",
          "text": [
            "<ipython-input-10-9c27abae6a2f>:81: FutureWarning: The 'delim_whitespace' keyword in pd.read_csv is deprecated and will be removed in a future version. Use ``sep='\\s+'`` instead\n",
            "  data = pd.read_csv(filepath, names=['wavelength', 'flux'], delim_whitespace=True)\n"
          ]
        },
        {
          "output_type": "stream",
          "name": "stdout",
          "text": [
            "./Ia/sn1998aq.p19.dat\n"
          ]
        },
        {
          "output_type": "stream",
          "name": "stderr",
          "text": [
            "<ipython-input-10-9c27abae6a2f>:81: FutureWarning: The 'delim_whitespace' keyword in pd.read_csv is deprecated and will be removed in a future version. Use ``sep='\\s+'`` instead\n",
            "  data = pd.read_csv(filepath, names=['wavelength', 'flux'], delim_whitespace=True)\n"
          ]
        },
        {
          "output_type": "stream",
          "name": "stdout",
          "text": [
            "./Ia/sn1996x.p57.dat\n"
          ]
        },
        {
          "output_type": "stream",
          "name": "stderr",
          "text": [
            "<ipython-input-10-9c27abae6a2f>:81: FutureWarning: The 'delim_whitespace' keyword in pd.read_csv is deprecated and will be removed in a future version. Use ``sep='\\s+'`` instead\n",
            "  data = pd.read_csv(filepath, names=['wavelength', 'flux'], delim_whitespace=True)\n"
          ]
        },
        {
          "output_type": "stream",
          "name": "stdout",
          "text": [
            "./Ia/sn1989b.p09.dat\n"
          ]
        },
        {
          "output_type": "stream",
          "name": "stderr",
          "text": [
            "<ipython-input-10-9c27abae6a2f>:81: FutureWarning: The 'delim_whitespace' keyword in pd.read_csv is deprecated and will be removed in a future version. Use ``sep='\\s+'`` instead\n",
            "  data = pd.read_csv(filepath, names=['wavelength', 'flux'], delim_whitespace=True)\n"
          ]
        },
        {
          "output_type": "stream",
          "name": "stdout",
          "text": [
            "./Ia/sn1991bg.p52.dat\n"
          ]
        },
        {
          "output_type": "stream",
          "name": "stderr",
          "text": [
            "<ipython-input-10-9c27abae6a2f>:81: FutureWarning: The 'delim_whitespace' keyword in pd.read_csv is deprecated and will be removed in a future version. Use ``sep='\\s+'`` instead\n",
            "  data = pd.read_csv(filepath, names=['wavelength', 'flux'], delim_whitespace=True)\n"
          ]
        },
        {
          "output_type": "stream",
          "name": "stdout",
          "text": [
            "./Ia/sn1991bg.p23.dat\n"
          ]
        },
        {
          "output_type": "stream",
          "name": "stderr",
          "text": [
            "<ipython-input-10-9c27abae6a2f>:81: FutureWarning: The 'delim_whitespace' keyword in pd.read_csv is deprecated and will be removed in a future version. Use ``sep='\\s+'`` instead\n",
            "  data = pd.read_csv(filepath, names=['wavelength', 'flux'], delim_whitespace=True)\n"
          ]
        },
        {
          "output_type": "stream",
          "name": "stdout",
          "text": [
            "./Ia/sn1989b.p03.dat\n"
          ]
        },
        {
          "output_type": "stream",
          "name": "stderr",
          "text": [
            "<ipython-input-10-9c27abae6a2f>:81: FutureWarning: The 'delim_whitespace' keyword in pd.read_csv is deprecated and will be removed in a future version. Use ``sep='\\s+'`` instead\n",
            "  data = pd.read_csv(filepath, names=['wavelength', 'flux'], delim_whitespace=True)\n"
          ]
        },
        {
          "output_type": "stream",
          "name": "stdout",
          "text": [
            "./Ia/sn2001ay.p09.dat\n"
          ]
        },
        {
          "output_type": "stream",
          "name": "stderr",
          "text": [
            "<ipython-input-10-9c27abae6a2f>:81: FutureWarning: The 'delim_whitespace' keyword in pd.read_csv is deprecated and will be removed in a future version. Use ``sep='\\s+'`` instead\n",
            "  data = pd.read_csv(filepath, names=['wavelength', 'flux'], delim_whitespace=True)\n"
          ]
        },
        {
          "output_type": "stream",
          "name": "stdout",
          "text": [
            "./Ia/sn1981b.p20.dat\n"
          ]
        },
        {
          "output_type": "stream",
          "name": "stderr",
          "text": [
            "<ipython-input-10-9c27abae6a2f>:81: FutureWarning: The 'delim_whitespace' keyword in pd.read_csv is deprecated and will be removed in a future version. Use ``sep='\\s+'`` instead\n",
            "  data = pd.read_csv(filepath, names=['wavelength', 'flux'], delim_whitespace=True)\n"
          ]
        },
        {
          "output_type": "stream",
          "name": "stdout",
          "text": [
            "./Ia/sn1994d.p20.dat\n"
          ]
        },
        {
          "output_type": "stream",
          "name": "stderr",
          "text": [
            "<ipython-input-10-9c27abae6a2f>:81: FutureWarning: The 'delim_whitespace' keyword in pd.read_csv is deprecated and will be removed in a future version. Use ``sep='\\s+'`` instead\n",
            "  data = pd.read_csv(filepath, names=['wavelength', 'flux'], delim_whitespace=True)\n"
          ]
        },
        {
          "output_type": "stream",
          "name": "stdout",
          "text": [
            "./Ia/sn1990n.p38.dat\n"
          ]
        },
        {
          "output_type": "stream",
          "name": "stderr",
          "text": [
            "<ipython-input-10-9c27abae6a2f>:81: FutureWarning: The 'delim_whitespace' keyword in pd.read_csv is deprecated and will be removed in a future version. Use ``sep='\\s+'`` instead\n",
            "  data = pd.read_csv(filepath, names=['wavelength', 'flux'], delim_whitespace=True)\n"
          ]
        },
        {
          "output_type": "stream",
          "name": "stdout",
          "text": [
            "./Ia/sn1989b.p19.dat\n"
          ]
        },
        {
          "output_type": "stream",
          "name": "stderr",
          "text": [
            "<ipython-input-10-9c27abae6a2f>:81: FutureWarning: The 'delim_whitespace' keyword in pd.read_csv is deprecated and will be removed in a future version. Use ``sep='\\s+'`` instead\n",
            "  data = pd.read_csv(filepath, names=['wavelength', 'flux'], delim_whitespace=True)\n"
          ]
        },
        {
          "output_type": "stream",
          "name": "stdout",
          "text": [
            "./Ia/sn2001ay.p21.dat\n"
          ]
        },
        {
          "output_type": "stream",
          "name": "stderr",
          "text": [
            "<ipython-input-10-9c27abae6a2f>:81: FutureWarning: The 'delim_whitespace' keyword in pd.read_csv is deprecated and will be removed in a future version. Use ``sep='\\s+'`` instead\n",
            "  data = pd.read_csv(filepath, names=['wavelength', 'flux'], delim_whitespace=True)\n"
          ]
        },
        {
          "output_type": "stream",
          "name": "stdout",
          "text": [
            "./Ia/sn2002bo.m01.dat\n"
          ]
        },
        {
          "output_type": "stream",
          "name": "stderr",
          "text": [
            "<ipython-input-10-9c27abae6a2f>:81: FutureWarning: The 'delim_whitespace' keyword in pd.read_csv is deprecated and will be removed in a future version. Use ``sep='\\s+'`` instead\n",
            "  data = pd.read_csv(filepath, names=['wavelength', 'flux'], delim_whitespace=True)\n"
          ]
        },
        {
          "output_type": "stream",
          "name": "stdout",
          "text": [
            "./Ia/sn2001ay.p26.dat\n"
          ]
        },
        {
          "output_type": "stream",
          "name": "stderr",
          "text": [
            "<ipython-input-10-9c27abae6a2f>:81: FutureWarning: The 'delim_whitespace' keyword in pd.read_csv is deprecated and will be removed in a future version. Use ``sep='\\s+'`` instead\n",
            "  data = pd.read_csv(filepath, names=['wavelength', 'flux'], delim_whitespace=True)\n"
          ]
        },
        {
          "output_type": "stream",
          "name": "stdout",
          "text": [
            "./Ia/sn1989b.p16.dat\n"
          ]
        },
        {
          "output_type": "stream",
          "name": "stderr",
          "text": [
            "<ipython-input-10-9c27abae6a2f>:81: FutureWarning: The 'delim_whitespace' keyword in pd.read_csv is deprecated and will be removed in a future version. Use ``sep='\\s+'`` instead\n",
            "  data = pd.read_csv(filepath, names=['wavelength', 'flux'], delim_whitespace=True)\n"
          ]
        },
        {
          "output_type": "stream",
          "name": "stdout",
          "text": [
            "./Ia/sn1994d.m05.dat\n"
          ]
        },
        {
          "output_type": "stream",
          "name": "stderr",
          "text": [
            "<ipython-input-10-9c27abae6a2f>:81: FutureWarning: The 'delim_whitespace' keyword in pd.read_csv is deprecated and will be removed in a future version. Use ``sep='\\s+'`` instead\n",
            "  data = pd.read_csv(filepath, names=['wavelength', 'flux'], delim_whitespace=True)\n"
          ]
        },
        {
          "output_type": "stream",
          "name": "stdout",
          "text": [
            "./Ia/sn1991bg.max.dat\n"
          ]
        },
        {
          "output_type": "stream",
          "name": "stderr",
          "text": [
            "<ipython-input-10-9c27abae6a2f>:81: FutureWarning: The 'delim_whitespace' keyword in pd.read_csv is deprecated and will be removed in a future version. Use ``sep='\\s+'`` instead\n",
            "  data = pd.read_csv(filepath, names=['wavelength', 'flux'], delim_whitespace=True)\n"
          ]
        },
        {
          "output_type": "stream",
          "name": "stdout",
          "text": [
            "./Ia/sn1996x.m01.dat\n"
          ]
        },
        {
          "output_type": "stream",
          "name": "stderr",
          "text": [
            "<ipython-input-10-9c27abae6a2f>:81: FutureWarning: The 'delim_whitespace' keyword in pd.read_csv is deprecated and will be removed in a future version. Use ``sep='\\s+'`` instead\n",
            "  data = pd.read_csv(filepath, names=['wavelength', 'flux'], delim_whitespace=True)\n"
          ]
        },
        {
          "output_type": "stream",
          "name": "stdout",
          "text": [
            "./Ia/sn1991t.p45.dat\n"
          ]
        },
        {
          "output_type": "stream",
          "name": "stderr",
          "text": [
            "<ipython-input-10-9c27abae6a2f>:81: FutureWarning: The 'delim_whitespace' keyword in pd.read_csv is deprecated and will be removed in a future version. Use ``sep='\\s+'`` instead\n",
            "  data = pd.read_csv(filepath, names=['wavelength', 'flux'], delim_whitespace=True)\n"
          ]
        },
        {
          "output_type": "stream",
          "name": "stdout",
          "text": [
            "./Ia/sn2002bo.m11.dat\n"
          ]
        },
        {
          "output_type": "stream",
          "name": "stderr",
          "text": [
            "<ipython-input-10-9c27abae6a2f>:81: FutureWarning: The 'delim_whitespace' keyword in pd.read_csv is deprecated and will be removed in a future version. Use ``sep='\\s+'`` instead\n",
            "  data = pd.read_csv(filepath, names=['wavelength', 'flux'], delim_whitespace=True)\n"
          ]
        },
        {
          "output_type": "stream",
          "name": "stdout",
          "text": [
            "./Ia/sn1986g.p41.dat\n"
          ]
        },
        {
          "output_type": "stream",
          "name": "stderr",
          "text": [
            "<ipython-input-10-9c27abae6a2f>:81: FutureWarning: The 'delim_whitespace' keyword in pd.read_csv is deprecated and will be removed in a future version. Use ``sep='\\s+'`` instead\n",
            "  data = pd.read_csv(filepath, names=['wavelength', 'flux'], delim_whitespace=True)\n"
          ]
        },
        {
          "output_type": "stream",
          "name": "stdout",
          "text": [
            "./Ia/sn1998aq.p01.dat\n"
          ]
        },
        {
          "output_type": "stream",
          "name": "stderr",
          "text": [
            "<ipython-input-10-9c27abae6a2f>:81: FutureWarning: The 'delim_whitespace' keyword in pd.read_csv is deprecated and will be removed in a future version. Use ``sep='\\s+'`` instead\n",
            "  data = pd.read_csv(filepath, names=['wavelength', 'flux'], delim_whitespace=True)\n"
          ]
        },
        {
          "output_type": "stream",
          "name": "stdout",
          "text": [
            "./Ia/sn1986g.p44.dat\n"
          ]
        },
        {
          "output_type": "stream",
          "name": "stderr",
          "text": [
            "<ipython-input-10-9c27abae6a2f>:81: FutureWarning: The 'delim_whitespace' keyword in pd.read_csv is deprecated and will be removed in a future version. Use ``sep='\\s+'`` instead\n",
            "  data = pd.read_csv(filepath, names=['wavelength', 'flux'], delim_whitespace=True)\n"
          ]
        },
        {
          "output_type": "stream",
          "name": "stdout",
          "text": [
            "./Ia/sn1989b.p05.dat\n"
          ]
        },
        {
          "output_type": "stream",
          "name": "stderr",
          "text": [
            "<ipython-input-10-9c27abae6a2f>:81: FutureWarning: The 'delim_whitespace' keyword in pd.read_csv is deprecated and will be removed in a future version. Use ``sep='\\s+'`` instead\n",
            "  data = pd.read_csv(filepath, names=['wavelength', 'flux'], delim_whitespace=True)\n"
          ]
        },
        {
          "output_type": "stream",
          "name": "stdout",
          "text": [
            "./Ia/sn1994d.p18.dat\n"
          ]
        },
        {
          "output_type": "stream",
          "name": "stderr",
          "text": [
            "<ipython-input-10-9c27abae6a2f>:81: FutureWarning: The 'delim_whitespace' keyword in pd.read_csv is deprecated and will be removed in a future version. Use ``sep='\\s+'`` instead\n",
            "  data = pd.read_csv(filepath, names=['wavelength', 'flux'], delim_whitespace=True)\n"
          ]
        },
        {
          "output_type": "stream",
          "name": "stdout",
          "text": [
            "./Ia/sn1994d.m04.dat\n"
          ]
        },
        {
          "output_type": "stream",
          "name": "stderr",
          "text": [
            "<ipython-input-10-9c27abae6a2f>:81: FutureWarning: The 'delim_whitespace' keyword in pd.read_csv is deprecated and will be removed in a future version. Use ``sep='\\s+'`` instead\n",
            "  data = pd.read_csv(filepath, names=['wavelength', 'flux'], delim_whitespace=True)\n"
          ]
        },
        {
          "output_type": "stream",
          "name": "stdout",
          "text": [
            "./Ia/sn1989b.m01.dat\n"
          ]
        },
        {
          "output_type": "stream",
          "name": "stderr",
          "text": [
            "<ipython-input-10-9c27abae6a2f>:81: FutureWarning: The 'delim_whitespace' keyword in pd.read_csv is deprecated and will be removed in a future version. Use ``sep='\\s+'`` instead\n",
            "  data = pd.read_csv(filepath, names=['wavelength', 'flux'], delim_whitespace=True)\n"
          ]
        },
        {
          "output_type": "stream",
          "name": "stdout",
          "text": [
            "./Ia/sn1986g.p22.dat\n"
          ]
        },
        {
          "output_type": "stream",
          "name": "stderr",
          "text": [
            "<ipython-input-10-9c27abae6a2f>:81: FutureWarning: The 'delim_whitespace' keyword in pd.read_csv is deprecated and will be removed in a future version. Use ``sep='\\s+'`` instead\n",
            "  data = pd.read_csv(filepath, names=['wavelength', 'flux'], delim_whitespace=True)\n"
          ]
        },
        {
          "output_type": "stream",
          "name": "stdout",
          "text": [
            "./Ia/sn1998bu.p27.dat\n"
          ]
        },
        {
          "output_type": "stream",
          "name": "stderr",
          "text": [
            "<ipython-input-10-9c27abae6a2f>:81: FutureWarning: The 'delim_whitespace' keyword in pd.read_csv is deprecated and will be removed in a future version. Use ``sep='\\s+'`` instead\n",
            "  data = pd.read_csv(filepath, names=['wavelength', 'flux'], delim_whitespace=True)\n"
          ]
        },
        {
          "output_type": "stream",
          "name": "stdout",
          "text": [
            "./Ia/sn1992a.p11.dat\n"
          ]
        },
        {
          "output_type": "stream",
          "name": "stderr",
          "text": [
            "<ipython-input-10-9c27abae6a2f>:81: FutureWarning: The 'delim_whitespace' keyword in pd.read_csv is deprecated and will be removed in a future version. Use ``sep='\\s+'`` instead\n",
            "  data = pd.read_csv(filepath, names=['wavelength', 'flux'], delim_whitespace=True)\n"
          ]
        },
        {
          "output_type": "stream",
          "name": "stdout",
          "text": [
            "./Ia/sn1998aq.m09.dat\n"
          ]
        },
        {
          "output_type": "stream",
          "name": "stderr",
          "text": [
            "<ipython-input-10-9c27abae6a2f>:81: FutureWarning: The 'delim_whitespace' keyword in pd.read_csv is deprecated and will be removed in a future version. Use ``sep='\\s+'`` instead\n",
            "  data = pd.read_csv(filepath, names=['wavelength', 'flux'], delim_whitespace=True)\n"
          ]
        },
        {
          "output_type": "stream",
          "name": "stdout",
          "text": [
            "./Ia/sn1991t.p67.dat\n"
          ]
        },
        {
          "output_type": "stream",
          "name": "stderr",
          "text": [
            "<ipython-input-10-9c27abae6a2f>:81: FutureWarning: The 'delim_whitespace' keyword in pd.read_csv is deprecated and will be removed in a future version. Use ``sep='\\s+'`` instead\n",
            "  data = pd.read_csv(filepath, names=['wavelength', 'flux'], delim_whitespace=True)\n"
          ]
        },
        {
          "output_type": "stream",
          "name": "stdout",
          "text": [
            "./Ia/sn1994d.m07.dat\n"
          ]
        },
        {
          "output_type": "stream",
          "name": "stderr",
          "text": [
            "<ipython-input-10-9c27abae6a2f>:81: FutureWarning: The 'delim_whitespace' keyword in pd.read_csv is deprecated and will be removed in a future version. Use ``sep='\\s+'`` instead\n",
            "  data = pd.read_csv(filepath, names=['wavelength', 'flux'], delim_whitespace=True)\n"
          ]
        },
        {
          "output_type": "stream",
          "name": "stdout",
          "text": [
            "./Ia/sn1986g.m05.dat\n"
          ]
        },
        {
          "output_type": "stream",
          "name": "stderr",
          "text": [
            "<ipython-input-10-9c27abae6a2f>:81: FutureWarning: The 'delim_whitespace' keyword in pd.read_csv is deprecated and will be removed in a future version. Use ``sep='\\s+'`` instead\n",
            "  data = pd.read_csv(filepath, names=['wavelength', 'flux'], delim_whitespace=True)\n"
          ]
        },
        {
          "output_type": "stream",
          "name": "stdout",
          "text": [
            "./Ia/sn1991t.m08.dat\n"
          ]
        },
        {
          "output_type": "stream",
          "name": "stderr",
          "text": [
            "<ipython-input-10-9c27abae6a2f>:81: FutureWarning: The 'delim_whitespace' keyword in pd.read_csv is deprecated and will be removed in a future version. Use ``sep='\\s+'`` instead\n",
            "  data = pd.read_csv(filepath, names=['wavelength', 'flux'], delim_whitespace=True)\n"
          ]
        },
        {
          "output_type": "stream",
          "name": "stdout",
          "text": [
            "./Ia/sn1991t.max.dat\n"
          ]
        },
        {
          "output_type": "stream",
          "name": "stderr",
          "text": [
            "<ipython-input-10-9c27abae6a2f>:81: FutureWarning: The 'delim_whitespace' keyword in pd.read_csv is deprecated and will be removed in a future version. Use ``sep='\\s+'`` instead\n",
            "  data = pd.read_csv(filepath, names=['wavelength', 'flux'], delim_whitespace=True)\n"
          ]
        },
        {
          "output_type": "stream",
          "name": "stdout",
          "text": [
            "./Ia/sn1992a.p03.dat\n"
          ]
        },
        {
          "output_type": "stream",
          "name": "stderr",
          "text": [
            "<ipython-input-10-9c27abae6a2f>:81: FutureWarning: The 'delim_whitespace' keyword in pd.read_csv is deprecated and will be removed in a future version. Use ``sep='\\s+'`` instead\n",
            "  data = pd.read_csv(filepath, names=['wavelength', 'flux'], delim_whitespace=True)\n"
          ]
        },
        {
          "output_type": "stream",
          "name": "stdout",
          "text": [
            "./Ia/sn1989b.m02.dat\n"
          ]
        },
        {
          "output_type": "stream",
          "name": "stderr",
          "text": [
            "<ipython-input-10-9c27abae6a2f>:81: FutureWarning: The 'delim_whitespace' keyword in pd.read_csv is deprecated and will be removed in a future version. Use ``sep='\\s+'`` instead\n",
            "  data = pd.read_csv(filepath, names=['wavelength', 'flux'], delim_whitespace=True)\n"
          ]
        },
        {
          "output_type": "stream",
          "name": "stdout",
          "text": [
            "./Ia/sn1998bu.p10.dat\n"
          ]
        },
        {
          "output_type": "stream",
          "name": "stderr",
          "text": [
            "<ipython-input-10-9c27abae6a2f>:81: FutureWarning: The 'delim_whitespace' keyword in pd.read_csv is deprecated and will be removed in a future version. Use ``sep='\\s+'`` instead\n",
            "  data = pd.read_csv(filepath, names=['wavelength', 'flux'], delim_whitespace=True)\n"
          ]
        },
        {
          "output_type": "stream",
          "name": "stdout",
          "text": [
            "./Ia/sn1981b.max.dat\n"
          ]
        },
        {
          "output_type": "stream",
          "name": "stderr",
          "text": [
            "<ipython-input-10-9c27abae6a2f>:81: FutureWarning: The 'delim_whitespace' keyword in pd.read_csv is deprecated and will be removed in a future version. Use ``sep='\\s+'`` instead\n",
            "  data = pd.read_csv(filepath, names=['wavelength', 'flux'], delim_whitespace=True)\n"
          ]
        },
        {
          "output_type": "stream",
          "name": "stdout",
          "text": [
            "./Ia/sn1994d.p11.dat\n"
          ]
        },
        {
          "output_type": "stream",
          "name": "stderr",
          "text": [
            "<ipython-input-10-9c27abae6a2f>:81: FutureWarning: The 'delim_whitespace' keyword in pd.read_csv is deprecated and will be removed in a future version. Use ``sep='\\s+'`` instead\n",
            "  data = pd.read_csv(filepath, names=['wavelength', 'flux'], delim_whitespace=True)\n"
          ]
        },
        {
          "output_type": "stream",
          "name": "stdout",
          "text": [
            "./Ia/sn2001ay.p16.dat\n"
          ]
        },
        {
          "output_type": "stream",
          "name": "stderr",
          "text": [
            "<ipython-input-10-9c27abae6a2f>:81: FutureWarning: The 'delim_whitespace' keyword in pd.read_csv is deprecated and will be removed in a future version. Use ``sep='\\s+'`` instead\n",
            "  data = pd.read_csv(filepath, names=['wavelength', 'flux'], delim_whitespace=True)\n"
          ]
        },
        {
          "output_type": "stream",
          "name": "stdout",
          "text": [
            "./Ia/sn1998bu.m02.dat\n"
          ]
        },
        {
          "output_type": "stream",
          "name": "stderr",
          "text": [
            "<ipython-input-10-9c27abae6a2f>:81: FutureWarning: The 'delim_whitespace' keyword in pd.read_csv is deprecated and will be removed in a future version. Use ``sep='\\s+'`` instead\n",
            "  data = pd.read_csv(filepath, names=['wavelength', 'flux'], delim_whitespace=True)\n"
          ]
        },
        {
          "output_type": "stream",
          "name": "stdout",
          "text": [
            "./Ia/sn1989b.p12.dat\n"
          ]
        },
        {
          "output_type": "stream",
          "name": "stderr",
          "text": [
            "<ipython-input-10-9c27abae6a2f>:81: FutureWarning: The 'delim_whitespace' keyword in pd.read_csv is deprecated and will be removed in a future version. Use ``sep='\\s+'`` instead\n",
            "  data = pd.read_csv(filepath, names=['wavelength', 'flux'], delim_whitespace=True)\n"
          ]
        },
        {
          "output_type": "stream",
          "name": "stdout",
          "text": [
            "./Ia/sn1991t.p10.dat\n"
          ]
        },
        {
          "output_type": "stream",
          "name": "stderr",
          "text": [
            "<ipython-input-10-9c27abae6a2f>:81: FutureWarning: The 'delim_whitespace' keyword in pd.read_csv is deprecated and will be removed in a future version. Use ``sep='\\s+'`` instead\n",
            "  data = pd.read_csv(filepath, names=['wavelength', 'flux'], delim_whitespace=True)\n"
          ]
        },
        {
          "output_type": "stream",
          "name": "stdout",
          "text": [
            "./Ia/sn1981b.p26.dat\n"
          ]
        },
        {
          "output_type": "stream",
          "name": "stderr",
          "text": [
            "<ipython-input-10-9c27abae6a2f>:81: FutureWarning: The 'delim_whitespace' keyword in pd.read_csv is deprecated and will be removed in a future version. Use ``sep='\\s+'`` instead\n",
            "  data = pd.read_csv(filepath, names=['wavelength', 'flux'], delim_whitespace=True)\n"
          ]
        },
        {
          "output_type": "stream",
          "name": "stdout",
          "text": [
            "./Ia/sn1994d.p03.dat\n"
          ]
        },
        {
          "output_type": "stream",
          "name": "stderr",
          "text": [
            "<ipython-input-10-9c27abae6a2f>:81: FutureWarning: The 'delim_whitespace' keyword in pd.read_csv is deprecated and will be removed in a future version. Use ``sep='\\s+'`` instead\n",
            "  data = pd.read_csv(filepath, names=['wavelength', 'flux'], delim_whitespace=True)\n"
          ]
        },
        {
          "output_type": "stream",
          "name": "stdout",
          "text": [
            "./Ia/sn1992a.p07.dat\n"
          ]
        },
        {
          "output_type": "stream",
          "name": "stderr",
          "text": [
            "<ipython-input-10-9c27abae6a2f>:81: FutureWarning: The 'delim_whitespace' keyword in pd.read_csv is deprecated and will be removed in a future version. Use ``sep='\\s+'`` instead\n",
            "  data = pd.read_csv(filepath, names=['wavelength', 'flux'], delim_whitespace=True)\n"
          ]
        },
        {
          "output_type": "stream",
          "name": "stdout",
          "text": [
            "./Ia/sn1992a.p28.dat\n"
          ]
        },
        {
          "output_type": "stream",
          "name": "stderr",
          "text": [
            "<ipython-input-10-9c27abae6a2f>:81: FutureWarning: The 'delim_whitespace' keyword in pd.read_csv is deprecated and will be removed in a future version. Use ``sep='\\s+'`` instead\n",
            "  data = pd.read_csv(filepath, names=['wavelength', 'flux'], delim_whitespace=True)\n"
          ]
        },
        {
          "output_type": "stream",
          "name": "stdout",
          "text": [
            "./Ia/sn1998aq.p07.dat\n"
          ]
        },
        {
          "output_type": "stream",
          "name": "stderr",
          "text": [
            "<ipython-input-10-9c27abae6a2f>:81: FutureWarning: The 'delim_whitespace' keyword in pd.read_csv is deprecated and will be removed in a future version. Use ``sep='\\s+'`` instead\n",
            "  data = pd.read_csv(filepath, names=['wavelength', 'flux'], delim_whitespace=True)\n"
          ]
        },
        {
          "output_type": "stream",
          "name": "stdout",
          "text": [
            "./Ia/sn1994d.p16.dat\n"
          ]
        },
        {
          "output_type": "stream",
          "name": "stderr",
          "text": [
            "<ipython-input-10-9c27abae6a2f>:81: FutureWarning: The 'delim_whitespace' keyword in pd.read_csv is deprecated and will be removed in a future version. Use ``sep='\\s+'`` instead\n",
            "  data = pd.read_csv(filepath, names=['wavelength', 'flux'], delim_whitespace=True)\n"
          ]
        },
        {
          "output_type": "stream",
          "name": "stdout",
          "text": [
            "./Ia/sn1986g.p89.dat\n"
          ]
        },
        {
          "output_type": "stream",
          "name": "stderr",
          "text": [
            "<ipython-input-10-9c27abae6a2f>:81: FutureWarning: The 'delim_whitespace' keyword in pd.read_csv is deprecated and will be removed in a future version. Use ``sep='\\s+'`` instead\n",
            "  data = pd.read_csv(filepath, names=['wavelength', 'flux'], delim_whitespace=True)\n"
          ]
        },
        {
          "output_type": "stream",
          "name": "stdout",
          "text": [
            "./Ia/sn1981b.p35.dat\n"
          ]
        },
        {
          "output_type": "stream",
          "name": "stderr",
          "text": [
            "<ipython-input-10-9c27abae6a2f>:81: FutureWarning: The 'delim_whitespace' keyword in pd.read_csv is deprecated and will be removed in a future version. Use ``sep='\\s+'`` instead\n",
            "  data = pd.read_csv(filepath, names=['wavelength', 'flux'], delim_whitespace=True)\n"
          ]
        },
        {
          "output_type": "stream",
          "name": "stdout",
          "text": [
            "./Ia/sn1994d.p08.dat\n"
          ]
        },
        {
          "output_type": "stream",
          "name": "stderr",
          "text": [
            "<ipython-input-10-9c27abae6a2f>:81: FutureWarning: The 'delim_whitespace' keyword in pd.read_csv is deprecated and will be removed in a future version. Use ``sep='\\s+'`` instead\n",
            "  data = pd.read_csv(filepath, names=['wavelength', 'flux'], delim_whitespace=True)\n"
          ]
        },
        {
          "output_type": "stream",
          "name": "stdout",
          "text": [
            "./Ia/sn1986g.max.dat\n"
          ]
        },
        {
          "output_type": "stream",
          "name": "stderr",
          "text": [
            "<ipython-input-10-9c27abae6a2f>:81: FutureWarning: The 'delim_whitespace' keyword in pd.read_csv is deprecated and will be removed in a future version. Use ``sep='\\s+'`` instead\n",
            "  data = pd.read_csv(filepath, names=['wavelength', 'flux'], delim_whitespace=True)\n"
          ]
        },
        {
          "output_type": "stream",
          "name": "stdout",
          "text": [
            "./Ia/sn1989b.m03.dat\n"
          ]
        },
        {
          "output_type": "stream",
          "name": "stderr",
          "text": [
            "<ipython-input-10-9c27abae6a2f>:81: FutureWarning: The 'delim_whitespace' keyword in pd.read_csv is deprecated and will be removed in a future version. Use ``sep='\\s+'`` instead\n",
            "  data = pd.read_csv(filepath, names=['wavelength', 'flux'], delim_whitespace=True)\n"
          ]
        },
        {
          "output_type": "stream",
          "name": "stdout",
          "text": [
            "./Ia/sn2003du.m07.dat\n"
          ]
        },
        {
          "output_type": "stream",
          "name": "stderr",
          "text": [
            "<ipython-input-10-9c27abae6a2f>:81: FutureWarning: The 'delim_whitespace' keyword in pd.read_csv is deprecated and will be removed in a future version. Use ``sep='\\s+'`` instead\n",
            "  data = pd.read_csv(filepath, names=['wavelength', 'flux'], delim_whitespace=True)\n"
          ]
        },
        {
          "output_type": "stream",
          "name": "stdout",
          "text": [
            "./Ia/sn2002bo.m14.dat\n"
          ]
        },
        {
          "output_type": "stream",
          "name": "stderr",
          "text": [
            "<ipython-input-10-9c27abae6a2f>:81: FutureWarning: The 'delim_whitespace' keyword in pd.read_csv is deprecated and will be removed in a future version. Use ``sep='\\s+'`` instead\n",
            "  data = pd.read_csv(filepath, names=['wavelength', 'flux'], delim_whitespace=True)\n"
          ]
        },
        {
          "output_type": "stream",
          "name": "stdout",
          "text": [
            "./Ia/sn1990n.m14.dat\n"
          ]
        },
        {
          "output_type": "stream",
          "name": "stderr",
          "text": [
            "<ipython-input-10-9c27abae6a2f>:81: FutureWarning: The 'delim_whitespace' keyword in pd.read_csv is deprecated and will be removed in a future version. Use ``sep='\\s+'`` instead\n",
            "  data = pd.read_csv(filepath, names=['wavelength', 'flux'], delim_whitespace=True)\n"
          ]
        },
        {
          "output_type": "stream",
          "name": "stdout",
          "text": [
            "./Ia/sn1990n.p14.dat\n"
          ]
        },
        {
          "output_type": "stream",
          "name": "stderr",
          "text": [
            "<ipython-input-10-9c27abae6a2f>:81: FutureWarning: The 'delim_whitespace' keyword in pd.read_csv is deprecated and will be removed in a future version. Use ``sep='\\s+'`` instead\n",
            "  data = pd.read_csv(filepath, names=['wavelength', 'flux'], delim_whitespace=True)\n"
          ]
        },
        {
          "output_type": "stream",
          "name": "stdout",
          "text": [
            "./Ia/sn1986g.m03.dat\n"
          ]
        },
        {
          "output_type": "stream",
          "name": "stderr",
          "text": [
            "<ipython-input-10-9c27abae6a2f>:81: FutureWarning: The 'delim_whitespace' keyword in pd.read_csv is deprecated and will be removed in a future version. Use ``sep='\\s+'`` instead\n",
            "  data = pd.read_csv(filepath, names=['wavelength', 'flux'], delim_whitespace=True)\n"
          ]
        },
        {
          "output_type": "stream",
          "name": "stdout",
          "text": [
            "./Ia/sn1992a.p37.dat\n"
          ]
        },
        {
          "output_type": "stream",
          "name": "stderr",
          "text": [
            "<ipython-input-10-9c27abae6a2f>:81: FutureWarning: The 'delim_whitespace' keyword in pd.read_csv is deprecated and will be removed in a future version. Use ``sep='\\s+'`` instead\n",
            "  data = pd.read_csv(filepath, names=['wavelength', 'flux'], delim_whitespace=True)\n"
          ]
        },
        {
          "output_type": "stream",
          "name": "stdout",
          "text": [
            "./Ia/sn2001ay.p01.dat\n"
          ]
        },
        {
          "output_type": "stream",
          "name": "stderr",
          "text": [
            "<ipython-input-10-9c27abae6a2f>:81: FutureWarning: The 'delim_whitespace' keyword in pd.read_csv is deprecated and will be removed in a future version. Use ``sep='\\s+'`` instead\n",
            "  data = pd.read_csv(filepath, names=['wavelength', 'flux'], delim_whitespace=True)\n"
          ]
        },
        {
          "output_type": "stream",
          "name": "stdout",
          "text": [
            "./Ia/sn1992a.p09.dat\n"
          ]
        },
        {
          "output_type": "stream",
          "name": "stderr",
          "text": [
            "<ipython-input-10-9c27abae6a2f>:81: FutureWarning: The 'delim_whitespace' keyword in pd.read_csv is deprecated and will be removed in a future version. Use ``sep='\\s+'`` instead\n",
            "  data = pd.read_csv(filepath, names=['wavelength', 'flux'], delim_whitespace=True)\n"
          ]
        },
        {
          "output_type": "stream",
          "name": "stdout",
          "text": [
            "./Ia/sn1991bg.p30.dat\n"
          ]
        },
        {
          "output_type": "stream",
          "name": "stderr",
          "text": [
            "<ipython-input-10-9c27abae6a2f>:81: FutureWarning: The 'delim_whitespace' keyword in pd.read_csv is deprecated and will be removed in a future version. Use ``sep='\\s+'`` instead\n",
            "  data = pd.read_csv(filepath, names=['wavelength', 'flux'], delim_whitespace=True)\n"
          ]
        },
        {
          "output_type": "stream",
          "name": "stdout",
          "text": [
            "./Ia/sn1994d.p25.dat\n"
          ]
        },
        {
          "output_type": "stream",
          "name": "stderr",
          "text": [
            "<ipython-input-10-9c27abae6a2f>:81: FutureWarning: The 'delim_whitespace' keyword in pd.read_csv is deprecated and will be removed in a future version. Use ``sep='\\s+'`` instead\n",
            "  data = pd.read_csv(filepath, names=['wavelength', 'flux'], delim_whitespace=True)\n"
          ]
        },
        {
          "output_type": "stream",
          "name": "stdout",
          "text": [
            "./Ia/sn1981b.p17.dat\n"
          ]
        },
        {
          "output_type": "stream",
          "name": "stderr",
          "text": [
            "<ipython-input-10-9c27abae6a2f>:81: FutureWarning: The 'delim_whitespace' keyword in pd.read_csv is deprecated and will be removed in a future version. Use ``sep='\\s+'`` instead\n",
            "  data = pd.read_csv(filepath, names=['wavelength', 'flux'], delim_whitespace=True)\n"
          ]
        },
        {
          "output_type": "stream",
          "name": "stdout",
          "text": [
            "./Ia/sn2002bo.m13.dat\n"
          ]
        },
        {
          "output_type": "stream",
          "name": "stderr",
          "text": [
            "<ipython-input-10-9c27abae6a2f>:81: FutureWarning: The 'delim_whitespace' keyword in pd.read_csv is deprecated and will be removed in a future version. Use ``sep='\\s+'`` instead\n",
            "  data = pd.read_csv(filepath, names=['wavelength', 'flux'], delim_whitespace=True)\n"
          ]
        },
        {
          "output_type": "stream",
          "name": "stdout",
          "text": [
            "./Ia/sn1996x.p32.dat\n"
          ]
        },
        {
          "output_type": "stream",
          "name": "stderr",
          "text": [
            "<ipython-input-10-9c27abae6a2f>:81: FutureWarning: The 'delim_whitespace' keyword in pd.read_csv is deprecated and will be removed in a future version. Use ``sep='\\s+'`` instead\n",
            "  data = pd.read_csv(filepath, names=['wavelength', 'flux'], delim_whitespace=True)\n"
          ]
        },
        {
          "output_type": "stream",
          "name": "stdout",
          "text": [
            "./Ia/sn1989b.m07.dat\n"
          ]
        },
        {
          "output_type": "stream",
          "name": "stderr",
          "text": [
            "<ipython-input-10-9c27abae6a2f>:81: FutureWarning: The 'delim_whitespace' keyword in pd.read_csv is deprecated and will be removed in a future version. Use ``sep='\\s+'`` instead\n",
            "  data = pd.read_csv(filepath, names=['wavelength', 'flux'], delim_whitespace=True)\n"
          ]
        },
        {
          "output_type": "stream",
          "name": "stdout",
          "text": [
            "./Ia/sn1990n.p07.dat\n"
          ]
        },
        {
          "output_type": "stream",
          "name": "stderr",
          "text": [
            "<ipython-input-10-9c27abae6a2f>:81: FutureWarning: The 'delim_whitespace' keyword in pd.read_csv is deprecated and will be removed in a future version. Use ``sep='\\s+'`` instead\n",
            "  data = pd.read_csv(filepath, names=['wavelength', 'flux'], delim_whitespace=True)\n"
          ]
        },
        {
          "output_type": "stream",
          "name": "stdout",
          "text": [
            "./Ia/sn2002bo.m05.dat\n"
          ]
        },
        {
          "output_type": "stream",
          "name": "stderr",
          "text": [
            "<ipython-input-10-9c27abae6a2f>:81: FutureWarning: The 'delim_whitespace' keyword in pd.read_csv is deprecated and will be removed in a future version. Use ``sep='\\s+'`` instead\n",
            "  data = pd.read_csv(filepath, names=['wavelength', 'flux'], delim_whitespace=True)\n"
          ]
        },
        {
          "output_type": "stream",
          "name": "stdout",
          "text": [
            "./Ia/sn1981b.p58.dat\n"
          ]
        },
        {
          "output_type": "stream",
          "name": "stderr",
          "text": [
            "<ipython-input-10-9c27abae6a2f>:81: FutureWarning: The 'delim_whitespace' keyword in pd.read_csv is deprecated and will be removed in a future version. Use ``sep='\\s+'`` instead\n",
            "  data = pd.read_csv(filepath, names=['wavelength', 'flux'], delim_whitespace=True)\n"
          ]
        },
        {
          "output_type": "stream",
          "name": "stdout",
          "text": [
            "./Ia/sn1981b.p49.dat\n"
          ]
        },
        {
          "output_type": "stream",
          "name": "stderr",
          "text": [
            "<ipython-input-10-9c27abae6a2f>:81: FutureWarning: The 'delim_whitespace' keyword in pd.read_csv is deprecated and will be removed in a future version. Use ``sep='\\s+'`` instead\n",
            "  data = pd.read_csv(filepath, names=['wavelength', 'flux'], delim_whitespace=True)\n"
          ]
        },
        {
          "output_type": "stream",
          "name": "stdout",
          "text": [
            "./Ia/sn1992a.p06.dat\n"
          ]
        },
        {
          "output_type": "stream",
          "name": "stderr",
          "text": [
            "<ipython-input-10-9c27abae6a2f>:81: FutureWarning: The 'delim_whitespace' keyword in pd.read_csv is deprecated and will be removed in a future version. Use ``sep='\\s+'`` instead\n",
            "  data = pd.read_csv(filepath, names=['wavelength', 'flux'], delim_whitespace=True)\n"
          ]
        },
        {
          "output_type": "stream",
          "name": "stdout",
          "text": [
            "./Ia/sn1996x.p23.dat\n"
          ]
        },
        {
          "output_type": "stream",
          "name": "stderr",
          "text": [
            "<ipython-input-10-9c27abae6a2f>:81: FutureWarning: The 'delim_whitespace' keyword in pd.read_csv is deprecated and will be removed in a future version. Use ``sep='\\s+'`` instead\n",
            "  data = pd.read_csv(filepath, names=['wavelength', 'flux'], delim_whitespace=True)\n"
          ]
        },
        {
          "output_type": "stream",
          "name": "stdout",
          "text": [
            "./Ia/sn1994d.m09.dat\n"
          ]
        },
        {
          "output_type": "stream",
          "name": "stderr",
          "text": [
            "<ipython-input-10-9c27abae6a2f>:81: FutureWarning: The 'delim_whitespace' keyword in pd.read_csv is deprecated and will be removed in a future version. Use ``sep='\\s+'`` instead\n",
            "  data = pd.read_csv(filepath, names=['wavelength', 'flux'], delim_whitespace=True)\n"
          ]
        },
        {
          "output_type": "stream",
          "name": "stdout",
          "text": [
            "./Ia/sn1990n.p17.dat\n"
          ]
        },
        {
          "output_type": "stream",
          "name": "stderr",
          "text": [
            "<ipython-input-10-9c27abae6a2f>:81: FutureWarning: The 'delim_whitespace' keyword in pd.read_csv is deprecated and will be removed in a future version. Use ``sep='\\s+'`` instead\n",
            "  data = pd.read_csv(filepath, names=['wavelength', 'flux'], delim_whitespace=True)\n"
          ]
        },
        {
          "output_type": "stream",
          "name": "stdout",
          "text": [
            "./Ia/sn1989b.p13.dat\n"
          ]
        },
        {
          "output_type": "stream",
          "name": "stderr",
          "text": [
            "<ipython-input-10-9c27abae6a2f>:81: FutureWarning: The 'delim_whitespace' keyword in pd.read_csv is deprecated and will be removed in a future version. Use ``sep='\\s+'`` instead\n",
            "  data = pd.read_csv(filepath, names=['wavelength', 'flux'], delim_whitespace=True)\n"
          ]
        },
        {
          "output_type": "stream",
          "name": "stdout",
          "text": [
            "./Ia/sn1994d.p04.dat\n"
          ]
        },
        {
          "output_type": "stream",
          "name": "stderr",
          "text": [
            "<ipython-input-10-9c27abae6a2f>:81: FutureWarning: The 'delim_whitespace' keyword in pd.read_csv is deprecated and will be removed in a future version. Use ``sep='\\s+'`` instead\n",
            "  data = pd.read_csv(filepath, names=['wavelength', 'flux'], delim_whitespace=True)\n"
          ]
        },
        {
          "output_type": "stream",
          "name": "stdout",
          "text": [
            "./Ia/sn1991t.p24.dat\n"
          ]
        },
        {
          "output_type": "stream",
          "name": "stderr",
          "text": [
            "<ipython-input-10-9c27abae6a2f>:81: FutureWarning: The 'delim_whitespace' keyword in pd.read_csv is deprecated and will be removed in a future version. Use ``sep='\\s+'`` instead\n",
            "  data = pd.read_csv(filepath, names=['wavelength', 'flux'], delim_whitespace=True)\n"
          ]
        },
        {
          "output_type": "stream",
          "name": "stdout",
          "text": [
            "./Ia/sn1994d.m08.dat\n"
          ]
        },
        {
          "output_type": "stream",
          "name": "stderr",
          "text": [
            "<ipython-input-10-9c27abae6a2f>:81: FutureWarning: The 'delim_whitespace' keyword in pd.read_csv is deprecated and will be removed in a future version. Use ``sep='\\s+'`` instead\n",
            "  data = pd.read_csv(filepath, names=['wavelength', 'flux'], delim_whitespace=True)\n"
          ]
        },
        {
          "output_type": "stream",
          "name": "stdout",
          "text": [
            "./Ia/sn1992a.p17.dat\n"
          ]
        },
        {
          "output_type": "stream",
          "name": "stderr",
          "text": [
            "<ipython-input-10-9c27abae6a2f>:81: FutureWarning: The 'delim_whitespace' keyword in pd.read_csv is deprecated and will be removed in a future version. Use ``sep='\\s+'`` instead\n",
            "  data = pd.read_csv(filepath, names=['wavelength', 'flux'], delim_whitespace=True)\n"
          ]
        },
        {
          "output_type": "stream",
          "name": "stdout",
          "text": [
            "./Ia/sn1986g.m04.dat\n"
          ]
        },
        {
          "output_type": "stream",
          "name": "stderr",
          "text": [
            "<ipython-input-10-9c27abae6a2f>:81: FutureWarning: The 'delim_whitespace' keyword in pd.read_csv is deprecated and will be removed in a future version. Use ``sep='\\s+'`` instead\n",
            "  data = pd.read_csv(filepath, names=['wavelength', 'flux'], delim_whitespace=True)\n"
          ]
        },
        {
          "output_type": "stream",
          "name": "stdout",
          "text": [
            "./Ia/sn1994d.p14.dat\n"
          ]
        },
        {
          "output_type": "stream",
          "name": "stderr",
          "text": [
            "<ipython-input-10-9c27abae6a2f>:81: FutureWarning: The 'delim_whitespace' keyword in pd.read_csv is deprecated and will be removed in a future version. Use ``sep='\\s+'`` instead\n",
            "  data = pd.read_csv(filepath, names=['wavelength', 'flux'], delim_whitespace=True)\n"
          ]
        },
        {
          "output_type": "stream",
          "name": "stdout",
          "text": [
            "./Ia/sn1989b.p14.dat\n"
          ]
        },
        {
          "output_type": "stream",
          "name": "stderr",
          "text": [
            "<ipython-input-10-9c27abae6a2f>:81: FutureWarning: The 'delim_whitespace' keyword in pd.read_csv is deprecated and will be removed in a future version. Use ``sep='\\s+'`` instead\n",
            "  data = pd.read_csv(filepath, names=['wavelength', 'flux'], delim_whitespace=True)\n"
          ]
        },
        {
          "output_type": "stream",
          "name": "stdout",
          "text": [
            "./Ia/sn1992a.p05.dat\n"
          ]
        },
        {
          "output_type": "stream",
          "name": "stderr",
          "text": [
            "<ipython-input-10-9c27abae6a2f>:81: FutureWarning: The 'delim_whitespace' keyword in pd.read_csv is deprecated and will be removed in a future version. Use ``sep='\\s+'`` instead\n",
            "  data = pd.read_csv(filepath, names=['wavelength', 'flux'], delim_whitespace=True)\n"
          ]
        },
        {
          "output_type": "stream",
          "name": "stdout",
          "text": [
            "./Ia/sn1991bg.p13.dat\n"
          ]
        },
        {
          "output_type": "stream",
          "name": "stderr",
          "text": [
            "<ipython-input-10-9c27abae6a2f>:81: FutureWarning: The 'delim_whitespace' keyword in pd.read_csv is deprecated and will be removed in a future version. Use ``sep='\\s+'`` instead\n",
            "  data = pd.read_csv(filepath, names=['wavelength', 'flux'], delim_whitespace=True)\n"
          ]
        },
        {
          "output_type": "stream",
          "name": "stdout",
          "text": [
            "./Ia/sn1991bg.p105.dat\n"
          ]
        },
        {
          "output_type": "stream",
          "name": "stderr",
          "text": [
            "<ipython-input-10-9c27abae6a2f>:81: FutureWarning: The 'delim_whitespace' keyword in pd.read_csv is deprecated and will be removed in a future version. Use ``sep='\\s+'`` instead\n",
            "  data = pd.read_csv(filepath, names=['wavelength', 'flux'], delim_whitespace=True)\n"
          ]
        },
        {
          "output_type": "stream",
          "name": "stdout",
          "text": [
            "./Ia/sn1991bg.p44.dat\n"
          ]
        },
        {
          "output_type": "stream",
          "name": "stderr",
          "text": [
            "<ipython-input-10-9c27abae6a2f>:81: FutureWarning: The 'delim_whitespace' keyword in pd.read_csv is deprecated and will be removed in a future version. Use ``sep='\\s+'`` instead\n",
            "  data = pd.read_csv(filepath, names=['wavelength', 'flux'], delim_whitespace=True)\n"
          ]
        },
        {
          "output_type": "stream",
          "name": "stdout",
          "text": [
            "./Ia/sn1992a.p76.dat\n"
          ]
        },
        {
          "output_type": "stream",
          "name": "stderr",
          "text": [
            "<ipython-input-10-9c27abae6a2f>:81: FutureWarning: The 'delim_whitespace' keyword in pd.read_csv is deprecated and will be removed in a future version. Use ``sep='\\s+'`` instead\n",
            "  data = pd.read_csv(filepath, names=['wavelength', 'flux'], delim_whitespace=True)\n"
          ]
        },
        {
          "output_type": "stream",
          "name": "stdout",
          "text": [
            "./Ia/sn1996x.p02.dat\n"
          ]
        },
        {
          "output_type": "stream",
          "name": "stderr",
          "text": [
            "<ipython-input-10-9c27abae6a2f>:81: FutureWarning: The 'delim_whitespace' keyword in pd.read_csv is deprecated and will be removed in a future version. Use ``sep='\\s+'`` instead\n",
            "  data = pd.read_csv(filepath, names=['wavelength', 'flux'], delim_whitespace=True)\n"
          ]
        },
        {
          "output_type": "stream",
          "name": "stdout",
          "text": [
            "./Ia/sn1989b.m05.dat\n"
          ]
        },
        {
          "output_type": "stream",
          "name": "stderr",
          "text": [
            "<ipython-input-10-9c27abae6a2f>:81: FutureWarning: The 'delim_whitespace' keyword in pd.read_csv is deprecated and will be removed in a future version. Use ``sep='\\s+'`` instead\n",
            "  data = pd.read_csv(filepath, names=['wavelength', 'flux'], delim_whitespace=True)\n"
          ]
        },
        {
          "output_type": "stream",
          "name": "stdout",
          "text": [
            "./Ia/sn1986g.p102.dat\n"
          ]
        },
        {
          "output_type": "stream",
          "name": "stderr",
          "text": [
            "<ipython-input-10-9c27abae6a2f>:81: FutureWarning: The 'delim_whitespace' keyword in pd.read_csv is deprecated and will be removed in a future version. Use ``sep='\\s+'`` instead\n",
            "  data = pd.read_csv(filepath, names=['wavelength', 'flux'], delim_whitespace=True)\n"
          ]
        },
        {
          "output_type": "stream",
          "name": "stdout",
          "text": [
            "./Ia/sn1989b.p11.dat\n"
          ]
        },
        {
          "output_type": "stream",
          "name": "stderr",
          "text": [
            "<ipython-input-10-9c27abae6a2f>:81: FutureWarning: The 'delim_whitespace' keyword in pd.read_csv is deprecated and will be removed in a future version. Use ``sep='\\s+'`` instead\n",
            "  data = pd.read_csv(filepath, names=['wavelength', 'flux'], delim_whitespace=True)\n"
          ]
        },
        {
          "output_type": "stream",
          "name": "stdout",
          "text": [
            "./Ia/sn1994d.m10.dat\n"
          ]
        },
        {
          "output_type": "stream",
          "name": "stderr",
          "text": [
            "<ipython-input-10-9c27abae6a2f>:81: FutureWarning: The 'delim_whitespace' keyword in pd.read_csv is deprecated and will be removed in a future version. Use ``sep='\\s+'`` instead\n",
            "  data = pd.read_csv(filepath, names=['wavelength', 'flux'], delim_whitespace=True)\n"
          ]
        },
        {
          "output_type": "stream",
          "name": "stdout",
          "text": [
            "./Ia/sn1992a.p16.dat\n"
          ]
        },
        {
          "output_type": "stream",
          "name": "stderr",
          "text": [
            "<ipython-input-10-9c27abae6a2f>:81: FutureWarning: The 'delim_whitespace' keyword in pd.read_csv is deprecated and will be removed in a future version. Use ``sep='\\s+'`` instead\n",
            "  data = pd.read_csv(filepath, names=['wavelength', 'flux'], delim_whitespace=True)\n"
          ]
        },
        {
          "output_type": "stream",
          "name": "stdout",
          "text": [
            "./Ia/sn1994d.p05.dat\n"
          ]
        },
        {
          "output_type": "stream",
          "name": "stderr",
          "text": [
            "<ipython-input-10-9c27abae6a2f>:81: FutureWarning: The 'delim_whitespace' keyword in pd.read_csv is deprecated and will be removed in a future version. Use ``sep='\\s+'`` instead\n",
            "  data = pd.read_csv(filepath, names=['wavelength', 'flux'], delim_whitespace=True)\n"
          ]
        },
        {
          "output_type": "stream",
          "name": "stdout",
          "text": [
            "./Ia/sn1998aq.m08.dat\n"
          ]
        },
        {
          "output_type": "stream",
          "name": "stderr",
          "text": [
            "<ipython-input-10-9c27abae6a2f>:81: FutureWarning: The 'delim_whitespace' keyword in pd.read_csv is deprecated and will be removed in a future version. Use ``sep='\\s+'`` instead\n",
            "  data = pd.read_csv(filepath, names=['wavelength', 'flux'], delim_whitespace=True)\n"
          ]
        },
        {
          "output_type": "stream",
          "name": "stdout",
          "text": [
            "./Ia/sn2001ay.max.dat\n"
          ]
        },
        {
          "output_type": "stream",
          "name": "stderr",
          "text": [
            "<ipython-input-10-9c27abae6a2f>:81: FutureWarning: The 'delim_whitespace' keyword in pd.read_csv is deprecated and will be removed in a future version. Use ``sep='\\s+'`` instead\n",
            "  data = pd.read_csv(filepath, names=['wavelength', 'flux'], delim_whitespace=True)\n"
          ]
        },
        {
          "output_type": "stream",
          "name": "stdout",
          "text": [
            "./Ia/sn2003du.m11.dat\n"
          ]
        },
        {
          "output_type": "stream",
          "name": "stderr",
          "text": [
            "<ipython-input-10-9c27abae6a2f>:81: FutureWarning: The 'delim_whitespace' keyword in pd.read_csv is deprecated and will be removed in a future version. Use ``sep='\\s+'`` instead\n",
            "  data = pd.read_csv(filepath, names=['wavelength', 'flux'], delim_whitespace=True)\n"
          ]
        },
        {
          "output_type": "stream",
          "name": "stdout",
          "text": [
            "./Ia/sn2003du.p13.dat\n"
          ]
        },
        {
          "output_type": "stream",
          "name": "stderr",
          "text": [
            "<ipython-input-10-9c27abae6a2f>:81: FutureWarning: The 'delim_whitespace' keyword in pd.read_csv is deprecated and will be removed in a future version. Use ``sep='\\s+'`` instead\n",
            "  data = pd.read_csv(filepath, names=['wavelength', 'flux'], delim_whitespace=True)\n"
          ]
        },
        {
          "output_type": "stream",
          "name": "stdout",
          "text": [
            "./Ia/sn1991t.p15.dat\n"
          ]
        },
        {
          "output_type": "stream",
          "name": "stderr",
          "text": [
            "<ipython-input-10-9c27abae6a2f>:81: FutureWarning: The 'delim_whitespace' keyword in pd.read_csv is deprecated and will be removed in a future version. Use ``sep='\\s+'`` instead\n",
            "  data = pd.read_csv(filepath, names=['wavelength', 'flux'], delim_whitespace=True)\n"
          ]
        },
        {
          "output_type": "stream",
          "name": "stdout",
          "text": [
            "./Ia/sn1998bu.m04.dat\n"
          ]
        },
        {
          "output_type": "stream",
          "name": "stderr",
          "text": [
            "<ipython-input-10-9c27abae6a2f>:81: FutureWarning: The 'delim_whitespace' keyword in pd.read_csv is deprecated and will be removed in a future version. Use ``sep='\\s+'`` instead\n",
            "  data = pd.read_csv(filepath, names=['wavelength', 'flux'], delim_whitespace=True)\n"
          ]
        },
        {
          "output_type": "stream",
          "name": "stdout",
          "text": [
            "./Ia/sn1981b.p64.dat\n"
          ]
        },
        {
          "output_type": "stream",
          "name": "stderr",
          "text": [
            "<ipython-input-10-9c27abae6a2f>:81: FutureWarning: The 'delim_whitespace' keyword in pd.read_csv is deprecated and will be removed in a future version. Use ``sep='\\s+'`` instead\n",
            "  data = pd.read_csv(filepath, names=['wavelength', 'flux'], delim_whitespace=True)\n"
          ]
        },
        {
          "output_type": "stream",
          "name": "stdout",
          "text": [
            "./Ia/sn1994d.p02.dat\n"
          ]
        },
        {
          "output_type": "stream",
          "name": "stderr",
          "text": [
            "<ipython-input-10-9c27abae6a2f>:81: FutureWarning: The 'delim_whitespace' keyword in pd.read_csv is deprecated and will be removed in a future version. Use ``sep='\\s+'`` instead\n",
            "  data = pd.read_csv(filepath, names=['wavelength', 'flux'], delim_whitespace=True)\n"
          ]
        },
        {
          "output_type": "stream",
          "name": "stdout",
          "text": [
            "./Ia/sn2010zz.p100.dat\n"
          ]
        },
        {
          "output_type": "stream",
          "name": "stderr",
          "text": [
            "<ipython-input-10-9c27abae6a2f>:81: FutureWarning: The 'delim_whitespace' keyword in pd.read_csv is deprecated and will be removed in a future version. Use ``sep='\\s+'`` instead\n",
            "  data = pd.read_csv(filepath, names=['wavelength', 'flux'], delim_whitespace=True)\n"
          ]
        },
        {
          "output_type": "stream",
          "name": "stdout",
          "text": [
            "./Ia/sn1992a.m01.dat\n"
          ]
        },
        {
          "output_type": "stream",
          "name": "stderr",
          "text": [
            "<ipython-input-10-9c27abae6a2f>:81: FutureWarning: The 'delim_whitespace' keyword in pd.read_csv is deprecated and will be removed in a future version. Use ``sep='\\s+'`` instead\n",
            "  data = pd.read_csv(filepath, names=['wavelength', 'flux'], delim_whitespace=True)\n"
          ]
        },
        {
          "output_type": "stream",
          "name": "stdout",
          "text": [
            "./Ia/sn1991bg.p16.dat\n"
          ]
        },
        {
          "output_type": "stream",
          "name": "stderr",
          "text": [
            "<ipython-input-10-9c27abae6a2f>:81: FutureWarning: The 'delim_whitespace' keyword in pd.read_csv is deprecated and will be removed in a future version. Use ``sep='\\s+'`` instead\n",
            "  data = pd.read_csv(filepath, names=['wavelength', 'flux'], delim_whitespace=True)\n"
          ]
        },
        {
          "output_type": "stream",
          "name": "stdout",
          "text": [
            "./Ia/sn1992a.p46.dat\n"
          ]
        },
        {
          "output_type": "stream",
          "name": "stderr",
          "text": [
            "<ipython-input-10-9c27abae6a2f>:81: FutureWarning: The 'delim_whitespace' keyword in pd.read_csv is deprecated and will be removed in a future version. Use ``sep='\\s+'`` instead\n",
            "  data = pd.read_csv(filepath, names=['wavelength', 'flux'], delim_whitespace=True)\n"
          ]
        },
        {
          "output_type": "stream",
          "name": "stdout",
          "text": [
            "./Ia/sn1990n.p03.dat\n"
          ]
        },
        {
          "output_type": "stream",
          "name": "stderr",
          "text": [
            "<ipython-input-10-9c27abae6a2f>:81: FutureWarning: The 'delim_whitespace' keyword in pd.read_csv is deprecated and will be removed in a future version. Use ``sep='\\s+'`` instead\n",
            "  data = pd.read_csv(filepath, names=['wavelength', 'flux'], delim_whitespace=True)\n"
          ]
        },
        {
          "output_type": "stream",
          "name": "stdout",
          "text": [
            "./Ia/sn1992a.p24.dat\n"
          ]
        },
        {
          "output_type": "stream",
          "name": "stderr",
          "text": [
            "<ipython-input-10-9c27abae6a2f>:81: FutureWarning: The 'delim_whitespace' keyword in pd.read_csv is deprecated and will be removed in a future version. Use ``sep='\\s+'`` instead\n",
            "  data = pd.read_csv(filepath, names=['wavelength', 'flux'], delim_whitespace=True)\n"
          ]
        },
        {
          "output_type": "stream",
          "name": "stdout",
          "text": [
            "./Ia/sn1992a.m05.dat\n"
          ]
        },
        {
          "output_type": "stream",
          "name": "stderr",
          "text": [
            "<ipython-input-10-9c27abae6a2f>:81: FutureWarning: The 'delim_whitespace' keyword in pd.read_csv is deprecated and will be removed in a future version. Use ``sep='\\s+'`` instead\n",
            "  data = pd.read_csv(filepath, names=['wavelength', 'flux'], delim_whitespace=True)\n"
          ]
        },
        {
          "output_type": "stream",
          "name": "stdout",
          "text": [
            "./Ia/sn1990n.m07.dat\n"
          ]
        },
        {
          "output_type": "stream",
          "name": "stderr",
          "text": [
            "<ipython-input-10-9c27abae6a2f>:81: FutureWarning: The 'delim_whitespace' keyword in pd.read_csv is deprecated and will be removed in a future version. Use ``sep='\\s+'`` instead\n",
            "  data = pd.read_csv(filepath, names=['wavelength', 'flux'], delim_whitespace=True)\n"
          ]
        },
        {
          "output_type": "stream",
          "name": "stdout",
          "text": [
            "./Ib/sn2002ao.p05.dat\n"
          ]
        },
        {
          "output_type": "stream",
          "name": "stderr",
          "text": [
            "<ipython-input-10-9c27abae6a2f>:81: FutureWarning: The 'delim_whitespace' keyword in pd.read_csv is deprecated and will be removed in a future version. Use ``sep='\\s+'`` instead\n",
            "  data = pd.read_csv(filepath, names=['wavelength', 'flux'], delim_whitespace=True)\n"
          ]
        },
        {
          "output_type": "stream",
          "name": "stdout",
          "text": [
            "./Ib/sn1983V.p18.dat\n"
          ]
        },
        {
          "output_type": "stream",
          "name": "stderr",
          "text": [
            "<ipython-input-10-9c27abae6a2f>:81: FutureWarning: The 'delim_whitespace' keyword in pd.read_csv is deprecated and will be removed in a future version. Use ``sep='\\s+'`` instead\n",
            "  data = pd.read_csv(filepath, names=['wavelength', 'flux'], delim_whitespace=True)\n"
          ]
        },
        {
          "output_type": "stream",
          "name": "stdout",
          "text": [
            "./Ib/sn2008d.p13.dat\n"
          ]
        },
        {
          "output_type": "stream",
          "name": "stderr",
          "text": [
            "<ipython-input-10-9c27abae6a2f>:81: FutureWarning: The 'delim_whitespace' keyword in pd.read_csv is deprecated and will be removed in a future version. Use ``sep='\\s+'`` instead\n",
            "  data = pd.read_csv(filepath, names=['wavelength', 'flux'], delim_whitespace=True)\n"
          ]
        },
        {
          "output_type": "stream",
          "name": "stdout",
          "text": [
            "./Ib/sn1999di.p45.dat\n"
          ]
        },
        {
          "output_type": "stream",
          "name": "stderr",
          "text": [
            "<ipython-input-10-9c27abae6a2f>:81: FutureWarning: The 'delim_whitespace' keyword in pd.read_csv is deprecated and will be removed in a future version. Use ``sep='\\s+'`` instead\n",
            "  data = pd.read_csv(filepath, names=['wavelength', 'flux'], delim_whitespace=True)\n"
          ]
        },
        {
          "output_type": "stream",
          "name": "stdout",
          "text": [
            "./Ib/sn1984L.p73.dat\n"
          ]
        },
        {
          "output_type": "stream",
          "name": "stderr",
          "text": [
            "<ipython-input-10-9c27abae6a2f>:81: FutureWarning: The 'delim_whitespace' keyword in pd.read_csv is deprecated and will be removed in a future version. Use ``sep='\\s+'`` instead\n",
            "  data = pd.read_csv(filepath, names=['wavelength', 'flux'], delim_whitespace=True)\n"
          ]
        },
        {
          "output_type": "stream",
          "name": "stdout",
          "text": [
            "./Ib/sn2002ao.p03.dat\n"
          ]
        },
        {
          "output_type": "stream",
          "name": "stderr",
          "text": [
            "<ipython-input-10-9c27abae6a2f>:81: FutureWarning: The 'delim_whitespace' keyword in pd.read_csv is deprecated and will be removed in a future version. Use ``sep='\\s+'`` instead\n",
            "  data = pd.read_csv(filepath, names=['wavelength', 'flux'], delim_whitespace=True)\n"
          ]
        },
        {
          "output_type": "stream",
          "name": "stdout",
          "text": [
            "./Ib/sn1987M.p07.dat\n"
          ]
        },
        {
          "output_type": "stream",
          "name": "stderr",
          "text": [
            "<ipython-input-10-9c27abae6a2f>:81: FutureWarning: The 'delim_whitespace' keyword in pd.read_csv is deprecated and will be removed in a future version. Use ``sep='\\s+'`` instead\n",
            "  data = pd.read_csv(filepath, names=['wavelength', 'flux'], delim_whitespace=True)\n"
          ]
        },
        {
          "output_type": "stream",
          "name": "stdout",
          "text": [
            "./Ib/sn1984L.p34.dat\n"
          ]
        },
        {
          "output_type": "stream",
          "name": "stderr",
          "text": [
            "<ipython-input-10-9c27abae6a2f>:81: FutureWarning: The 'delim_whitespace' keyword in pd.read_csv is deprecated and will be removed in a future version. Use ``sep='\\s+'`` instead\n",
            "  data = pd.read_csv(filepath, names=['wavelength', 'flux'], delim_whitespace=True)\n"
          ]
        },
        {
          "output_type": "stream",
          "name": "stdout",
          "text": [
            "./Ib/sn2008d.m17.dat\n"
          ]
        },
        {
          "output_type": "stream",
          "name": "stderr",
          "text": [
            "<ipython-input-10-9c27abae6a2f>:81: FutureWarning: The 'delim_whitespace' keyword in pd.read_csv is deprecated and will be removed in a future version. Use ``sep='\\s+'`` instead\n",
            "  data = pd.read_csv(filepath, names=['wavelength', 'flux'], delim_whitespace=True)\n"
          ]
        },
        {
          "output_type": "stream",
          "name": "stdout",
          "text": [
            "./Ib/sn2005e.p06.dat\n"
          ]
        },
        {
          "output_type": "stream",
          "name": "stderr",
          "text": [
            "<ipython-input-10-9c27abae6a2f>:81: FutureWarning: The 'delim_whitespace' keyword in pd.read_csv is deprecated and will be removed in a future version. Use ``sep='\\s+'`` instead\n",
            "  data = pd.read_csv(filepath, names=['wavelength', 'flux'], delim_whitespace=True)\n"
          ]
        },
        {
          "output_type": "stream",
          "name": "stdout",
          "text": [
            "./Ib/sn2006jc.p21.dat\n"
          ]
        },
        {
          "output_type": "stream",
          "name": "stderr",
          "text": [
            "<ipython-input-10-9c27abae6a2f>:81: FutureWarning: The 'delim_whitespace' keyword in pd.read_csv is deprecated and will be removed in a future version. Use ``sep='\\s+'`` instead\n",
            "  data = pd.read_csv(filepath, names=['wavelength', 'flux'], delim_whitespace=True)\n"
          ]
        },
        {
          "output_type": "stream",
          "name": "stdout",
          "text": [
            "./Ib/sn2005e.p26.dat\n"
          ]
        },
        {
          "output_type": "stream",
          "name": "stderr",
          "text": [
            "<ipython-input-10-9c27abae6a2f>:81: FutureWarning: The 'delim_whitespace' keyword in pd.read_csv is deprecated and will be removed in a future version. Use ``sep='\\s+'`` instead\n",
            "  data = pd.read_csv(filepath, names=['wavelength', 'flux'], delim_whitespace=True)\n"
          ]
        },
        {
          "output_type": "stream",
          "name": "stdout",
          "text": [
            "./Ib/sn1998dt.p33.dat\n"
          ]
        },
        {
          "output_type": "stream",
          "name": "stderr",
          "text": [
            "<ipython-input-10-9c27abae6a2f>:81: FutureWarning: The 'delim_whitespace' keyword in pd.read_csv is deprecated and will be removed in a future version. Use ``sep='\\s+'`` instead\n",
            "  data = pd.read_csv(filepath, names=['wavelength', 'flux'], delim_whitespace=True)\n"
          ]
        },
        {
          "output_type": "stream",
          "name": "stdout",
          "text": [
            "./Ib/sn2005la.u23.dat\n",
            "./Ib/sn2006jc.p35.dat\n"
          ]
        },
        {
          "output_type": "stream",
          "name": "stderr",
          "text": [
            "<ipython-input-10-9c27abae6a2f>:81: FutureWarning: The 'delim_whitespace' keyword in pd.read_csv is deprecated and will be removed in a future version. Use ``sep='\\s+'`` instead\n",
            "  data = pd.read_csv(filepath, names=['wavelength', 'flux'], delim_whitespace=True)\n"
          ]
        },
        {
          "output_type": "stream",
          "name": "stdout",
          "text": [
            "./Ib/sn2000er.u03.dat\n",
            "./Ib/sn2008d.p40.dat\n"
          ]
        },
        {
          "output_type": "stream",
          "name": "stderr",
          "text": [
            "<ipython-input-10-9c27abae6a2f>:81: FutureWarning: The 'delim_whitespace' keyword in pd.read_csv is deprecated and will be removed in a future version. Use ``sep='\\s+'`` instead\n",
            "  data = pd.read_csv(filepath, names=['wavelength', 'flux'], delim_whitespace=True)\n"
          ]
        },
        {
          "output_type": "stream",
          "name": "stdout",
          "text": [
            "./Ib/sn2008d.p18.dat\n"
          ]
        },
        {
          "output_type": "stream",
          "name": "stderr",
          "text": [
            "<ipython-input-10-9c27abae6a2f>:81: FutureWarning: The 'delim_whitespace' keyword in pd.read_csv is deprecated and will be removed in a future version. Use ``sep='\\s+'`` instead\n",
            "  data = pd.read_csv(filepath, names=['wavelength', 'flux'], delim_whitespace=True)\n"
          ]
        },
        {
          "output_type": "stream",
          "name": "stdout",
          "text": [
            "./Ib/sn1983V.m09.dat\n"
          ]
        },
        {
          "output_type": "stream",
          "name": "stderr",
          "text": [
            "<ipython-input-10-9c27abae6a2f>:81: FutureWarning: The 'delim_whitespace' keyword in pd.read_csv is deprecated and will be removed in a future version. Use ``sep='\\s+'`` instead\n",
            "  data = pd.read_csv(filepath, names=['wavelength', 'flux'], delim_whitespace=True)\n"
          ]
        },
        {
          "output_type": "stream",
          "name": "stdout",
          "text": [
            "./Ib/sn2006jc.p36.dat\n"
          ]
        },
        {
          "output_type": "stream",
          "name": "stderr",
          "text": [
            "<ipython-input-10-9c27abae6a2f>:81: FutureWarning: The 'delim_whitespace' keyword in pd.read_csv is deprecated and will be removed in a future version. Use ``sep='\\s+'`` instead\n",
            "  data = pd.read_csv(filepath, names=['wavelength', 'flux'], delim_whitespace=True)\n"
          ]
        },
        {
          "output_type": "stream",
          "name": "stdout",
          "text": [
            "./Ib/sn2006jc.p33.dat\n"
          ]
        },
        {
          "output_type": "stream",
          "name": "stderr",
          "text": [
            "<ipython-input-10-9c27abae6a2f>:81: FutureWarning: The 'delim_whitespace' keyword in pd.read_csv is deprecated and will be removed in a future version. Use ``sep='\\s+'`` instead\n",
            "  data = pd.read_csv(filepath, names=['wavelength', 'flux'], delim_whitespace=True)\n"
          ]
        },
        {
          "output_type": "stream",
          "name": "stdout",
          "text": [
            "./Ib/sn2000er.u06.dat\n",
            "./Ib/sn1991ar.u16.dat\n",
            "./Ib/sn1999dn.p38.dat\n"
          ]
        },
        {
          "output_type": "stream",
          "name": "stderr",
          "text": [
            "<ipython-input-10-9c27abae6a2f>:81: FutureWarning: The 'delim_whitespace' keyword in pd.read_csv is deprecated and will be removed in a future version. Use ``sep='\\s+'`` instead\n",
            "  data = pd.read_csv(filepath, names=['wavelength', 'flux'], delim_whitespace=True)\n"
          ]
        },
        {
          "output_type": "stream",
          "name": "stdout",
          "text": [
            "./Ib/sn2008d.p62.dat\n"
          ]
        },
        {
          "output_type": "stream",
          "name": "stderr",
          "text": [
            "<ipython-input-10-9c27abae6a2f>:81: FutureWarning: The 'delim_whitespace' keyword in pd.read_csv is deprecated and will be removed in a future version. Use ``sep='\\s+'`` instead\n",
            "  data = pd.read_csv(filepath, names=['wavelength', 'flux'], delim_whitespace=True)\n"
          ]
        },
        {
          "output_type": "stream",
          "name": "stdout",
          "text": [
            "./Ib/sn1990u.p70.dat\n"
          ]
        },
        {
          "output_type": "stream",
          "name": "stderr",
          "text": [
            "<ipython-input-10-9c27abae6a2f>:81: FutureWarning: The 'delim_whitespace' keyword in pd.read_csv is deprecated and will be removed in a future version. Use ``sep='\\s+'`` instead\n",
            "  data = pd.read_csv(filepath, names=['wavelength', 'flux'], delim_whitespace=True)\n"
          ]
        },
        {
          "output_type": "stream",
          "name": "stdout",
          "text": [
            "./Ib/sn1983N.p04.dat\n"
          ]
        },
        {
          "output_type": "stream",
          "name": "stderr",
          "text": [
            "<ipython-input-10-9c27abae6a2f>:81: FutureWarning: The 'delim_whitespace' keyword in pd.read_csv is deprecated and will be removed in a future version. Use ``sep='\\s+'`` instead\n",
            "  data = pd.read_csv(filepath, names=['wavelength', 'flux'], delim_whitespace=True)\n"
          ]
        },
        {
          "output_type": "stream",
          "name": "stdout",
          "text": [
            "./Ib/sn1999ex.p14.dat\n"
          ]
        },
        {
          "output_type": "stream",
          "name": "stderr",
          "text": [
            "<ipython-input-10-9c27abae6a2f>:81: FutureWarning: The 'delim_whitespace' keyword in pd.read_csv is deprecated and will be removed in a future version. Use ``sep='\\s+'`` instead\n",
            "  data = pd.read_csv(filepath, names=['wavelength', 'flux'], delim_whitespace=True)\n"
          ]
        },
        {
          "output_type": "stream",
          "name": "stdout",
          "text": [
            "./Ib/sn1999dn.p10.dat\n"
          ]
        },
        {
          "output_type": "stream",
          "name": "stderr",
          "text": [
            "<ipython-input-10-9c27abae6a2f>:81: FutureWarning: The 'delim_whitespace' keyword in pd.read_csv is deprecated and will be removed in a future version. Use ``sep='\\s+'`` instead\n",
            "  data = pd.read_csv(filepath, names=['wavelength', 'flux'], delim_whitespace=True)\n"
          ]
        },
        {
          "output_type": "stream",
          "name": "stdout",
          "text": [
            "./Ib/sn2006jc.p37.dat\n"
          ]
        },
        {
          "output_type": "stream",
          "name": "stderr",
          "text": [
            "<ipython-input-10-9c27abae6a2f>:81: FutureWarning: The 'delim_whitespace' keyword in pd.read_csv is deprecated and will be removed in a future version. Use ``sep='\\s+'`` instead\n",
            "  data = pd.read_csv(filepath, names=['wavelength', 'flux'], delim_whitespace=True)\n"
          ]
        },
        {
          "output_type": "stream",
          "name": "stdout",
          "text": [
            "./Ib/sn2008d.p29.dat\n"
          ]
        },
        {
          "output_type": "stream",
          "name": "stderr",
          "text": [
            "<ipython-input-10-9c27abae6a2f>:81: FutureWarning: The 'delim_whitespace' keyword in pd.read_csv is deprecated and will be removed in a future version. Use ``sep='\\s+'`` instead\n",
            "  data = pd.read_csv(filepath, names=['wavelength', 'flux'], delim_whitespace=True)\n"
          ]
        },
        {
          "output_type": "stream",
          "name": "stdout",
          "text": [
            "./Ib/sn2008d.m13.dat\n"
          ]
        },
        {
          "output_type": "stream",
          "name": "stderr",
          "text": [
            "<ipython-input-10-9c27abae6a2f>:81: FutureWarning: The 'delim_whitespace' keyword in pd.read_csv is deprecated and will be removed in a future version. Use ``sep='\\s+'`` instead\n",
            "  data = pd.read_csv(filepath, names=['wavelength', 'flux'], delim_whitespace=True)\n"
          ]
        },
        {
          "output_type": "stream",
          "name": "stdout",
          "text": [
            "./Ib/sn1990u.p12.dat\n"
          ]
        },
        {
          "output_type": "stream",
          "name": "stderr",
          "text": [
            "<ipython-input-10-9c27abae6a2f>:81: FutureWarning: The 'delim_whitespace' keyword in pd.read_csv is deprecated and will be removed in a future version. Use ``sep='\\s+'`` instead\n",
            "  data = pd.read_csv(filepath, names=['wavelength', 'flux'], delim_whitespace=True)\n"
          ]
        },
        {
          "output_type": "stream",
          "name": "stdout",
          "text": [
            "./Ib/sn1983V.p38.dat\n"
          ]
        },
        {
          "output_type": "stream",
          "name": "stderr",
          "text": [
            "<ipython-input-10-9c27abae6a2f>:81: FutureWarning: The 'delim_whitespace' keyword in pd.read_csv is deprecated and will be removed in a future version. Use ``sep='\\s+'`` instead\n",
            "  data = pd.read_csv(filepath, names=['wavelength', 'flux'], delim_whitespace=True)\n"
          ]
        },
        {
          "output_type": "stream",
          "name": "stdout",
          "text": [
            "./Ib/sn2008d.p04.dat\n"
          ]
        },
        {
          "output_type": "stream",
          "name": "stderr",
          "text": [
            "<ipython-input-10-9c27abae6a2f>:81: FutureWarning: The 'delim_whitespace' keyword in pd.read_csv is deprecated and will be removed in a future version. Use ``sep='\\s+'`` instead\n",
            "  data = pd.read_csv(filepath, names=['wavelength', 'flux'], delim_whitespace=True)\n"
          ]
        },
        {
          "output_type": "stream",
          "name": "stdout",
          "text": [
            "./Ib/sn2000er.u07.dat\n",
            "./Ib/sn1984L.p14.dat\n"
          ]
        },
        {
          "output_type": "stream",
          "name": "stderr",
          "text": [
            "<ipython-input-10-9c27abae6a2f>:81: FutureWarning: The 'delim_whitespace' keyword in pd.read_csv is deprecated and will be removed in a future version. Use ``sep='\\s+'`` instead\n",
            "  data = pd.read_csv(filepath, names=['wavelength', 'flux'], delim_whitespace=True)\n"
          ]
        },
        {
          "output_type": "stream",
          "name": "stdout",
          "text": [
            "./Ib/sn1999ex.p05.dat\n"
          ]
        },
        {
          "output_type": "stream",
          "name": "stderr",
          "text": [
            "<ipython-input-10-9c27abae6a2f>:81: FutureWarning: The 'delim_whitespace' keyword in pd.read_csv is deprecated and will be removed in a future version. Use ``sep='\\s+'`` instead\n",
            "  data = pd.read_csv(filepath, names=['wavelength', 'flux'], delim_whitespace=True)\n"
          ]
        },
        {
          "output_type": "stream",
          "name": "stdout",
          "text": [
            "./Ib/sn2006jc.p39.dat\n"
          ]
        },
        {
          "output_type": "stream",
          "name": "stderr",
          "text": [
            "<ipython-input-10-9c27abae6a2f>:81: FutureWarning: The 'delim_whitespace' keyword in pd.read_csv is deprecated and will be removed in a future version. Use ``sep='\\s+'`` instead\n",
            "  data = pd.read_csv(filepath, names=['wavelength', 'flux'], delim_whitespace=True)\n"
          ]
        },
        {
          "output_type": "stream",
          "name": "stdout",
          "text": [
            "./Ib/sn2006jc.p25.dat\n"
          ]
        },
        {
          "output_type": "stream",
          "name": "stderr",
          "text": [
            "<ipython-input-10-9c27abae6a2f>:81: FutureWarning: The 'delim_whitespace' keyword in pd.read_csv is deprecated and will be removed in a future version. Use ``sep='\\s+'`` instead\n",
            "  data = pd.read_csv(filepath, names=['wavelength', 'flux'], delim_whitespace=True)\n"
          ]
        },
        {
          "output_type": "stream",
          "name": "stdout",
          "text": [
            "./Ib/sn2005la.u10.dat\n",
            "./Ib/sn2000h.p30.dat\n"
          ]
        },
        {
          "output_type": "stream",
          "name": "stderr",
          "text": [
            "<ipython-input-10-9c27abae6a2f>:81: FutureWarning: The 'delim_whitespace' keyword in pd.read_csv is deprecated and will be removed in a future version. Use ``sep='\\s+'`` instead\n",
            "  data = pd.read_csv(filepath, names=['wavelength', 'flux'], delim_whitespace=True)\n"
          ]
        },
        {
          "output_type": "stream",
          "name": "stdout",
          "text": [
            "./Ib/sn2006jc.p54.dat\n"
          ]
        },
        {
          "output_type": "stream",
          "name": "stderr",
          "text": [
            "<ipython-input-10-9c27abae6a2f>:81: FutureWarning: The 'delim_whitespace' keyword in pd.read_csv is deprecated and will be removed in a future version. Use ``sep='\\s+'`` instead\n",
            "  data = pd.read_csv(filepath, names=['wavelength', 'flux'], delim_whitespace=True)\n"
          ]
        },
        {
          "output_type": "stream",
          "name": "stdout",
          "text": [
            "./Ib/sn2008d.m10.dat\n"
          ]
        },
        {
          "output_type": "stream",
          "name": "stderr",
          "text": [
            "<ipython-input-10-9c27abae6a2f>:81: FutureWarning: The 'delim_whitespace' keyword in pd.read_csv is deprecated and will be removed in a future version. Use ``sep='\\s+'`` instead\n",
            "  data = pd.read_csv(filepath, names=['wavelength', 'flux'], delim_whitespace=True)\n"
          ]
        },
        {
          "output_type": "stream",
          "name": "stdout",
          "text": [
            "./Ib/sn2008d.p11.dat\n"
          ]
        },
        {
          "output_type": "stream",
          "name": "stderr",
          "text": [
            "<ipython-input-10-9c27abae6a2f>:81: FutureWarning: The 'delim_whitespace' keyword in pd.read_csv is deprecated and will be removed in a future version. Use ``sep='\\s+'`` instead\n",
            "  data = pd.read_csv(filepath, names=['wavelength', 'flux'], delim_whitespace=True)\n"
          ]
        },
        {
          "output_type": "stream",
          "name": "stdout",
          "text": [
            "./Ib/sn1984L.p30.dat\n"
          ]
        },
        {
          "output_type": "stream",
          "name": "stderr",
          "text": [
            "<ipython-input-10-9c27abae6a2f>:81: FutureWarning: The 'delim_whitespace' keyword in pd.read_csv is deprecated and will be removed in a future version. Use ``sep='\\s+'`` instead\n",
            "  data = pd.read_csv(filepath, names=['wavelength', 'flux'], delim_whitespace=True)\n"
          ]
        },
        {
          "output_type": "stream",
          "name": "stdout",
          "text": [
            "./Ib/sn1999dn.p17.dat\n"
          ]
        },
        {
          "output_type": "stream",
          "name": "stderr",
          "text": [
            "<ipython-input-10-9c27abae6a2f>:81: FutureWarning: The 'delim_whitespace' keyword in pd.read_csv is deprecated and will be removed in a future version. Use ``sep='\\s+'`` instead\n",
            "  data = pd.read_csv(filepath, names=['wavelength', 'flux'], delim_whitespace=True)\n"
          ]
        },
        {
          "output_type": "stream",
          "name": "stdout",
          "text": [
            "./Ib/sn2008d.p14.dat\n"
          ]
        },
        {
          "output_type": "stream",
          "name": "stderr",
          "text": [
            "<ipython-input-10-9c27abae6a2f>:81: FutureWarning: The 'delim_whitespace' keyword in pd.read_csv is deprecated and will be removed in a future version. Use ``sep='\\s+'`` instead\n",
            "  data = pd.read_csv(filepath, names=['wavelength', 'flux'], delim_whitespace=True)\n"
          ]
        },
        {
          "output_type": "stream",
          "name": "stdout",
          "text": [
            "./Ib/sn2008d.m14.dat\n"
          ]
        },
        {
          "output_type": "stream",
          "name": "stderr",
          "text": [
            "<ipython-input-10-9c27abae6a2f>:81: FutureWarning: The 'delim_whitespace' keyword in pd.read_csv is deprecated and will be removed in a future version. Use ``sep='\\s+'`` instead\n",
            "  data = pd.read_csv(filepath, names=['wavelength', 'flux'], delim_whitespace=True)\n"
          ]
        },
        {
          "output_type": "stream",
          "name": "stdout",
          "text": [
            "./Ib/sn2006jc.p34.dat\n"
          ]
        },
        {
          "output_type": "stream",
          "name": "stderr",
          "text": [
            "<ipython-input-10-9c27abae6a2f>:81: FutureWarning: The 'delim_whitespace' keyword in pd.read_csv is deprecated and will be removed in a future version. Use ``sep='\\s+'`` instead\n",
            "  data = pd.read_csv(filepath, names=['wavelength', 'flux'], delim_whitespace=True)\n"
          ]
        },
        {
          "output_type": "stream",
          "name": "stdout",
          "text": [
            "./Ib/sn2005e.p59.dat\n"
          ]
        },
        {
          "output_type": "stream",
          "name": "stderr",
          "text": [
            "<ipython-input-10-9c27abae6a2f>:81: FutureWarning: The 'delim_whitespace' keyword in pd.read_csv is deprecated and will be removed in a future version. Use ``sep='\\s+'`` instead\n",
            "  data = pd.read_csv(filepath, names=['wavelength', 'flux'], delim_whitespace=True)\n"
          ]
        },
        {
          "output_type": "stream",
          "name": "stdout",
          "text": [
            "./Ib/sn1996cb.u63.dat\n",
            "./Ib/sn1999di.p21.dat\n"
          ]
        },
        {
          "output_type": "stream",
          "name": "stderr",
          "text": [
            "<ipython-input-10-9c27abae6a2f>:81: FutureWarning: The 'delim_whitespace' keyword in pd.read_csv is deprecated and will be removed in a future version. Use ``sep='\\s+'`` instead\n",
            "  data = pd.read_csv(filepath, names=['wavelength', 'flux'], delim_whitespace=True)\n"
          ]
        },
        {
          "output_type": "stream",
          "name": "stdout",
          "text": [
            "./Ib/sn2008d.m12.dat\n"
          ]
        },
        {
          "output_type": "stream",
          "name": "stderr",
          "text": [
            "<ipython-input-10-9c27abae6a2f>:81: FutureWarning: The 'delim_whitespace' keyword in pd.read_csv is deprecated and will be removed in a future version. Use ``sep='\\s+'`` instead\n",
            "  data = pd.read_csv(filepath, names=['wavelength', 'flux'], delim_whitespace=True)\n"
          ]
        },
        {
          "output_type": "stream",
          "name": "stdout",
          "text": [
            "./Ib/sn1997dd.u00.dat\n",
            "./Ib/sn2008d.p03.dat\n"
          ]
        },
        {
          "output_type": "stream",
          "name": "stderr",
          "text": [
            "<ipython-input-10-9c27abae6a2f>:81: FutureWarning: The 'delim_whitespace' keyword in pd.read_csv is deprecated and will be removed in a future version. Use ``sep='\\s+'`` instead\n",
            "  data = pd.read_csv(filepath, names=['wavelength', 'flux'], delim_whitespace=True)\n"
          ]
        },
        {
          "output_type": "stream",
          "name": "stdout",
          "text": [
            "./Ib/sn2006jc.p84.dat\n"
          ]
        },
        {
          "output_type": "stream",
          "name": "stderr",
          "text": [
            "<ipython-input-10-9c27abae6a2f>:81: FutureWarning: The 'delim_whitespace' keyword in pd.read_csv is deprecated and will be removed in a future version. Use ``sep='\\s+'`` instead\n",
            "  data = pd.read_csv(filepath, names=['wavelength', 'flux'], delim_whitespace=True)\n"
          ]
        },
        {
          "output_type": "stream",
          "name": "stdout",
          "text": [
            "./Ib/sn1998dt.p08.dat\n"
          ]
        },
        {
          "output_type": "stream",
          "name": "stderr",
          "text": [
            "<ipython-input-10-9c27abae6a2f>:81: FutureWarning: The 'delim_whitespace' keyword in pd.read_csv is deprecated and will be removed in a future version. Use ``sep='\\s+'`` instead\n",
            "  data = pd.read_csv(filepath, names=['wavelength', 'flux'], delim_whitespace=True)\n"
          ]
        },
        {
          "output_type": "stream",
          "name": "stdout",
          "text": [
            "./Ib/sn2008d.p30.dat\n"
          ]
        },
        {
          "output_type": "stream",
          "name": "stderr",
          "text": [
            "<ipython-input-10-9c27abae6a2f>:81: FutureWarning: The 'delim_whitespace' keyword in pd.read_csv is deprecated and will be removed in a future version. Use ``sep='\\s+'`` instead\n",
            "  data = pd.read_csv(filepath, names=['wavelength', 'flux'], delim_whitespace=True)\n"
          ]
        },
        {
          "output_type": "stream",
          "name": "stdout",
          "text": [
            "./Ib/sn2006jc.p67.dat\n"
          ]
        },
        {
          "output_type": "stream",
          "name": "stderr",
          "text": [
            "<ipython-input-10-9c27abae6a2f>:81: FutureWarning: The 'delim_whitespace' keyword in pd.read_csv is deprecated and will be removed in a future version. Use ``sep='\\s+'`` instead\n",
            "  data = pd.read_csv(filepath, names=['wavelength', 'flux'], delim_whitespace=True)\n"
          ]
        },
        {
          "output_type": "stream",
          "name": "stdout",
          "text": [
            "./Ib/sn1999ex.max.dat\n"
          ]
        },
        {
          "output_type": "stream",
          "name": "stderr",
          "text": [
            "<ipython-input-10-9c27abae6a2f>:81: FutureWarning: The 'delim_whitespace' keyword in pd.read_csv is deprecated and will be removed in a future version. Use ``sep='\\s+'`` instead\n",
            "  data = pd.read_csv(filepath, names=['wavelength', 'flux'], delim_whitespace=True)\n"
          ]
        },
        {
          "output_type": "stream",
          "name": "stdout",
          "text": [
            "./Ib/sn2008d.m07.dat\n"
          ]
        },
        {
          "output_type": "stream",
          "name": "stderr",
          "text": [
            "<ipython-input-10-9c27abae6a2f>:81: FutureWarning: The 'delim_whitespace' keyword in pd.read_csv is deprecated and will be removed in a future version. Use ``sep='\\s+'`` instead\n",
            "  data = pd.read_csv(filepath, names=['wavelength', 'flux'], delim_whitespace=True)\n"
          ]
        },
        {
          "output_type": "stream",
          "name": "stdout",
          "text": [
            "./Ib/sn2005la.u11.dat\n",
            "./Ib/sn1984L.p10.dat\n"
          ]
        },
        {
          "output_type": "stream",
          "name": "stderr",
          "text": [
            "<ipython-input-10-9c27abae6a2f>:81: FutureWarning: The 'delim_whitespace' keyword in pd.read_csv is deprecated and will be removed in a future version. Use ``sep='\\s+'`` instead\n",
            "  data = pd.read_csv(filepath, names=['wavelength', 'flux'], delim_whitespace=True)\n"
          ]
        },
        {
          "output_type": "stream",
          "name": "stdout",
          "text": [
            "./Ib/sn2000er.u04.dat\n",
            "./Ib/sn2000er.u02.dat\n",
            "./Ib/sn1983N.p12.dat\n"
          ]
        },
        {
          "output_type": "stream",
          "name": "stderr",
          "text": [
            "<ipython-input-10-9c27abae6a2f>:81: FutureWarning: The 'delim_whitespace' keyword in pd.read_csv is deprecated and will be removed in a future version. Use ``sep='\\s+'`` instead\n",
            "  data = pd.read_csv(filepath, names=['wavelength', 'flux'], delim_whitespace=True)\n"
          ]
        },
        {
          "output_type": "stream",
          "name": "stdout",
          "text": [
            "./Ib/sn2002ao.p12.dat\n"
          ]
        },
        {
          "output_type": "stream",
          "name": "stderr",
          "text": [
            "<ipython-input-10-9c27abae6a2f>:81: FutureWarning: The 'delim_whitespace' keyword in pd.read_csv is deprecated and will be removed in a future version. Use ``sep='\\s+'`` instead\n",
            "  data = pd.read_csv(filepath, names=['wavelength', 'flux'], delim_whitespace=True)\n"
          ]
        },
        {
          "output_type": "stream",
          "name": "stdout",
          "text": [
            "./Ib/sn1983V.p12.dat\n"
          ]
        },
        {
          "output_type": "stream",
          "name": "stderr",
          "text": [
            "<ipython-input-10-9c27abae6a2f>:81: FutureWarning: The 'delim_whitespace' keyword in pd.read_csv is deprecated and will be removed in a future version. Use ``sep='\\s+'`` instead\n",
            "  data = pd.read_csv(filepath, names=['wavelength', 'flux'], delim_whitespace=True)\n"
          ]
        },
        {
          "output_type": "stream",
          "name": "stdout",
          "text": [
            "./Ib/sn1990u.p41.dat\n"
          ]
        },
        {
          "output_type": "stream",
          "name": "stderr",
          "text": [
            "<ipython-input-10-9c27abae6a2f>:81: FutureWarning: The 'delim_whitespace' keyword in pd.read_csv is deprecated and will be removed in a future version. Use ``sep='\\s+'`` instead\n",
            "  data = pd.read_csv(filepath, names=['wavelength', 'flux'], delim_whitespace=True)\n"
          ]
        },
        {
          "output_type": "stream",
          "name": "stdout",
          "text": [
            "./Ib/sn2005la.u05.dat\n",
            "./Ib/sn1984L.p11.dat\n"
          ]
        },
        {
          "output_type": "stream",
          "name": "stderr",
          "text": [
            "<ipython-input-10-9c27abae6a2f>:81: FutureWarning: The 'delim_whitespace' keyword in pd.read_csv is deprecated and will be removed in a future version. Use ``sep='\\s+'`` instead\n",
            "  data = pd.read_csv(filepath, names=['wavelength', 'flux'], delim_whitespace=True)\n"
          ]
        },
        {
          "output_type": "stream",
          "name": "stdout",
          "text": [
            "./Ic/sn1997ef.p108.dat\n"
          ]
        },
        {
          "output_type": "stream",
          "name": "stderr",
          "text": [
            "<ipython-input-10-9c27abae6a2f>:81: FutureWarning: The 'delim_whitespace' keyword in pd.read_csv is deprecated and will be removed in a future version. Use ``sep='\\s+'`` instead\n",
            "  data = pd.read_csv(filepath, names=['wavelength', 'flux'], delim_whitespace=True)\n"
          ]
        },
        {
          "output_type": "stream",
          "name": "stdout",
          "text": [
            "./Ic/sn2002ap.m07.dat\n"
          ]
        },
        {
          "output_type": "stream",
          "name": "stderr",
          "text": [
            "<ipython-input-10-9c27abae6a2f>:81: FutureWarning: The 'delim_whitespace' keyword in pd.read_csv is deprecated and will be removed in a future version. Use ``sep='\\s+'`` instead\n",
            "  data = pd.read_csv(filepath, names=['wavelength', 'flux'], delim_whitespace=True)\n"
          ]
        },
        {
          "output_type": "stream",
          "name": "stdout",
          "text": [
            "./Ic/sn1998bw.p13.dat\n"
          ]
        },
        {
          "output_type": "stream",
          "name": "stderr",
          "text": [
            "<ipython-input-10-9c27abae6a2f>:81: FutureWarning: The 'delim_whitespace' keyword in pd.read_csv is deprecated and will be removed in a future version. Use ``sep='\\s+'`` instead\n",
            "  data = pd.read_csv(filepath, names=['wavelength', 'flux'], delim_whitespace=True)\n"
          ]
        },
        {
          "output_type": "stream",
          "name": "stdout",
          "text": [
            "./Ic/sn1994I.max.dat\n"
          ]
        },
        {
          "output_type": "stream",
          "name": "stderr",
          "text": [
            "<ipython-input-10-9c27abae6a2f>:81: FutureWarning: The 'delim_whitespace' keyword in pd.read_csv is deprecated and will be removed in a future version. Use ``sep='\\s+'`` instead\n",
            "  data = pd.read_csv(filepath, names=['wavelength', 'flux'], delim_whitespace=True)\n"
          ]
        },
        {
          "output_type": "stream",
          "name": "stdout",
          "text": [
            "./Ic/sn1991a.u11.dat\n",
            "./Ic/sn1991n.u251.dat\n",
            "./Ic/sn1998bw.p19.dat\n"
          ]
        },
        {
          "output_type": "stream",
          "name": "stderr",
          "text": [
            "<ipython-input-10-9c27abae6a2f>:81: FutureWarning: The 'delim_whitespace' keyword in pd.read_csv is deprecated and will be removed in a future version. Use ``sep='\\s+'`` instead\n",
            "  data = pd.read_csv(filepath, names=['wavelength', 'flux'], delim_whitespace=True)\n"
          ]
        },
        {
          "output_type": "stream",
          "name": "stdout",
          "text": [
            "./Ic/sn1994I.p11.dat\n"
          ]
        },
        {
          "output_type": "stream",
          "name": "stderr",
          "text": [
            "<ipython-input-10-9c27abae6a2f>:81: FutureWarning: The 'delim_whitespace' keyword in pd.read_csv is deprecated and will be removed in a future version. Use ``sep='\\s+'`` instead\n",
            "  data = pd.read_csv(filepath, names=['wavelength', 'flux'], delim_whitespace=True)\n"
          ]
        },
        {
          "output_type": "stream",
          "name": "stdout",
          "text": [
            "./Ic/sn1991n.u28.dat\n",
            "./Ic/sn1990b.p39.dat\n"
          ]
        },
        {
          "output_type": "stream",
          "name": "stderr",
          "text": [
            "<ipython-input-10-9c27abae6a2f>:81: FutureWarning: The 'delim_whitespace' keyword in pd.read_csv is deprecated and will be removed in a future version. Use ``sep='\\s+'`` instead\n",
            "  data = pd.read_csv(filepath, names=['wavelength', 'flux'], delim_whitespace=True)\n"
          ]
        },
        {
          "output_type": "stream",
          "name": "stdout",
          "text": [
            "./Ic/sn1997ef.p51.dat\n"
          ]
        },
        {
          "output_type": "stream",
          "name": "stderr",
          "text": [
            "<ipython-input-10-9c27abae6a2f>:81: FutureWarning: The 'delim_whitespace' keyword in pd.read_csv is deprecated and will be removed in a future version. Use ``sep='\\s+'`` instead\n",
            "  data = pd.read_csv(filepath, names=['wavelength', 'flux'], delim_whitespace=True)\n"
          ]
        },
        {
          "output_type": "stream",
          "name": "stdout",
          "text": [
            "./Ic/sn1991a.u48.dat\n",
            "./Ic/sn1991a.u00.dat\n",
            "./Ic/sn1991k.u14.dat\n",
            "./Ic/sn1991a.u17.dat\n",
            "./Ic/sn1997ef.p89.dat\n"
          ]
        },
        {
          "output_type": "stream",
          "name": "stderr",
          "text": [
            "<ipython-input-10-9c27abae6a2f>:81: FutureWarning: The 'delim_whitespace' keyword in pd.read_csv is deprecated and will be removed in a future version. Use ``sep='\\s+'`` instead\n",
            "  data = pd.read_csv(filepath, names=['wavelength', 'flux'], delim_whitespace=True)\n"
          ]
        },
        {
          "output_type": "stream",
          "name": "stdout",
          "text": [
            "./Ic/sn1997c.u00.dat\n",
            "./Ic/sn2002ap.p15.dat\n"
          ]
        },
        {
          "output_type": "stream",
          "name": "stderr",
          "text": [
            "<ipython-input-10-9c27abae6a2f>:81: FutureWarning: The 'delim_whitespace' keyword in pd.read_csv is deprecated and will be removed in a future version. Use ``sep='\\s+'`` instead\n",
            "  data = pd.read_csv(filepath, names=['wavelength', 'flux'], delim_whitespace=True)\n"
          ]
        },
        {
          "output_type": "stream",
          "name": "stdout",
          "text": [
            "./Ic/sn1999bv.u00.dat\n",
            "./Ic/sn1997ei.u11.dat\n",
            "./Ic/sn1998bw.p22.dat\n"
          ]
        },
        {
          "output_type": "stream",
          "name": "stderr",
          "text": [
            "<ipython-input-10-9c27abae6a2f>:81: FutureWarning: The 'delim_whitespace' keyword in pd.read_csv is deprecated and will be removed in a future version. Use ``sep='\\s+'`` instead\n",
            "  data = pd.read_csv(filepath, names=['wavelength', 'flux'], delim_whitespace=True)\n"
          ]
        },
        {
          "output_type": "stream",
          "name": "stdout",
          "text": [
            "./Ic/sn1990b.p22.dat\n"
          ]
        },
        {
          "output_type": "stream",
          "name": "stderr",
          "text": [
            "<ipython-input-10-9c27abae6a2f>:81: FutureWarning: The 'delim_whitespace' keyword in pd.read_csv is deprecated and will be removed in a future version. Use ``sep='\\s+'`` instead\n",
            "  data = pd.read_csv(filepath, names=['wavelength', 'flux'], delim_whitespace=True)\n"
          ]
        },
        {
          "output_type": "stream",
          "name": "stdout",
          "text": [
            "./Ic/sn1998bw.m06.dat\n"
          ]
        },
        {
          "output_type": "stream",
          "name": "stderr",
          "text": [
            "<ipython-input-10-9c27abae6a2f>:81: FutureWarning: The 'delim_whitespace' keyword in pd.read_csv is deprecated and will be removed in a future version. Use ``sep='\\s+'`` instead\n",
            "  data = pd.read_csv(filepath, names=['wavelength', 'flux'], delim_whitespace=True)\n"
          ]
        },
        {
          "output_type": "stream",
          "name": "stdout",
          "text": [
            "./Ic/sn1997ef.p40.dat\n"
          ]
        },
        {
          "output_type": "stream",
          "name": "stderr",
          "text": [
            "<ipython-input-10-9c27abae6a2f>:81: FutureWarning: The 'delim_whitespace' keyword in pd.read_csv is deprecated and will be removed in a future version. Use ``sep='\\s+'`` instead\n",
            "  data = pd.read_csv(filepath, names=['wavelength', 'flux'], delim_whitespace=True)\n"
          ]
        },
        {
          "output_type": "stream",
          "name": "stdout",
          "text": [
            "./Ic/sn1998bw.p01.dat\n"
          ]
        },
        {
          "output_type": "stream",
          "name": "stderr",
          "text": [
            "<ipython-input-10-9c27abae6a2f>:81: FutureWarning: The 'delim_whitespace' keyword in pd.read_csv is deprecated and will be removed in a future version. Use ``sep='\\s+'`` instead\n",
            "  data = pd.read_csv(filepath, names=['wavelength', 'flux'], delim_whitespace=True)\n"
          ]
        },
        {
          "output_type": "stream",
          "name": "stdout",
          "text": [
            "./Ic/sn1990b.p04.dat\n"
          ]
        },
        {
          "output_type": "stream",
          "name": "stderr",
          "text": [
            "<ipython-input-10-9c27abae6a2f>:81: FutureWarning: The 'delim_whitespace' keyword in pd.read_csv is deprecated and will be removed in a future version. Use ``sep='\\s+'`` instead\n",
            "  data = pd.read_csv(filepath, names=['wavelength', 'flux'], delim_whitespace=True)\n"
          ]
        },
        {
          "output_type": "stream",
          "name": "stdout",
          "text": [
            "./Ic/sn1990aa.u62.dat\n",
            "./Ic/sn2002ap.p20.dat\n"
          ]
        },
        {
          "output_type": "stream",
          "name": "stderr",
          "text": [
            "<ipython-input-10-9c27abae6a2f>:81: FutureWarning: The 'delim_whitespace' keyword in pd.read_csv is deprecated and will be removed in a future version. Use ``sep='\\s+'`` instead\n",
            "  data = pd.read_csv(filepath, names=['wavelength', 'flux'], delim_whitespace=True)\n"
          ]
        },
        {
          "output_type": "stream",
          "name": "stdout",
          "text": [
            "./Ic/sn1990aa.u00.dat\n",
            "./Ic/sn1991l.u00.dat\n",
            "./Ic/sn2002ap.p08.dat\n"
          ]
        },
        {
          "output_type": "stream",
          "name": "stderr",
          "text": [
            "<ipython-input-10-9c27abae6a2f>:81: FutureWarning: The 'delim_whitespace' keyword in pd.read_csv is deprecated and will be removed in a future version. Use ``sep='\\s+'`` instead\n",
            "  data = pd.read_csv(filepath, names=['wavelength', 'flux'], delim_whitespace=True)\n"
          ]
        },
        {
          "output_type": "stream",
          "name": "stdout",
          "text": [
            "./Ic/sn2002ap.max.dat\n"
          ]
        },
        {
          "output_type": "stream",
          "name": "stderr",
          "text": [
            "<ipython-input-10-9c27abae6a2f>:81: FutureWarning: The 'delim_whitespace' keyword in pd.read_csv is deprecated and will be removed in a future version. Use ``sep='\\s+'`` instead\n",
            "  data = pd.read_csv(filepath, names=['wavelength', 'flux'], delim_whitespace=True)\n"
          ]
        },
        {
          "output_type": "stream",
          "name": "stdout",
          "text": [
            "./Ic/sn1994I.p01.dat\n"
          ]
        },
        {
          "output_type": "stream",
          "name": "stderr",
          "text": [
            "<ipython-input-10-9c27abae6a2f>:81: FutureWarning: The 'delim_whitespace' keyword in pd.read_csv is deprecated and will be removed in a future version. Use ``sep='\\s+'`` instead\n",
            "  data = pd.read_csv(filepath, names=['wavelength', 'flux'], delim_whitespace=True)\n"
          ]
        },
        {
          "output_type": "stream",
          "name": "stdout",
          "text": [
            "./Ic/sn1997dq.u61.dat\n",
            "./Ic/sn2002ap.p14.dat\n"
          ]
        },
        {
          "output_type": "stream",
          "name": "stderr",
          "text": [
            "<ipython-input-10-9c27abae6a2f>:81: FutureWarning: The 'delim_whitespace' keyword in pd.read_csv is deprecated and will be removed in a future version. Use ``sep='\\s+'`` instead\n",
            "  data = pd.read_csv(filepath, names=['wavelength', 'flux'], delim_whitespace=True)\n"
          ]
        },
        {
          "output_type": "stream",
          "name": "stdout",
          "text": [
            "./Ic/sn1988l.u00.dat\n",
            "./Ic/sn1995f.u89.dat\n",
            "./Ic/sn1994I.m05.dat\n"
          ]
        },
        {
          "output_type": "stream",
          "name": "stderr",
          "text": [
            "<ipython-input-10-9c27abae6a2f>:81: FutureWarning: The 'delim_whitespace' keyword in pd.read_csv is deprecated and will be removed in a future version. Use ``sep='\\s+'`` instead\n",
            "  data = pd.read_csv(filepath, names=['wavelength', 'flux'], delim_whitespace=True)\n"
          ]
        },
        {
          "output_type": "stream",
          "name": "stdout",
          "text": [
            "./Ic/sn1998bw.p04.dat\n"
          ]
        },
        {
          "output_type": "stream",
          "name": "stderr",
          "text": [
            "<ipython-input-10-9c27abae6a2f>:81: FutureWarning: The 'delim_whitespace' keyword in pd.read_csv is deprecated and will be removed in a future version. Use ``sep='\\s+'`` instead\n",
            "  data = pd.read_csv(filepath, names=['wavelength', 'flux'], delim_whitespace=True)\n"
          ]
        },
        {
          "output_type": "stream",
          "name": "stdout",
          "text": [
            "./Ic/sn1998bw.m03.dat\n"
          ]
        },
        {
          "output_type": "stream",
          "name": "stderr",
          "text": [
            "<ipython-input-10-9c27abae6a2f>:81: FutureWarning: The 'delim_whitespace' keyword in pd.read_csv is deprecated and will be removed in a future version. Use ``sep='\\s+'`` instead\n",
            "  data = pd.read_csv(filepath, names=['wavelength', 'flux'], delim_whitespace=True)\n"
          ]
        },
        {
          "output_type": "stream",
          "name": "stdout",
          "text": [
            "./Ic/sn2002ap.p05.dat\n"
          ]
        },
        {
          "output_type": "stream",
          "name": "stderr",
          "text": [
            "<ipython-input-10-9c27abae6a2f>:81: FutureWarning: The 'delim_whitespace' keyword in pd.read_csv is deprecated and will be removed in a future version. Use ``sep='\\s+'`` instead\n",
            "  data = pd.read_csv(filepath, names=['wavelength', 'flux'], delim_whitespace=True)\n"
          ]
        },
        {
          "output_type": "stream",
          "name": "stdout",
          "text": [
            "./Ic/sn1998bw.p06.dat\n"
          ]
        },
        {
          "output_type": "stream",
          "name": "stderr",
          "text": [
            "<ipython-input-10-9c27abae6a2f>:81: FutureWarning: The 'delim_whitespace' keyword in pd.read_csv is deprecated and will be removed in a future version. Use ``sep='\\s+'`` instead\n",
            "  data = pd.read_csv(filepath, names=['wavelength', 'flux'], delim_whitespace=True)\n"
          ]
        },
        {
          "output_type": "stream",
          "name": "stdout",
          "text": [
            "./Ic/sn1995bb.u00.dat\n",
            "./Ic/sn1990aa.u118.dat\n",
            "./Ic/sn1998bw.p09.dat\n"
          ]
        },
        {
          "output_type": "stream",
          "name": "stderr",
          "text": [
            "<ipython-input-10-9c27abae6a2f>:81: FutureWarning: The 'delim_whitespace' keyword in pd.read_csv is deprecated and will be removed in a future version. Use ``sep='\\s+'`` instead\n",
            "  data = pd.read_csv(filepath, names=['wavelength', 'flux'], delim_whitespace=True)\n"
          ]
        },
        {
          "output_type": "stream",
          "name": "stdout",
          "text": [
            "./Ic/sn1994I.p02.dat\n"
          ]
        },
        {
          "output_type": "stream",
          "name": "stderr",
          "text": [
            "<ipython-input-10-9c27abae6a2f>:81: FutureWarning: The 'delim_whitespace' keyword in pd.read_csv is deprecated and will be removed in a future version. Use ``sep='\\s+'`` instead\n",
            "  data = pd.read_csv(filepath, names=['wavelength', 'flux'], delim_whitespace=True)\n"
          ]
        },
        {
          "output_type": "stream",
          "name": "stdout",
          "text": [
            "./Ic/sn1995f.u29.dat\n",
            "./Ic/sn1998bw.m07.dat\n"
          ]
        },
        {
          "output_type": "stream",
          "name": "stderr",
          "text": [
            "<ipython-input-10-9c27abae6a2f>:81: FutureWarning: The 'delim_whitespace' keyword in pd.read_csv is deprecated and will be removed in a future version. Use ``sep='\\s+'`` instead\n",
            "  data = pd.read_csv(filepath, names=['wavelength', 'flux'], delim_whitespace=True)\n"
          ]
        },
        {
          "output_type": "stream",
          "name": "stdout",
          "text": [
            "./Ic/sn1995f.u00.dat\n",
            "./Ic/sn1988l.u48.dat\n",
            "./Ic/sn1999p.u01.dat\n",
            "./Ic/sn1997dq.u202.dat\n",
            "./Ic/sn1990b.p65.dat\n"
          ]
        },
        {
          "output_type": "stream",
          "name": "stderr",
          "text": [
            "<ipython-input-10-9c27abae6a2f>:81: FutureWarning: The 'delim_whitespace' keyword in pd.read_csv is deprecated and will be removed in a future version. Use ``sep='\\s+'`` instead\n",
            "  data = pd.read_csv(filepath, names=['wavelength', 'flux'], delim_whitespace=True)\n"
          ]
        },
        {
          "output_type": "stream",
          "name": "stdout",
          "text": [
            "./Ic/sn1998bw.p29.dat\n"
          ]
        },
        {
          "output_type": "stream",
          "name": "stderr",
          "text": [
            "<ipython-input-10-9c27abae6a2f>:81: FutureWarning: The 'delim_whitespace' keyword in pd.read_csv is deprecated and will be removed in a future version. Use ``sep='\\s+'`` instead\n",
            "  data = pd.read_csv(filepath, names=['wavelength', 'flux'], delim_whitespace=True)\n"
          ]
        },
        {
          "output_type": "stream",
          "name": "stdout",
          "text": [
            "./Ic/sn2002ap.p29.dat\n"
          ]
        },
        {
          "output_type": "stream",
          "name": "stderr",
          "text": [
            "<ipython-input-10-9c27abae6a2f>:81: FutureWarning: The 'delim_whitespace' keyword in pd.read_csv is deprecated and will be removed in a future version. Use ``sep='\\s+'`` instead\n",
            "  data = pd.read_csv(filepath, names=['wavelength', 'flux'], delim_whitespace=True)\n"
          ]
        },
        {
          "output_type": "stream",
          "name": "stdout",
          "text": [
            "./Ic/sn1998bw.m02.dat\n"
          ]
        },
        {
          "output_type": "stream",
          "name": "stderr",
          "text": [
            "<ipython-input-10-9c27abae6a2f>:81: FutureWarning: The 'delim_whitespace' keyword in pd.read_csv is deprecated and will be removed in a future version. Use ``sep='\\s+'`` instead\n",
            "  data = pd.read_csv(filepath, names=['wavelength', 'flux'], delim_whitespace=True)\n"
          ]
        },
        {
          "output_type": "stream",
          "name": "stdout",
          "text": [
            "./Ic/sn1995f.u57.dat\n",
            "./Ic/sn1997dq.u00.dat\n",
            "./Ic/sn1991n.u00.dat\n",
            "./II/sn2004et.p367.dat\n"
          ]
        },
        {
          "output_type": "stream",
          "name": "stderr",
          "text": [
            "<ipython-input-10-9c27abae6a2f>:81: FutureWarning: The 'delim_whitespace' keyword in pd.read_csv is deprecated and will be removed in a future version. Use ``sep='\\s+'`` instead\n",
            "  data = pd.read_csv(filepath, names=['wavelength', 'flux'], delim_whitespace=True)\n"
          ]
        },
        {
          "output_type": "stream",
          "name": "stdout",
          "text": [
            "./II/sn1980K.p12.dat\n"
          ]
        },
        {
          "output_type": "stream",
          "name": "stderr",
          "text": [
            "<ipython-input-10-9c27abae6a2f>:81: FutureWarning: The 'delim_whitespace' keyword in pd.read_csv is deprecated and will be removed in a future version. Use ``sep='\\s+'`` instead\n",
            "  data = pd.read_csv(filepath, names=['wavelength', 'flux'], delim_whitespace=True)\n"
          ]
        },
        {
          "output_type": "stream",
          "name": "stdout",
          "text": [
            "./II/sn2005cp.u53.dat\n",
            "./II/sn2005cs.p58.dat\n"
          ]
        },
        {
          "output_type": "stream",
          "name": "stderr",
          "text": [
            "<ipython-input-10-9c27abae6a2f>:81: FutureWarning: The 'delim_whitespace' keyword in pd.read_csv is deprecated and will be removed in a future version. Use ``sep='\\s+'`` instead\n",
            "  data = pd.read_csv(filepath, names=['wavelength', 'flux'], delim_whitespace=True)\n"
          ]
        },
        {
          "output_type": "stream",
          "name": "stdout",
          "text": [
            "./II/sn1979C.p72.dat\n"
          ]
        },
        {
          "output_type": "stream",
          "name": "stderr",
          "text": [
            "<ipython-input-10-9c27abae6a2f>:81: FutureWarning: The 'delim_whitespace' keyword in pd.read_csv is deprecated and will be removed in a future version. Use ``sep='\\s+'`` instead\n",
            "  data = pd.read_csv(filepath, names=['wavelength', 'flux'], delim_whitespace=True)\n"
          ]
        },
        {
          "output_type": "stream",
          "name": "stdout",
          "text": [
            "./II/theory99em.p15.dat\n"
          ]
        },
        {
          "output_type": "stream",
          "name": "stderr",
          "text": [
            "<ipython-input-10-9c27abae6a2f>:81: FutureWarning: The 'delim_whitespace' keyword in pd.read_csv is deprecated and will be removed in a future version. Use ``sep='\\s+'`` instead\n",
            "  data = pd.read_csv(filepath, names=['wavelength', 'flux'], delim_whitespace=True)\n"
          ]
        },
        {
          "output_type": "stream",
          "name": "stdout",
          "text": [
            "./II/sn2005cs.p41.dat\n"
          ]
        },
        {
          "output_type": "stream",
          "name": "stderr",
          "text": [
            "<ipython-input-10-9c27abae6a2f>:81: FutureWarning: The 'delim_whitespace' keyword in pd.read_csv is deprecated and will be removed in a future version. Use ``sep='\\s+'`` instead\n",
            "  data = pd.read_csv(filepath, names=['wavelength', 'flux'], delim_whitespace=True)\n"
          ]
        },
        {
          "output_type": "stream",
          "name": "stdout",
          "text": [
            "./II/sn1999em.p20.dat\n"
          ]
        },
        {
          "output_type": "stream",
          "name": "stderr",
          "text": [
            "<ipython-input-10-9c27abae6a2f>:81: FutureWarning: The 'delim_whitespace' keyword in pd.read_csv is deprecated and will be removed in a future version. Use ``sep='\\s+'`` instead\n",
            "  data = pd.read_csv(filepath, names=['wavelength', 'flux'], delim_whitespace=True)\n"
          ]
        },
        {
          "output_type": "stream",
          "name": "stdout",
          "text": [
            "./II/sn1998S.p02.dat\n"
          ]
        },
        {
          "output_type": "stream",
          "name": "stderr",
          "text": [
            "<ipython-input-10-9c27abae6a2f>:81: FutureWarning: The 'delim_whitespace' keyword in pd.read_csv is deprecated and will be removed in a future version. Use ``sep='\\s+'`` instead\n",
            "  data = pd.read_csv(filepath, names=['wavelength', 'flux'], delim_whitespace=True)\n"
          ]
        },
        {
          "output_type": "stream",
          "name": "stdout",
          "text": [
            "./II/sn2005cs.p01.dat\n"
          ]
        },
        {
          "output_type": "stream",
          "name": "stderr",
          "text": [
            "<ipython-input-10-9c27abae6a2f>:81: FutureWarning: The 'delim_whitespace' keyword in pd.read_csv is deprecated and will be removed in a future version. Use ``sep='\\s+'`` instead\n",
            "  data = pd.read_csv(filepath, names=['wavelength', 'flux'], delim_whitespace=True)\n"
          ]
        },
        {
          "output_type": "stream",
          "name": "stdout",
          "text": [
            "./II/sn2004et.p323.dat\n"
          ]
        },
        {
          "output_type": "stream",
          "name": "stderr",
          "text": [
            "<ipython-input-10-9c27abae6a2f>:81: FutureWarning: The 'delim_whitespace' keyword in pd.read_csv is deprecated and will be removed in a future version. Use ``sep='\\s+'`` instead\n",
            "  data = pd.read_csv(filepath, names=['wavelength', 'flux'], delim_whitespace=True)\n"
          ]
        },
        {
          "output_type": "stream",
          "name": "stdout",
          "text": [
            "./II/theory99em.p30.dat\n"
          ]
        },
        {
          "output_type": "stream",
          "name": "stderr",
          "text": [
            "<ipython-input-10-9c27abae6a2f>:81: FutureWarning: The 'delim_whitespace' keyword in pd.read_csv is deprecated and will be removed in a future version. Use ``sep='\\s+'`` instead\n",
            "  data = pd.read_csv(filepath, names=['wavelength', 'flux'], delim_whitespace=True)\n"
          ]
        },
        {
          "output_type": "stream",
          "name": "stdout",
          "text": [
            "./II/sn2005cl.p70.dat\n"
          ]
        },
        {
          "output_type": "stream",
          "name": "stderr",
          "text": [
            "<ipython-input-10-9c27abae6a2f>:81: FutureWarning: The 'delim_whitespace' keyword in pd.read_csv is deprecated and will be removed in a future version. Use ``sep='\\s+'`` instead\n",
            "  data = pd.read_csv(filepath, names=['wavelength', 'flux'], delim_whitespace=True)\n"
          ]
        },
        {
          "output_type": "stream",
          "name": "stdout",
          "text": [
            "./II/theory99em.45.dat\n",
            "Skipping Invalid Superfit file: theory99em.45.dat\n",
            "./II/sn2005cl.p44.dat\n"
          ]
        },
        {
          "output_type": "stream",
          "name": "stderr",
          "text": [
            "<ipython-input-10-9c27abae6a2f>:81: FutureWarning: The 'delim_whitespace' keyword in pd.read_csv is deprecated and will be removed in a future version. Use ``sep='\\s+'`` instead\n",
            "  data = pd.read_csv(filepath, names=['wavelength', 'flux'], delim_whitespace=True)\n"
          ]
        },
        {
          "output_type": "stream",
          "name": "stdout",
          "text": [
            "./II/theory99em.p05.dat\n"
          ]
        },
        {
          "output_type": "stream",
          "name": "stderr",
          "text": [
            "<ipython-input-10-9c27abae6a2f>:81: FutureWarning: The 'delim_whitespace' keyword in pd.read_csv is deprecated and will be removed in a future version. Use ``sep='\\s+'`` instead\n",
            "  data = pd.read_csv(filepath, names=['wavelength', 'flux'], delim_whitespace=True)\n"
          ]
        },
        {
          "output_type": "stream",
          "name": "stdout",
          "text": [
            "./II/sn2004et.p71.dat\n"
          ]
        },
        {
          "output_type": "stream",
          "name": "stderr",
          "text": [
            "<ipython-input-10-9c27abae6a2f>:81: FutureWarning: The 'delim_whitespace' keyword in pd.read_csv is deprecated and will be removed in a future version. Use ``sep='\\s+'`` instead\n",
            "  data = pd.read_csv(filepath, names=['wavelength', 'flux'], delim_whitespace=True)\n"
          ]
        },
        {
          "output_type": "stream",
          "name": "stdout",
          "text": [
            "./II/theory99em.p25.dat\n"
          ]
        },
        {
          "output_type": "stream",
          "name": "stderr",
          "text": [
            "<ipython-input-10-9c27abae6a2f>:81: FutureWarning: The 'delim_whitespace' keyword in pd.read_csv is deprecated and will be removed in a future version. Use ``sep='\\s+'`` instead\n",
            "  data = pd.read_csv(filepath, names=['wavelength', 'flux'], delim_whitespace=True)\n"
          ]
        },
        {
          "output_type": "stream",
          "name": "stdout",
          "text": [
            "./II/sn2005cs.p02.dat\n"
          ]
        },
        {
          "output_type": "stream",
          "name": "stderr",
          "text": [
            "<ipython-input-10-9c27abae6a2f>:81: FutureWarning: The 'delim_whitespace' keyword in pd.read_csv is deprecated and will be removed in a future version. Use ``sep='\\s+'`` instead\n",
            "  data = pd.read_csv(filepath, names=['wavelength', 'flux'], delim_whitespace=True)\n"
          ]
        },
        {
          "output_type": "stream",
          "name": "stdout",
          "text": [
            "./II/sn1979C.p07.dat\n"
          ]
        },
        {
          "output_type": "stream",
          "name": "stderr",
          "text": [
            "<ipython-input-10-9c27abae6a2f>:81: FutureWarning: The 'delim_whitespace' keyword in pd.read_csv is deprecated and will be removed in a future version. Use ``sep='\\s+'`` instead\n",
            "  data = pd.read_csv(filepath, names=['wavelength', 'flux'], delim_whitespace=True)\n"
          ]
        },
        {
          "output_type": "stream",
          "name": "stdout",
          "text": [
            "./II/sn2004et.p160.dat\n"
          ]
        },
        {
          "output_type": "stream",
          "name": "stderr",
          "text": [
            "<ipython-input-10-9c27abae6a2f>:81: FutureWarning: The 'delim_whitespace' keyword in pd.read_csv is deprecated and will be removed in a future version. Use ``sep='\\s+'`` instead\n",
            "  data = pd.read_csv(filepath, names=['wavelength', 'flux'], delim_whitespace=True)\n"
          ]
        },
        {
          "output_type": "stream",
          "name": "stdout",
          "text": [
            "./II/sn2008ax.p35.dat\n"
          ]
        },
        {
          "output_type": "stream",
          "name": "stderr",
          "text": [
            "<ipython-input-10-9c27abae6a2f>:81: FutureWarning: The 'delim_whitespace' keyword in pd.read_csv is deprecated and will be removed in a future version. Use ``sep='\\s+'`` instead\n",
            "  data = pd.read_csv(filepath, names=['wavelength', 'flux'], delim_whitespace=True)\n"
          ]
        },
        {
          "output_type": "stream",
          "name": "stdout",
          "text": [
            "./II/sn1984E.p04.dat\n"
          ]
        },
        {
          "output_type": "stream",
          "name": "stderr",
          "text": [
            "<ipython-input-10-9c27abae6a2f>:81: FutureWarning: The 'delim_whitespace' keyword in pd.read_csv is deprecated and will be removed in a future version. Use ``sep='\\s+'`` instead\n",
            "  data = pd.read_csv(filepath, names=['wavelength', 'flux'], delim_whitespace=True)\n"
          ]
        },
        {
          "output_type": "stream",
          "name": "stdout",
          "text": [
            "./II/sn1993W.p21.dat\n"
          ]
        },
        {
          "output_type": "stream",
          "name": "stderr",
          "text": [
            "<ipython-input-10-9c27abae6a2f>:81: FutureWarning: The 'delim_whitespace' keyword in pd.read_csv is deprecated and will be removed in a future version. Use ``sep='\\s+'`` instead\n",
            "  data = pd.read_csv(filepath, names=['wavelength', 'flux'], delim_whitespace=True)\n"
          ]
        },
        {
          "output_type": "stream",
          "name": "stdout",
          "text": [
            "./II/sn1984E.p59.dat\n"
          ]
        },
        {
          "output_type": "stream",
          "name": "stderr",
          "text": [
            "<ipython-input-10-9c27abae6a2f>:81: FutureWarning: The 'delim_whitespace' keyword in pd.read_csv is deprecated and will be removed in a future version. Use ``sep='\\s+'`` instead\n",
            "  data = pd.read_csv(filepath, names=['wavelength', 'flux'], delim_whitespace=True)\n"
          ]
        },
        {
          "output_type": "stream",
          "name": "stdout",
          "text": [
            "./II/sn2004et.p265.dat\n"
          ]
        },
        {
          "output_type": "stream",
          "name": "stderr",
          "text": [
            "<ipython-input-10-9c27abae6a2f>:81: FutureWarning: The 'delim_whitespace' keyword in pd.read_csv is deprecated and will be removed in a future version. Use ``sep='\\s+'`` instead\n",
            "  data = pd.read_csv(filepath, names=['wavelength', 'flux'], delim_whitespace=True)\n"
          ]
        },
        {
          "output_type": "stream",
          "name": "stdout",
          "text": [
            "./II/sn2004et.p248.dat\n"
          ]
        },
        {
          "output_type": "stream",
          "name": "stderr",
          "text": [
            "<ipython-input-10-9c27abae6a2f>:81: FutureWarning: The 'delim_whitespace' keyword in pd.read_csv is deprecated and will be removed in a future version. Use ``sep='\\s+'`` instead\n",
            "  data = pd.read_csv(filepath, names=['wavelength', 'flux'], delim_whitespace=True)\n"
          ]
        },
        {
          "output_type": "stream",
          "name": "stdout",
          "text": [
            "./II/sn1987a.m64.dat\n"
          ]
        },
        {
          "output_type": "stream",
          "name": "stderr",
          "text": [
            "<ipython-input-10-9c27abae6a2f>:81: FutureWarning: The 'delim_whitespace' keyword in pd.read_csv is deprecated and will be removed in a future version. Use ``sep='\\s+'`` instead\n",
            "  data = pd.read_csv(filepath, names=['wavelength', 'flux'], delim_whitespace=True)\n"
          ]
        },
        {
          "output_type": "stream",
          "name": "stdout",
          "text": [
            "./II/sn1998S.p11.dat\n"
          ]
        },
        {
          "output_type": "stream",
          "name": "stderr",
          "text": [
            "<ipython-input-10-9c27abae6a2f>:81: FutureWarning: The 'delim_whitespace' keyword in pd.read_csv is deprecated and will be removed in a future version. Use ``sep='\\s+'`` instead\n",
            "  data = pd.read_csv(filepath, names=['wavelength', 'flux'], delim_whitespace=True)\n"
          ]
        },
        {
          "output_type": "stream",
          "name": "stdout",
          "text": [
            "./II/sn2004et.p76.dat\n"
          ]
        },
        {
          "output_type": "stream",
          "name": "stderr",
          "text": [
            "<ipython-input-10-9c27abae6a2f>:81: FutureWarning: The 'delim_whitespace' keyword in pd.read_csv is deprecated and will be removed in a future version. Use ``sep='\\s+'`` instead\n",
            "  data = pd.read_csv(filepath, names=['wavelength', 'flux'], delim_whitespace=True)\n"
          ]
        },
        {
          "output_type": "stream",
          "name": "stdout",
          "text": [
            "./II/sn1986I.p50.dat\n"
          ]
        },
        {
          "output_type": "stream",
          "name": "stderr",
          "text": [
            "<ipython-input-10-9c27abae6a2f>:81: FutureWarning: The 'delim_whitespace' keyword in pd.read_csv is deprecated and will be removed in a future version. Use ``sep='\\s+'`` instead\n",
            "  data = pd.read_csv(filepath, names=['wavelength', 'flux'], delim_whitespace=True)\n"
          ]
        },
        {
          "output_type": "stream",
          "name": "stdout",
          "text": [
            "./II/sn1987a.max.dat\n"
          ]
        },
        {
          "output_type": "stream",
          "name": "stderr",
          "text": [
            "<ipython-input-10-9c27abae6a2f>:81: FutureWarning: The 'delim_whitespace' keyword in pd.read_csv is deprecated and will be removed in a future version. Use ``sep='\\s+'`` instead\n",
            "  data = pd.read_csv(filepath, names=['wavelength', 'flux'], delim_whitespace=True)\n"
          ]
        },
        {
          "output_type": "stream",
          "name": "stdout",
          "text": [
            "./II/sn2005cp.u79.dat\n",
            "./II/sn2008ax.m12.dat\n"
          ]
        },
        {
          "output_type": "stream",
          "name": "stderr",
          "text": [
            "<ipython-input-10-9c27abae6a2f>:81: FutureWarning: The 'delim_whitespace' keyword in pd.read_csv is deprecated and will be removed in a future version. Use ``sep='\\s+'`` instead\n",
            "  data = pd.read_csv(filepath, names=['wavelength', 'flux'], delim_whitespace=True)\n"
          ]
        },
        {
          "output_type": "stream",
          "name": "stdout",
          "text": [
            "./II/sn2005cs.p14.dat\n"
          ]
        },
        {
          "output_type": "stream",
          "name": "stderr",
          "text": [
            "<ipython-input-10-9c27abae6a2f>:81: FutureWarning: The 'delim_whitespace' keyword in pd.read_csv is deprecated and will be removed in a future version. Use ``sep='\\s+'`` instead\n",
            "  data = pd.read_csv(filepath, names=['wavelength', 'flux'], delim_whitespace=True)\n"
          ]
        },
        {
          "output_type": "stream",
          "name": "stdout",
          "text": [
            "./II/sn1987a.p113.dat\n"
          ]
        },
        {
          "output_type": "stream",
          "name": "stderr",
          "text": [
            "<ipython-input-10-9c27abae6a2f>:81: FutureWarning: The 'delim_whitespace' keyword in pd.read_csv is deprecated and will be removed in a future version. Use ``sep='\\s+'`` instead\n",
            "  data = pd.read_csv(filepath, names=['wavelength', 'flux'], delim_whitespace=True)\n"
          ]
        },
        {
          "output_type": "stream",
          "name": "stdout",
          "text": [
            "./II/sn1987K.p07.dat\n"
          ]
        },
        {
          "output_type": "stream",
          "name": "stderr",
          "text": [
            "<ipython-input-10-9c27abae6a2f>:81: FutureWarning: The 'delim_whitespace' keyword in pd.read_csv is deprecated and will be removed in a future version. Use ``sep='\\s+'`` instead\n",
            "  data = pd.read_csv(filepath, names=['wavelength', 'flux'], delim_whitespace=True)\n"
          ]
        },
        {
          "output_type": "stream",
          "name": "stdout",
          "text": [
            "./II/sn2008ax.p15.dat\n"
          ]
        },
        {
          "output_type": "stream",
          "name": "stderr",
          "text": [
            "<ipython-input-10-9c27abae6a2f>:81: FutureWarning: The 'delim_whitespace' keyword in pd.read_csv is deprecated and will be removed in a future version. Use ``sep='\\s+'`` instead\n",
            "  data = pd.read_csv(filepath, names=['wavelength', 'flux'], delim_whitespace=True)\n"
          ]
        },
        {
          "output_type": "stream",
          "name": "stdout",
          "text": [
            "./II/sn1987a.m84.dat\n"
          ]
        },
        {
          "output_type": "stream",
          "name": "stderr",
          "text": [
            "<ipython-input-10-9c27abae6a2f>:81: FutureWarning: The 'delim_whitespace' keyword in pd.read_csv is deprecated and will be removed in a future version. Use ``sep='\\s+'`` instead\n",
            "  data = pd.read_csv(filepath, names=['wavelength', 'flux'], delim_whitespace=True)\n"
          ]
        },
        {
          "output_type": "stream",
          "name": "stdout",
          "text": [
            "./II/theory99em.p45.dat\n"
          ]
        },
        {
          "output_type": "stream",
          "name": "stderr",
          "text": [
            "<ipython-input-10-9c27abae6a2f>:81: FutureWarning: The 'delim_whitespace' keyword in pd.read_csv is deprecated and will be removed in a future version. Use ``sep='\\s+'`` instead\n",
            "  data = pd.read_csv(filepath, names=['wavelength', 'flux'], delim_whitespace=True)\n"
          ]
        },
        {
          "output_type": "stream",
          "name": "stdout",
          "text": [
            "./II/sn1993j.p23.dat\n"
          ]
        },
        {
          "output_type": "stream",
          "name": "stderr",
          "text": [
            "<ipython-input-10-9c27abae6a2f>:81: FutureWarning: The 'delim_whitespace' keyword in pd.read_csv is deprecated and will be removed in a future version. Use ``sep='\\s+'`` instead\n",
            "  data = pd.read_csv(filepath, names=['wavelength', 'flux'], delim_whitespace=True)\n"
          ]
        },
        {
          "output_type": "stream",
          "name": "stdout",
          "text": [
            "./II/sn2005bx.p46.dat\n"
          ]
        },
        {
          "output_type": "stream",
          "name": "stderr",
          "text": [
            "<ipython-input-10-9c27abae6a2f>:81: FutureWarning: The 'delim_whitespace' keyword in pd.read_csv is deprecated and will be removed in a future version. Use ``sep='\\s+'`` instead\n",
            "  data = pd.read_csv(filepath, names=['wavelength', 'flux'], delim_whitespace=True)\n"
          ]
        },
        {
          "output_type": "stream",
          "name": "stdout",
          "text": [
            "./II/sn1979C.p11.dat\n"
          ]
        },
        {
          "output_type": "stream",
          "name": "stderr",
          "text": [
            "<ipython-input-10-9c27abae6a2f>:81: FutureWarning: The 'delim_whitespace' keyword in pd.read_csv is deprecated and will be removed in a future version. Use ``sep='\\s+'`` instead\n",
            "  data = pd.read_csv(filepath, names=['wavelength', 'flux'], delim_whitespace=True)\n"
          ]
        },
        {
          "output_type": "stream",
          "name": "stdout",
          "text": [
            "./II/sn2005cs.max.dat\n"
          ]
        },
        {
          "output_type": "stream",
          "name": "stderr",
          "text": [
            "<ipython-input-10-9c27abae6a2f>:81: FutureWarning: The 'delim_whitespace' keyword in pd.read_csv is deprecated and will be removed in a future version. Use ``sep='\\s+'`` instead\n",
            "  data = pd.read_csv(filepath, names=['wavelength', 'flux'], delim_whitespace=True)\n"
          ]
        },
        {
          "output_type": "stream",
          "name": "stdout",
          "text": [
            "./II/sn2005cp.u125.dat\n",
            "./II/sn2004et.p384.dat\n"
          ]
        },
        {
          "output_type": "stream",
          "name": "stderr",
          "text": [
            "<ipython-input-10-9c27abae6a2f>:81: FutureWarning: The 'delim_whitespace' keyword in pd.read_csv is deprecated and will be removed in a future version. Use ``sep='\\s+'`` instead\n",
            "  data = pd.read_csv(filepath, names=['wavelength', 'flux'], delim_whitespace=True)\n"
          ]
        },
        {
          "output_type": "stream",
          "name": "stdout",
          "text": [
            "./II/sn1987B.p07.dat\n"
          ]
        },
        {
          "output_type": "stream",
          "name": "stderr",
          "text": [
            "<ipython-input-10-9c27abae6a2f>:81: FutureWarning: The 'delim_whitespace' keyword in pd.read_csv is deprecated and will be removed in a future version. Use ``sep='\\s+'`` instead\n",
            "  data = pd.read_csv(filepath, names=['wavelength', 'flux'], delim_whitespace=True)\n"
          ]
        },
        {
          "output_type": "stream",
          "name": "stdout",
          "text": [
            "./II/sn2005cs.p31.dat\n"
          ]
        },
        {
          "output_type": "stream",
          "name": "stderr",
          "text": [
            "<ipython-input-10-9c27abae6a2f>:81: FutureWarning: The 'delim_whitespace' keyword in pd.read_csv is deprecated and will be removed in a future version. Use ``sep='\\s+'`` instead\n",
            "  data = pd.read_csv(filepath, names=['wavelength', 'flux'], delim_whitespace=True)\n"
          ]
        },
        {
          "output_type": "stream",
          "name": "stdout",
          "text": [
            "./II/sn1993j.p17.dat\n"
          ]
        },
        {
          "output_type": "stream",
          "name": "stderr",
          "text": [
            "<ipython-input-10-9c27abae6a2f>:81: FutureWarning: The 'delim_whitespace' keyword in pd.read_csv is deprecated and will be removed in a future version. Use ``sep='\\s+'`` instead\n",
            "  data = pd.read_csv(filepath, names=['wavelength', 'flux'], delim_whitespace=True)\n"
          ]
        },
        {
          "output_type": "stream",
          "name": "stdout",
          "text": [
            "./II/sn1999em.p15.dat\n"
          ]
        },
        {
          "output_type": "stream",
          "name": "stderr",
          "text": [
            "<ipython-input-10-9c27abae6a2f>:81: FutureWarning: The 'delim_whitespace' keyword in pd.read_csv is deprecated and will be removed in a future version. Use ``sep='\\s+'`` instead\n",
            "  data = pd.read_csv(filepath, names=['wavelength', 'flux'], delim_whitespace=True)\n"
          ]
        },
        {
          "output_type": "stream",
          "name": "stdout",
          "text": [
            "./II/sn2005cs.p33.dat\n"
          ]
        },
        {
          "output_type": "stream",
          "name": "stderr",
          "text": [
            "<ipython-input-10-9c27abae6a2f>:81: FutureWarning: The 'delim_whitespace' keyword in pd.read_csv is deprecated and will be removed in a future version. Use ``sep='\\s+'`` instead\n",
            "  data = pd.read_csv(filepath, names=['wavelength', 'flux'], delim_whitespace=True)\n"
          ]
        },
        {
          "output_type": "stream",
          "name": "stdout",
          "text": [
            "./II/sn2004et.p47.dat\n"
          ]
        },
        {
          "output_type": "stream",
          "name": "stderr",
          "text": [
            "<ipython-input-10-9c27abae6a2f>:81: FutureWarning: The 'delim_whitespace' keyword in pd.read_csv is deprecated and will be removed in a future version. Use ``sep='\\s+'`` instead\n",
            "  data = pd.read_csv(filepath, names=['wavelength', 'flux'], delim_whitespace=True)\n"
          ]
        },
        {
          "output_type": "stream",
          "name": "stdout",
          "text": [
            "./II/sn1979C.p43.dat\n"
          ]
        },
        {
          "output_type": "stream",
          "name": "stderr",
          "text": [
            "<ipython-input-10-9c27abae6a2f>:81: FutureWarning: The 'delim_whitespace' keyword in pd.read_csv is deprecated and will be removed in a future version. Use ``sep='\\s+'`` instead\n",
            "  data = pd.read_csv(filepath, names=['wavelength', 'flux'], delim_whitespace=True)\n"
          ]
        },
        {
          "output_type": "stream",
          "name": "stdout",
          "text": [
            "./II/sn2005cp.u25.dat\n",
            "./II/sn1999em.p36.dat\n"
          ]
        },
        {
          "output_type": "stream",
          "name": "stderr",
          "text": [
            "<ipython-input-10-9c27abae6a2f>:81: FutureWarning: The 'delim_whitespace' keyword in pd.read_csv is deprecated and will be removed in a future version. Use ``sep='\\s+'`` instead\n",
            "  data = pd.read_csv(filepath, names=['wavelength', 'flux'], delim_whitespace=True)\n"
          ]
        },
        {
          "output_type": "stream",
          "name": "stdout",
          "text": [
            "./II/sn1999em.p75.dat\n"
          ]
        },
        {
          "output_type": "stream",
          "name": "stderr",
          "text": [
            "<ipython-input-10-9c27abae6a2f>:81: FutureWarning: The 'delim_whitespace' keyword in pd.read_csv is deprecated and will be removed in a future version. Use ``sep='\\s+'`` instead\n",
            "  data = pd.read_csv(filepath, names=['wavelength', 'flux'], delim_whitespace=True)\n"
          ]
        },
        {
          "output_type": "stream",
          "name": "stdout",
          "text": [
            "./II/sn1993j.p02.dat\n"
          ]
        },
        {
          "output_type": "stream",
          "name": "stderr",
          "text": [
            "<ipython-input-10-9c27abae6a2f>:81: FutureWarning: The 'delim_whitespace' keyword in pd.read_csv is deprecated and will be removed in a future version. Use ``sep='\\s+'`` instead\n",
            "  data = pd.read_csv(filepath, names=['wavelength', 'flux'], delim_whitespace=True)\n"
          ]
        },
        {
          "output_type": "stream",
          "name": "stdout",
          "text": [
            "./II/sn2004et.p45.dat\n"
          ]
        },
        {
          "output_type": "stream",
          "name": "stderr",
          "text": [
            "<ipython-input-10-9c27abae6a2f>:81: FutureWarning: The 'delim_whitespace' keyword in pd.read_csv is deprecated and will be removed in a future version. Use ``sep='\\s+'`` instead\n",
            "  data = pd.read_csv(filepath, names=['wavelength', 'flux'], delim_whitespace=True)\n"
          ]
        },
        {
          "output_type": "stream",
          "name": "stdout",
          "text": [
            "./II/sn1993j.p116.dat\n"
          ]
        },
        {
          "output_type": "stream",
          "name": "stderr",
          "text": [
            "<ipython-input-10-9c27abae6a2f>:81: FutureWarning: The 'delim_whitespace' keyword in pd.read_csv is deprecated and will be removed in a future version. Use ``sep='\\s+'`` instead\n",
            "  data = pd.read_csv(filepath, names=['wavelength', 'flux'], delim_whitespace=True)\n"
          ]
        },
        {
          "output_type": "stream",
          "name": "stdout",
          "text": [
            "./II/sn2004et.p106.dat\n"
          ]
        },
        {
          "output_type": "stream",
          "name": "stderr",
          "text": [
            "<ipython-input-10-9c27abae6a2f>:81: FutureWarning: The 'delim_whitespace' keyword in pd.read_csv is deprecated and will be removed in a future version. Use ``sep='\\s+'`` instead\n",
            "  data = pd.read_csv(filepath, names=['wavelength', 'flux'], delim_whitespace=True)\n"
          ]
        },
        {
          "output_type": "stream",
          "name": "stdout",
          "text": [
            "./II/sn1980K.p41.dat\n"
          ]
        },
        {
          "output_type": "stream",
          "name": "stderr",
          "text": [
            "<ipython-input-10-9c27abae6a2f>:81: FutureWarning: The 'delim_whitespace' keyword in pd.read_csv is deprecated and will be removed in a future version. Use ``sep='\\s+'`` instead\n",
            "  data = pd.read_csv(filepath, names=['wavelength', 'flux'], delim_whitespace=True)\n"
          ]
        },
        {
          "output_type": "stream",
          "name": "stdout",
          "text": [
            "./II/sn1980K.p07.dat\n"
          ]
        },
        {
          "output_type": "stream",
          "name": "stderr",
          "text": [
            "<ipython-input-10-9c27abae6a2f>:81: FutureWarning: The 'delim_whitespace' keyword in pd.read_csv is deprecated and will be removed in a future version. Use ``sep='\\s+'`` instead\n",
            "  data = pd.read_csv(filepath, names=['wavelength', 'flux'], delim_whitespace=True)\n"
          ]
        },
        {
          "output_type": "stream",
          "name": "stdout",
          "text": [
            "./II/sn1993W.p99.dat\n"
          ]
        },
        {
          "output_type": "stream",
          "name": "stderr",
          "text": [
            "<ipython-input-10-9c27abae6a2f>:81: FutureWarning: The 'delim_whitespace' keyword in pd.read_csv is deprecated and will be removed in a future version. Use ``sep='\\s+'`` instead\n",
            "  data = pd.read_csv(filepath, names=['wavelength', 'flux'], delim_whitespace=True)\n"
          ]
        },
        {
          "output_type": "stream",
          "name": "stdout",
          "text": [
            "./II/sn1986I.p19.dat\n"
          ]
        },
        {
          "output_type": "stream",
          "name": "stderr",
          "text": [
            "<ipython-input-10-9c27abae6a2f>:81: FutureWarning: The 'delim_whitespace' keyword in pd.read_csv is deprecated and will be removed in a future version. Use ``sep='\\s+'`` instead\n",
            "  data = pd.read_csv(filepath, names=['wavelength', 'flux'], delim_whitespace=True)\n"
          ]
        },
        {
          "output_type": "stream",
          "name": "stdout",
          "text": [
            "./II/sn1998S.m02.dat\n"
          ]
        },
        {
          "output_type": "stream",
          "name": "stderr",
          "text": [
            "<ipython-input-10-9c27abae6a2f>:81: FutureWarning: The 'delim_whitespace' keyword in pd.read_csv is deprecated and will be removed in a future version. Use ``sep='\\s+'`` instead\n",
            "  data = pd.read_csv(filepath, names=['wavelength', 'flux'], delim_whitespace=True)\n"
          ]
        },
        {
          "output_type": "stream",
          "name": "stdout",
          "text": [
            "./II/sn2005db.p40.dat\n"
          ]
        },
        {
          "output_type": "stream",
          "name": "stderr",
          "text": [
            "<ipython-input-10-9c27abae6a2f>:81: FutureWarning: The 'delim_whitespace' keyword in pd.read_csv is deprecated and will be removed in a future version. Use ``sep='\\s+'`` instead\n",
            "  data = pd.read_csv(filepath, names=['wavelength', 'flux'], delim_whitespace=True)\n"
          ]
        },
        {
          "output_type": "stream",
          "name": "stdout",
          "text": [
            "./II/sn1993W.p04.dat\n"
          ]
        },
        {
          "output_type": "stream",
          "name": "stderr",
          "text": [
            "<ipython-input-10-9c27abae6a2f>:81: FutureWarning: The 'delim_whitespace' keyword in pd.read_csv is deprecated and will be removed in a future version. Use ``sep='\\s+'`` instead\n",
            "  data = pd.read_csv(filepath, names=['wavelength', 'flux'], delim_whitespace=True)\n"
          ]
        },
        {
          "output_type": "stream",
          "name": "stdout",
          "text": [
            "./II/sn2005cl.p15.dat\n"
          ]
        },
        {
          "output_type": "stream",
          "name": "stderr",
          "text": [
            "<ipython-input-10-9c27abae6a2f>:81: FutureWarning: The 'delim_whitespace' keyword in pd.read_csv is deprecated and will be removed in a future version. Use ``sep='\\s+'`` instead\n",
            "  data = pd.read_csv(filepath, names=['wavelength', 'flux'], delim_whitespace=True)\n"
          ]
        },
        {
          "output_type": "stream",
          "name": "stdout",
          "text": [
            "./II/theory99em.p35.dat\n"
          ]
        },
        {
          "output_type": "stream",
          "name": "stderr",
          "text": [
            "<ipython-input-10-9c27abae6a2f>:81: FutureWarning: The 'delim_whitespace' keyword in pd.read_csv is deprecated and will be removed in a future version. Use ``sep='\\s+'`` instead\n",
            "  data = pd.read_csv(filepath, names=['wavelength', 'flux'], delim_whitespace=True)\n"
          ]
        },
        {
          "output_type": "stream",
          "name": "stdout",
          "text": [
            "./II/sn2005db.p86.dat\n"
          ]
        },
        {
          "output_type": "stream",
          "name": "stderr",
          "text": [
            "<ipython-input-10-9c27abae6a2f>:81: FutureWarning: The 'delim_whitespace' keyword in pd.read_csv is deprecated and will be removed in a future version. Use ``sep='\\s+'`` instead\n",
            "  data = pd.read_csv(filepath, names=['wavelength', 'flux'], delim_whitespace=True)\n"
          ]
        },
        {
          "output_type": "stream",
          "name": "stdout",
          "text": [
            "./II/sn1993j.p60.dat\n"
          ]
        },
        {
          "output_type": "stream",
          "name": "stderr",
          "text": [
            "<ipython-input-10-9c27abae6a2f>:81: FutureWarning: The 'delim_whitespace' keyword in pd.read_csv is deprecated and will be removed in a future version. Use ``sep='\\s+'`` instead\n",
            "  data = pd.read_csv(filepath, names=['wavelength', 'flux'], delim_whitespace=True)\n"
          ]
        },
        {
          "output_type": "stream",
          "name": "stdout",
          "text": [
            "./II/sn2004et.p95.dat\n"
          ]
        },
        {
          "output_type": "stream",
          "name": "stderr",
          "text": [
            "<ipython-input-10-9c27abae6a2f>:81: FutureWarning: The 'delim_whitespace' keyword in pd.read_csv is deprecated and will be removed in a future version. Use ``sep='\\s+'`` instead\n",
            "  data = pd.read_csv(filepath, names=['wavelength', 'flux'], delim_whitespace=True)\n"
          ]
        },
        {
          "output_type": "stream",
          "name": "stdout",
          "text": [
            "./II/sn1997cy.u31.dat\n",
            "./II/theory99em.p40.dat\n"
          ]
        },
        {
          "output_type": "stream",
          "name": "stderr",
          "text": [
            "<ipython-input-10-9c27abae6a2f>:81: FutureWarning: The 'delim_whitespace' keyword in pd.read_csv is deprecated and will be removed in a future version. Use ``sep='\\s+'`` instead\n",
            "  data = pd.read_csv(filepath, names=['wavelength', 'flux'], delim_whitespace=True)\n"
          ]
        },
        {
          "output_type": "stream",
          "name": "stdout",
          "text": [
            "./II/sn2005db.p15.dat\n"
          ]
        },
        {
          "output_type": "stream",
          "name": "stderr",
          "text": [
            "<ipython-input-10-9c27abae6a2f>:81: FutureWarning: The 'delim_whitespace' keyword in pd.read_csv is deprecated and will be removed in a future version. Use ``sep='\\s+'`` instead\n",
            "  data = pd.read_csv(filepath, names=['wavelength', 'flux'], delim_whitespace=True)\n"
          ]
        },
        {
          "output_type": "stream",
          "name": "stdout",
          "text": [
            "./II/sn1999em.p09.dat\n"
          ]
        },
        {
          "output_type": "stream",
          "name": "stderr",
          "text": [
            "<ipython-input-10-9c27abae6a2f>:81: FutureWarning: The 'delim_whitespace' keyword in pd.read_csv is deprecated and will be removed in a future version. Use ``sep='\\s+'`` instead\n",
            "  data = pd.read_csv(filepath, names=['wavelength', 'flux'], delim_whitespace=True)\n"
          ]
        },
        {
          "output_type": "stream",
          "name": "stdout",
          "text": [
            "./II/theory99em.p10.dat\n"
          ]
        },
        {
          "output_type": "stream",
          "name": "stderr",
          "text": [
            "<ipython-input-10-9c27abae6a2f>:81: FutureWarning: The 'delim_whitespace' keyword in pd.read_csv is deprecated and will be removed in a future version. Use ``sep='\\s+'`` instead\n",
            "  data = pd.read_csv(filepath, names=['wavelength', 'flux'], delim_whitespace=True)\n"
          ]
        },
        {
          "output_type": "stream",
          "name": "stdout",
          "text": [
            "./II/sn2004et.p391.dat\n"
          ]
        },
        {
          "output_type": "stream",
          "name": "stderr",
          "text": [
            "<ipython-input-10-9c27abae6a2f>:81: FutureWarning: The 'delim_whitespace' keyword in pd.read_csv is deprecated and will be removed in a future version. Use ``sep='\\s+'`` instead\n",
            "  data = pd.read_csv(filepath, names=['wavelength', 'flux'], delim_whitespace=True)\n"
          ]
        },
        {
          "output_type": "stream",
          "name": "stdout",
          "text": [
            "./II/sn1986I.p83.dat\n"
          ]
        },
        {
          "output_type": "stream",
          "name": "stderr",
          "text": [
            "<ipython-input-10-9c27abae6a2f>:81: FutureWarning: The 'delim_whitespace' keyword in pd.read_csv is deprecated and will be removed in a future version. Use ``sep='\\s+'`` instead\n",
            "  data = pd.read_csv(filepath, names=['wavelength', 'flux'], delim_whitespace=True)\n"
          ]
        },
        {
          "output_type": "stream",
          "name": "stdout",
          "text": [
            "./II/theory99em.p20.dat\n"
          ]
        },
        {
          "output_type": "stream",
          "name": "stderr",
          "text": [
            "<ipython-input-10-9c27abae6a2f>:81: FutureWarning: The 'delim_whitespace' keyword in pd.read_csv is deprecated and will be removed in a future version. Use ``sep='\\s+'`` instead\n",
            "  data = pd.read_csv(filepath, names=['wavelength', 'flux'], delim_whitespace=True)\n"
          ]
        },
        {
          "output_type": "stream",
          "name": "stdout",
          "text": [
            "./II/sn1988z.u00.dat\n",
            "./II/sn1988A.p03.dat\n"
          ]
        },
        {
          "output_type": "stream",
          "name": "stderr",
          "text": [
            "<ipython-input-10-9c27abae6a2f>:81: FutureWarning: The 'delim_whitespace' keyword in pd.read_csv is deprecated and will be removed in a future version. Use ``sep='\\s+'`` instead\n",
            "  data = pd.read_csv(filepath, names=['wavelength', 'flux'], delim_whitespace=True)\n"
          ]
        },
        {
          "output_type": "stream",
          "name": "stdout",
          "text": [
            "./II/sn2005cs.p11.dat\n"
          ]
        },
        {
          "output_type": "stream",
          "name": "stderr",
          "text": [
            "<ipython-input-10-9c27abae6a2f>:81: FutureWarning: The 'delim_whitespace' keyword in pd.read_csv is deprecated and will be removed in a future version. Use ``sep='\\s+'`` instead\n",
            "  data = pd.read_csv(filepath, names=['wavelength', 'flux'], delim_whitespace=True)\n"
          ]
        },
        {
          "output_type": "stream",
          "name": "stdout",
          "text": [
            "./II/sn2005cs.p05.dat\n"
          ]
        },
        {
          "output_type": "stream",
          "name": "stderr",
          "text": [
            "<ipython-input-10-9c27abae6a2f>:81: FutureWarning: The 'delim_whitespace' keyword in pd.read_csv is deprecated and will be removed in a future version. Use ``sep='\\s+'`` instead\n",
            "  data = pd.read_csv(filepath, names=['wavelength', 'flux'], delim_whitespace=True)\n"
          ]
        },
        {
          "output_type": "stream",
          "name": "stdout",
          "text": [
            "./II/sn2008ax.m06.dat\n"
          ]
        },
        {
          "output_type": "stream",
          "name": "stderr",
          "text": [
            "<ipython-input-10-9c27abae6a2f>:81: FutureWarning: The 'delim_whitespace' keyword in pd.read_csv is deprecated and will be removed in a future version. Use ``sep='\\s+'`` instead\n",
            "  data = pd.read_csv(filepath, names=['wavelength', 'flux'], delim_whitespace=True)\n"
          ]
        },
        {
          "output_type": "stream",
          "name": "stdout",
          "text": [
            "./II/sn2005bx.p11.dat\n"
          ]
        },
        {
          "output_type": "stream",
          "name": "stderr",
          "text": [
            "<ipython-input-10-9c27abae6a2f>:81: FutureWarning: The 'delim_whitespace' keyword in pd.read_csv is deprecated and will be removed in a future version. Use ``sep='\\s+'`` instead\n",
            "  data = pd.read_csv(filepath, names=['wavelength', 'flux'], delim_whitespace=True)\n"
          ]
        },
        {
          "output_type": "stream",
          "name": "stdout",
          "text": [
            "./II/sn2004et.p169.dat\n"
          ]
        },
        {
          "output_type": "stream",
          "name": "stderr",
          "text": [
            "<ipython-input-10-9c27abae6a2f>:81: FutureWarning: The 'delim_whitespace' keyword in pd.read_csv is deprecated and will be removed in a future version. Use ``sep='\\s+'`` instead\n",
            "  data = pd.read_csv(filepath, names=['wavelength', 'flux'], delim_whitespace=True)\n"
          ]
        },
        {
          "output_type": "stream",
          "name": "stdout",
          "text": [
            "./II/sn2005cp.u201.dat\n",
            "./II/sn1998S.m13.dat\n"
          ]
        },
        {
          "output_type": "stream",
          "name": "stderr",
          "text": [
            "<ipython-input-10-9c27abae6a2f>:81: FutureWarning: The 'delim_whitespace' keyword in pd.read_csv is deprecated and will be removed in a future version. Use ``sep='\\s+'`` instead\n",
            "  data = pd.read_csv(filepath, names=['wavelength', 'flux'], delim_whitespace=True)\n"
          ]
        },
        {
          "output_type": "stream",
          "name": "stdout",
          "text": [
            "./II/sn1999em.p04.dat\n"
          ]
        },
        {
          "output_type": "stream",
          "name": "stderr",
          "text": [
            "<ipython-input-10-9c27abae6a2f>:81: FutureWarning: The 'delim_whitespace' keyword in pd.read_csv is deprecated and will be removed in a future version. Use ``sep='\\s+'`` instead\n",
            "  data = pd.read_csv(filepath, names=['wavelength', 'flux'], delim_whitespace=True)\n"
          ]
        },
        {
          "output_type": "stream",
          "name": "stdout",
          "text": [
            "./II/sn2005cs.p06.dat\n"
          ]
        },
        {
          "output_type": "stream",
          "name": "stderr",
          "text": [
            "<ipython-input-10-9c27abae6a2f>:81: FutureWarning: The 'delim_whitespace' keyword in pd.read_csv is deprecated and will be removed in a future version. Use ``sep='\\s+'`` instead\n",
            "  data = pd.read_csv(filepath, names=['wavelength', 'flux'], delim_whitespace=True)\n"
          ]
        },
        {
          "output_type": "stream",
          "name": "stdout",
          "text": [
            "./II/sn1999em.p137.dat\n"
          ]
        },
        {
          "output_type": "stream",
          "name": "stderr",
          "text": [
            "<ipython-input-10-9c27abae6a2f>:81: FutureWarning: The 'delim_whitespace' keyword in pd.read_csv is deprecated and will be removed in a future version. Use ``sep='\\s+'`` instead\n",
            "  data = pd.read_csv(filepath, names=['wavelength', 'flux'], delim_whitespace=True)\n"
          ]
        },
        {
          "output_type": "stream",
          "name": "stdout",
          "text": [
            "./II/sn2005cs.p59.dat\n"
          ]
        },
        {
          "output_type": "stream",
          "name": "stderr",
          "text": [
            "<ipython-input-10-9c27abae6a2f>:81: FutureWarning: The 'delim_whitespace' keyword in pd.read_csv is deprecated and will be removed in a future version. Use ``sep='\\s+'`` instead\n",
            "  data = pd.read_csv(filepath, names=['wavelength', 'flux'], delim_whitespace=True)\n"
          ]
        },
        {
          "output_type": "stream",
          "name": "stdout",
          "text": [
            "./II/sn1999em.max.dat\n"
          ]
        },
        {
          "output_type": "stream",
          "name": "stderr",
          "text": [
            "<ipython-input-10-9c27abae6a2f>:81: FutureWarning: The 'delim_whitespace' keyword in pd.read_csv is deprecated and will be removed in a future version. Use ``sep='\\s+'`` instead\n",
            "  data = pd.read_csv(filepath, names=['wavelength', 'flux'], delim_whitespace=True)\n"
          ]
        },
        {
          "output_type": "display_data",
          "data": {
            "text/plain": [
              "<Figure size 640x480 with 1 Axes>"
            ],
            "image/png": "[encoded data removed]"
          },
          "metadata": {}
        }
      ],
      "source": [
        "#@title PROCESSING\n",
        "from scipy.interpolate import interp1d, UnivariateSpline\n",
        "import pandas as pd\n",
        "\n",
        "\n",
        "def zero_non_overlap_part(array, minIndex, maxIndex, outerVal=0.):\n",
        "    slicedArray = np.copy(array)\n",
        "    slicedArray[0:minIndex] = outerVal * np.ones(minIndex)\n",
        "    slicedArray[maxIndex:] = outerVal * np.ones(len(array) - maxIndex)\n",
        "\n",
        "    return slicedArray\n",
        "\n",
        "\n",
        "def normalise_spectrum(flux):\n",
        "    if len(flux) == 0 or min(flux) == max(flux):\n",
        "        fluxNorm = np.zeros(len(flux))\n",
        "    else:\n",
        "        fluxNorm = (flux - min(flux)) / (max(flux) - min(flux))\n",
        "\n",
        "    return fluxNorm\n",
        "\n",
        "import re\n",
        "import numpy as np\n",
        "def split_flux_uncertainty(flux_str):\n",
        "    flux_str = flux_str.replace('D', 'E')\n",
        "    match = re.match(r'(-?\\d+\\.?\\d*(?:E[-+]?\\d+)?)-\\d+\\.?\\d*', flux_str)\n",
        "    if match:\n",
        "          value = np.float64(match.group(1))\n",
        "          uncertainty = np.float64(flux_str.split('-', 1)[1])\n",
        "          return value, uncertainty\n",
        "    else:\n",
        "          return np.float64(flux_str), float('nan')\n",
        "\n",
        "def clean_flux(flux_str):\n",
        "  try:\n",
        "    #try to convert directly\n",
        "    return np.float64(flux_str)\n",
        "  except ValueError:\n",
        "    # If direct conversion fails, assume it's in the \"value1-value2\" format\n",
        "    parts = flux_str.split('-',maxsplit=1)\n",
        "    if len(parts) == 2:\n",
        "      return split_flux_uncertainty(flux_str)\n",
        "\n",
        "def clean_wavelength(wave_str):\n",
        "  wave_str = wave_str.replace('D', 'E').replace('d','E')\n",
        "  match = re.match(r'(-?\\d+\\.?\\d*(?:E[-+]?\\d+)?)-\\d+\\.?\\d*', flux_str)\n",
        "  if match:\n",
        "          wave_value = np.float64(match.group(1))\n",
        "          return wave_value\n",
        "  else:\n",
        "          return np.float64(wave_str)\n",
        "\n",
        "preProcess = PreProcessSpectrum(3500, 10000, 1024)\n",
        "\n",
        "spectra = {'names':[],\n",
        "           'ages': [],\n",
        "           'ttypes': [],\n",
        "           'wavelengths': [],\n",
        "           'processed_fluxes': []}\n",
        "\n",
        "for index, filepath in enumerate(filepaths):\n",
        "  if filepath.endswith(\".dat\") and not filepath.startswith('./Ia/sn1999'):\n",
        "      print(filepath)\n",
        "\n",
        "      ttype = os.path.split(os.path.split(filepath)[0])[-1]\n",
        "      filename = os.path.basename(filepath)\n",
        "      sn_name, age_info = os.path.basename(filename).strip('.dat').split('.')\n",
        "\n",
        "      if age_info == 'max':\n",
        "          age = 0\n",
        "      elif age_info[0] == 'm':\n",
        "          age = -float(age_info[1:])\n",
        "      elif age_info[0] == 'p':\n",
        "          age = float(age_info[1:])\n",
        "      elif age_info[0] == 'u':\n",
        "          continue\n",
        "      else:\n",
        "          print(\"Skipping Invalid Superfit file: {0}\".format(filename))\n",
        "          continue\n",
        "\n",
        "      data = pd.read_csv(filepath, names=['wavelength', 'flux'], delim_whitespace=True)\n",
        "      data.dropna(subset=['flux'], inplace=True)\n",
        "      wave_str = data['wavelength'].replace('D', 'E').replace('d', 'E')\n",
        "      flux_str = data['flux'].replace('D', 'E').replace('d', 'E')\n",
        "\n",
        "      flux = []\n",
        "      flux_uncertainty = []\n",
        "      wave = []\n",
        "\n",
        "      for flux_str in data['flux'].astype(str):\n",
        "        value, uncertainty = split_flux_uncertainty(flux_str)\n",
        "        flux.append(value)\n",
        "        flux_uncertainty.append(uncertainty)\n",
        "\n",
        "      for wave_str in data['wavelength'].astype(str):\n",
        "        wave_val = clean_wavelength(wave_str)\n",
        "        wave.append(wave_val)\n",
        "\n",
        "      wave = np.array(wave)\n",
        "      flux = np.array(flux)\n",
        "      flux_uncertainty = np.array(flux_uncertainty)\n",
        "\n",
        "      wave, flux, minindex, maxindex  = preProcess.log_wavelength(wave, flux)\n",
        "      newflux, continuum = preProcess.continuum_removal(wave, flux, 13, minindex, maxindex)\n",
        "      meanzero = preProcess.mean_zero(newflux, minindex, maxindex)\n",
        "      apodized = preProcess.apodize(meanzero, minindex, maxindex)\n",
        "      flux_norm = normalise_spectrum(apodized)\n",
        "      flux_norm = zero_non_overlap_part(flux_norm, minindex, maxindex, outerVal=0.0)\n",
        "\n",
        "      spectra['names'].append(sn_name)\n",
        "      spectra['ages'].append(age)\n",
        "      spectra['ttypes'].append(ttype)\n",
        "      spectra['wavelengths'].append(wave)\n",
        "      spectra['processed_fluxes'].append(flux_norm)\n",
        "\n",
        "      if not os.path.exists('plots'):\n",
        "        os.makedirs('plots')\n",
        "\n",
        "      plt.plot(wave, flux)\n",
        "      plt.title(f\"Name: {filename.split('.')[0]} Class: {ttype}\")\n",
        "      plt.xlabel('Wavelength ($\\AA$)')\n",
        "      plt.ylabel('Flux')\n",
        "      plt.savefig('plots/raw_spectrum_' + filename.split('.')[0] + '.pdf')\n",
        "\n",
        "      plt.plot(wave, flux_norm)\n",
        "      plt.title(f\"Processed {filename.split('.')[0]}, Class: {ttype}\")\n",
        "      plt.xlabel('Wavelength ($\\AA$)')\n",
        "      plt.ylabel('Processed Flux')\n",
        "      plt.savefig('plots/processed_spectrum_' + filename.split('.')[0] + '.pdf')\n",
        "\n",
        "\n",
        "\n",
        "spectra = pd.DataFrame(spectra)\n",
        "\n"
      ]
    },
    {
      "cell_type": "code",
      "source": [
        "spectra.head()"
      ],
      "metadata": {
        "colab": {
          "base_uri": "https://localhost:8080/",
          "height": 293
        },
        "id": "gYuvJrpxVbo0",
        "outputId": "5b879679-9d48-4c41-95ef-4c8879eae26d"
      },
      "execution_count": null,
      "outputs": [
        {
          "output_type": "execute_result",
          "data": {
            "text/plain": [
              "      names  ages ttypes                                        wavelengths  \\\n",
              "0   sn1989b  18.0     Ia  [3500.0, 3503.590099215369, 3507.183880948559,...   \n",
              "1   sn1989b   8.0     Ia  [3500.0, 3503.590099215369, 3507.183880948559,...   \n",
              "2   sn1989b  17.0     Ia  [3500.0, 3503.590099215369, 3507.183880948559,...   \n",
              "3  sn1998aq  19.0     Ia  [3500.0, 3503.590099215369, 3507.183880948559,...   \n",
              "4   sn1996x  57.0     Ia  [3500.0, 3503.590099215369, 3507.183880948559,...   \n",
              "\n",
              "                                    processed_fluxes  \n",
              "0  [0.30409852013780003, 0.30415408166075386, 0.3...  \n",
              "1  [0.4573226171457718, 0.45720181329341064, 0.45...  \n",
              "2  [0.2899597409474692, 0.2899253882670839, 0.289...  \n",
              "3  [0.0, 0.0, 0.0, 0.0, 0.0, 0.0, 0.0, 0.0, 0.0, ...  \n",
              "4  [0.0, 0.5820537909579006, 0.5814289191514761, ...  "
            ],
            "text/html": [
              "\n",
              "  <div id=\"df-bf77fd7f-7c9d-4c83-9791-7ad001d92674\" class=\"colab-df-container\">\n",
              "    <div>\n",
              "<style scoped>\n",
              "    .dataframe tbody tr th:only-of-type {\n",
              "        vertical-align: middle;\n",
              "    }\n",
              "\n",
              "    .dataframe tbody tr th {\n",
              "        vertical-align: top;\n",
              "    }\n",
              "\n",
              "    .dataframe thead th {\n",
              "        text-align: right;\n",
              "    }\n",
              "</style>\n",
              "<table border=\"1\" class=\"dataframe\">\n",
              "  <thead>\n",
              "    <tr style=\"text-align: right;\">\n",
              "      <th></th>\n",
              "      <th>names</th>\n",
              "      <th>ages</th>\n",
              "      <th>ttypes</th>\n",
              "      <th>wavelengths</th>\n",
              "      <th>processed_fluxes</th>\n",
              "    </tr>\n",
              "  </thead>\n",
              "  <tbody>\n",
              "    <tr>\n",
              "      <th>0</th>\n",
              "      <td>sn1989b</td>\n",
              "      <td>18.0</td>\n",
              "      <td>Ia</td>\n",
              "      <td>[3500.0, 3503.590099215369, 3507.183880948559,...</td>\n",
              "      <td>[0.30409852013780003, 0.30415408166075386, 0.3...</td>\n",
              "    </tr>\n",
              "    <tr>\n",
              "      <th>1</th>\n",
              "      <td>sn1989b</td>\n",
              "      <td>8.0</td>\n",
              "      <td>Ia</td>\n",
              "      <td>[3500.0, 3503.590099215369, 3507.183880948559,...</td>\n",
              "      <td>[0.4573226171457718, 0.45720181329341064, 0.45...</td>\n",
              "    </tr>\n",
              "    <tr>\n",
              "      <th>2</th>\n",
              "      <td>sn1989b</td>\n",
              "      <td>17.0</td>\n",
              "      <td>Ia</td>\n",
              "      <td>[3500.0, 3503.590099215369, 3507.183880948559,...</td>\n",
              "      <td>[0.2899597409474692, 0.2899253882670839, 0.289...</td>\n",
              "    </tr>\n",
              "    <tr>\n",
              "      <th>3</th>\n",
              "      <td>sn1998aq</td>\n",
              "      <td>19.0</td>\n",
              "      <td>Ia</td>\n",
              "      <td>[3500.0, 3503.590099215369, 3507.183880948559,...</td>\n",
              "      <td>[0.0, 0.0, 0.0, 0.0, 0.0, 0.0, 0.0, 0.0, 0.0, ...</td>\n",
              "    </tr>\n",
              "    <tr>\n",
              "      <th>4</th>\n",
              "      <td>sn1996x</td>\n",
              "      <td>57.0</td>\n",
              "      <td>Ia</td>\n",
              "      <td>[3500.0, 3503.590099215369, 3507.183880948559,...</td>\n",
              "      <td>[0.0, 0.5820537909579006, 0.5814289191514761, ...</td>\n",
              "    </tr>\n",
              "  </tbody>\n",
              "</table>\n",
              "</div>\n",
              "    <div class=\"colab-df-buttons\">\n",
              "\n",
              "  <div class=\"colab-df-container\">\n",
              "    <button class=\"colab-df-convert\" onclick=\"convertToInteractive('df-bf77fd7f-7c9d-4c83-9791-7ad001d92674')\"\n",
              "            title=\"Convert this dataframe to an interactive table.\"\n",
              "            style=\"display:none;\">\n",
              "\n",
              "  <svg xmlns=\"http://www.w3.org/2000/svg\" height=\"24px\" viewBox=\"0 -960 960 960\">\n",
              "    <path d=\"M120-120v-720h720v720H120Zm60-500h600v-160H180v160Zm220 220h160v-160H400v160Zm0 220h160v-160H400v160ZM180-400h160v-160H180v160Zm440 0h160v-160H620v160ZM180-180h160v-160H180v160Zm440 0h160v-160H620v160Z\"/>\n",
              "  </svg>\n",
              "    </button>\n",
              "\n",
              "  <style>\n",
              "    .colab-df-container {\n",
              "      display:flex;\n",
              "      gap: 12px;\n",
              "    }\n",
              "\n",
              "    .colab-df-convert {\n",
              "      background-color: #E8F0FE;\n",
              "      border: none;\n",
              "      border-radius: 50%;\n",
              "      cursor: pointer;\n",
              "      display: none;\n",
              "      fill: #1967D2;\n",
              "      height: 32px;\n",
              "      padding: 0 0 0 0;\n",
              "      width: 32px;\n",
              "    }\n",
              "\n",
              "    .colab-df-convert:hover {\n",
              "      background-color: #E2EBFA;\n",
              "      box-shadow: 0px 1px 2px rgba(60, 64, 67, 0.3), 0px 1px 3px 1px rgba(60, 64, 67, 0.15);\n",
              "      fill: #174EA6;\n",
              "    }\n",
              "\n",
              "    .colab-df-buttons div {\n",
              "      margin-bottom: 4px;\n",
              "    }\n",
              "\n",
              "    [theme=dark] .colab-df-convert {\n",
              "      background-color: #3B4455;\n",
              "      fill: #D2E3FC;\n",
              "    }\n",
              "\n",
              "    [theme=dark] .colab-df-convert:hover {\n",
              "      background-color: #434B5C;\n",
              "      box-shadow: 0px 1px 3px 1px rgba(0, 0, 0, 0.15);\n",
              "      filter: drop-shadow(0px 1px 2px rgba(0, 0, 0, 0.3));\n",
              "      fill: #FFFFFF;\n",
              "    }\n",
              "  </style>\n",
              "\n",
              "    <script>\n",
              "      const buttonEl =\n",
              "        document.querySelector('#df-bf77fd7f-7c9d-4c83-9791-7ad001d92674 button.colab-df-convert');\n",
              "      buttonEl.style.display =\n",
              "        google.colab.kernel.accessAllowed ? 'block' : 'none';\n",
              "\n",
              "      async function convertToInteractive(key) {\n",
              "        const element = document.querySelector('#df-bf77fd7f-7c9d-4c83-9791-7ad001d92674');\n",
              "        const dataTable =\n",
              "          await google.colab.kernel.invokeFunction('convertToInteractive',\n",
              "                                                    [key], {});\n",
              "        if (!dataTable) return;\n",
              "\n",
              "        const docLinkHtml = 'Like what you see? Visit the ' +\n",
              "          '<a target=\"_blank\" href=https://colab.research.google.com/notebooks/data_table.ipynb>data table notebook</a>'\n",
              "          + ' to learn more about interactive tables.';\n",
              "        element.innerHTML = '';\n",
              "        dataTable['output_type'] = 'display_data';\n",
              "        await google.colab.output.renderOutput(dataTable, element);\n",
              "        const docLink = document.createElement('div');\n",
              "        docLink.innerHTML = docLinkHtml;\n",
              "        element.appendChild(docLink);\n",
              "      }\n",
              "    </script>\n",
              "  </div>\n",
              "\n",
              "\n",
              "<div id=\"df-33fb7e6b-0f83-4859-b3f8-3fe1abd37c79\">\n",
              "  <button class=\"colab-df-quickchart\" onclick=\"quickchart('df-33fb7e6b-0f83-4859-b3f8-3fe1abd37c79')\"\n",
              "            title=\"Suggest charts\"\n",
              "            style=\"display:none;\">\n",
              "\n",
              "<svg xmlns=\"http://www.w3.org/2000/svg\" height=\"24px\"viewBox=\"0 0 24 24\"\n",
              "     width=\"24px\">\n",
              "    <g>\n",
              "        <path d=\"M19 3H5c-1.1 0-2 .9-2 2v14c0 1.1.9 2 2 2h14c1.1 0 2-.9 2-2V5c0-1.1-.9-2-2-2zM9 17H7v-7h2v7zm4 0h-2V7h2v10zm4 0h-2v-4h2v4z\"/>\n",
              "    </g>\n",
              "</svg>\n",
              "  </button>\n",
              "\n",
              "<style>\n",
              "  .colab-df-quickchart {\n",
              "      --bg-color: #E8F0FE;\n",
              "      --fill-color: #1967D2;\n",
              "      --hover-bg-color: #E2EBFA;\n",
              "      --hover-fill-color: #174EA6;\n",
              "      --disabled-fill-color: #AAA;\n",
              "      --disabled-bg-color: #DDD;\n",
              "  }\n",
              "\n",
              "  [theme=dark] .colab-df-quickchart {\n",
              "      --bg-color: #3B4455;\n",
              "      --fill-color: #D2E3FC;\n",
              "      --hover-bg-color: #434B5C;\n",
              "      --hover-fill-color: #FFFFFF;\n",
              "      --disabled-bg-color: #3B4455;\n",
              "      --disabled-fill-color: #666;\n",
              "  }\n",
              "\n",
              "  .colab-df-quickchart {\n",
              "    background-color: var(--bg-color);\n",
              "    border: none;\n",
              "    border-radius: 50%;\n",
              "    cursor: pointer;\n",
              "    display: none;\n",
              "    fill: var(--fill-color);\n",
              "    height: 32px;\n",
              "    padding: 0;\n",
              "    width: 32px;\n",
              "  }\n",
              "\n",
              "  .colab-df-quickchart:hover {\n",
              "    background-color: var(--hover-bg-color);\n",
              "    box-shadow: 0 1px 2px rgba(60, 64, 67, 0.3), 0 1px 3px 1px rgba(60, 64, 67, 0.15);\n",
              "    fill: var(--button-hover-fill-color);\n",
              "  }\n",
              "\n",
              "  .colab-df-quickchart-complete:disabled,\n",
              "  .colab-df-quickchart-complete:disabled:hover {\n",
              "    background-color: var(--disabled-bg-color);\n",
              "    fill: var(--disabled-fill-color);\n",
              "    box-shadow: none;\n",
              "  }\n",
              "\n",
              "  .colab-df-spinner {\n",
              "    border: 2px solid var(--fill-color);\n",
              "    border-color: transparent;\n",
              "    border-bottom-color: var(--fill-color);\n",
              "    animation:\n",
              "      spin 1s steps(1) infinite;\n",
              "  }\n",
              "\n",
              "  @keyframes spin {\n",
              "    0% {\n",
              "      border-color: transparent;\n",
              "      border-bottom-color: var(--fill-color);\n",
              "      border-left-color: var(--fill-color);\n",
              "    }\n",
              "    20% {\n",
              "      border-color: transparent;\n",
              "      border-left-color: var(--fill-color);\n",
              "      border-top-color: var(--fill-color);\n",
              "    }\n",
              "    30% {\n",
              "      border-color: transparent;\n",
              "      border-left-color: var(--fill-color);\n",
              "      border-top-color: var(--fill-color);\n",
              "      border-right-color: var(--fill-color);\n",
              "    }\n",
              "    40% {\n",
              "      border-color: transparent;\n",
              "      border-right-color: var(--fill-color);\n",
              "      border-top-color: var(--fill-color);\n",
              "    }\n",
              "    60% {\n",
              "      border-color: transparent;\n",
              "      border-right-color: var(--fill-color);\n",
              "    }\n",
              "    80% {\n",
              "      border-color: transparent;\n",
              "      border-right-color: var(--fill-color);\n",
              "      border-bottom-color: var(--fill-color);\n",
              "    }\n",
              "    90% {\n",
              "      border-color: transparent;\n",
              "      border-bottom-color: var(--fill-color);\n",
              "    }\n",
              "  }\n",
              "</style>\n",
              "\n",
              "  <script>\n",
              "    async function quickchart(key) {\n",
              "      const quickchartButtonEl =\n",
              "        document.querySelector('#' + key + ' button');\n",
              "      quickchartButtonEl.disabled = true;  // To prevent multiple clicks.\n",
              "      quickchartButtonEl.classList.add('colab-df-spinner');\n",
              "      try {\n",
              "        const charts = await google.colab.kernel.invokeFunction(\n",
              "            'suggestCharts', [key], {});\n",
              "      } catch (error) {\n",
              "        console.error('Error during call to suggestCharts:', error);\n",
              "      }\n",
              "      quickchartButtonEl.classList.remove('colab-df-spinner');\n",
              "      quickchartButtonEl.classList.add('colab-df-quickchart-complete');\n",
              "    }\n",
              "    (() => {\n",
              "      let quickchartButtonEl =\n",
              "        document.querySelector('#df-33fb7e6b-0f83-4859-b3f8-3fe1abd37c79 button');\n",
              "      quickchartButtonEl.style.display =\n",
              "        google.colab.kernel.accessAllowed ? 'block' : 'none';\n",
              "    })();\n",
              "  </script>\n",
              "</div>\n",
              "\n",
              "    </div>\n",
              "  </div>\n"
            ],
            "application/vnd.google.colaboratory.intrinsic+json": {
              "type": "dataframe",
              "variable_name": "spectra",
              "summary": "{\n  \"name\": \"spectra\",\n  \"rows\": 296,\n  \"fields\": [\n    {\n      \"column\": \"names\",\n      \"properties\": {\n        \"dtype\": \"category\",\n        \"num_unique_values\": 53,\n        \"samples\": [\n          \"sn1984L\",\n          \"sn2005cl\",\n          \"sn1987K\"\n        ],\n        \"semantic_type\": \"\",\n        \"description\": \"\"\n      }\n    },\n    {\n      \"column\": \"ages\",\n      \"properties\": {\n        \"dtype\": \"number\",\n        \"std\": 53.8277174665542,\n        \"min\": -84.0,\n        \"max\": 391.0,\n        \"num_unique_values\": 105,\n        \"samples\": [\n          -8.0,\n          40.0,\n          33.0\n        ],\n        \"semantic_type\": \"\",\n        \"description\": \"\"\n      }\n    },\n    {\n      \"column\": \"ttypes\",\n      \"properties\": {\n        \"dtype\": \"category\",\n        \"num_unique_values\": 4,\n        \"samples\": [\n          \"Ib\",\n          \"II\",\n          \"Ia\"\n        ],\n        \"semantic_type\": \"\",\n        \"description\": \"\"\n      }\n    },\n    {\n      \"column\": \"wavelengths\",\n      \"properties\": {\n        \"dtype\": \"object\",\n        \"semantic_type\": \"\",\n        \"description\": \"\"\n      }\n    },\n    {\n      \"column\": \"processed_fluxes\",\n      \"properties\": {\n        \"dtype\": \"object\",\n        \"semantic_type\": \"\",\n        \"description\": \"\"\n      }\n    }\n  ]\n}"
            }
          },
          "metadata": {},
          "execution_count": 11
        }
      ]
    },
    {
      "cell_type": "code",
      "execution_count": null,
      "metadata": {
        "id": "EoQmHPc1G_v9"
      },
      "outputs": [],
      "source": [
        "def sim_spec(spectrum, num_flux_variations=10):\n",
        "\n",
        "   sim_spectrum_waves = []\n",
        "   sim_spectrum_fluxes = []\n",
        "   sim_spectrum_names = []\n",
        "   for i in range(num_flux_variations):\n",
        "    z = np.random.uniform(0, 0.5)\n",
        "    sim_spectrum_wave = spectrum['wavelengths'] * (1+z)\n",
        "    sim_spectrum_flux = spectrum['processed_fluxes'] + np.random.normal(0, 0.01, len(spectrum['processed_fluxes']))\n",
        "    sim_spectrum_fluxes.append(sim_spectrum_flux)\n",
        "    sim_spectrum_waves.append(sim_spectrum_wave)\n",
        "    sim_spectrum_names.append(f\"{spectrum['names']}_{z}\")\n",
        "\n",
        "   return sim_spectrum_wave, sim_spectrum_flux, z"
      ]
    },
    {
      "cell_type": "code",
      "execution_count": null,
      "metadata": {
        "id": "LSQlJVql3s_L"
      },
      "outputs": [],
      "source": [
        "def simulate_spectra_df(spectra, num_redshift_variations=10):\n",
        "\n",
        "    simulated_spectra = []\n",
        "\n",
        "    for _, spectrum in spectra.iterrows():\n",
        "        # Duplicate + add noise to fluxes\n",
        "        for _ in range(num_redshift_variations):\n",
        "            simulated_spectrum = spectrum.copy()\n",
        "            simulated_spectrum['processed_fluxes'] += np.random.normal(0, 0.01, len(spectrum['processed_fluxes']))\n",
        "            simulated_spectra.append(simulated_spectrum)\n",
        "\n",
        "    simulated_spectra_df = pd.DataFrame(simulated_spectra)\n",
        "\n",
        "    # Generate redshifts & calculate redshifted wavelengths\n",
        "    simulated_spectra_df['redshift'] = np.random.uniform(0, 0.5, len(simulated_spectra_df))\n",
        "    simulated_spectra_df['redshifted_wavelengths'] = simulated_spectra_df['wavelengths'] * (1 + simulated_spectra_df['redshift'])\n",
        "\n",
        "    return simulated_spectra_df"
      ]
    },
    {
      "cell_type": "code",
      "execution_count": null,
      "metadata": {
        "id": "CHIsUKyGlI-4",
        "colab": {
          "base_uri": "https://localhost:8080/",
          "height": 478
        },
        "outputId": "e223026b-f230-41d9-abf3-024a0aef75d0"
      },
      "outputs": [
        {
          "output_type": "display_data",
          "data": {
            "text/plain": [
              "<Figure size 640x480 with 1 Axes>"
            ],
            "image/png": "[encoded data removed]"
          },
          "metadata": {}
        }
      ],
      "source": [
        "simulated_spectra_df = simulate_spectra_df(spectra, num_redshift_variations=10)\n",
        "first_name = simulated_spectra_df['names'].iloc[0]\n",
        "desired_age = -1\n",
        "subset = simulated_spectra_df[(simulated_spectra_df['names'] == first_name) & (simulated_spectra_df['ages'] == desired_age)]\n",
        "\n",
        "plt.figure()\n",
        "\n",
        "for i, row in subset.iterrows():  # iterate through the 10 copies\n",
        "    plt.plot(row['redshifted_wavelengths'], row['processed_fluxes'], label=f\"Redshift: {row['redshift']:.2f}\")\n",
        "\n",
        "plt.title(f\"Spectrum Variations for Object {first_name} at Age {desired_age}\")\n",
        "plt.xlabel('Redshifted Wavelength ($\\AA$)')\n",
        "plt.ylabel('Flux (with Noise)')\n",
        "plt.legend()\n",
        "plt.show()"
      ]
    },
    {
      "cell_type": "code",
      "execution_count": null,
      "metadata": {
        "id": "6xlAoCYI9x-_",
        "colab": {
          "base_uri": "https://localhost:8080/"
        },
        "outputId": "54df085b-65c6-4963-8636-c41eccf4de7d"
      },
      "outputs": [
        {
          "output_type": "stream",
          "name": "stdout",
          "text": [
            "Training set shape: (2072, 2048) (2072,)\n",
            "Validation set shape: (444, 2048) (444,)\n",
            "Testing set shape: (444, 2048) (444,)\n",
            "X shape:  (2960, 2048)\n"
          ]
        }
      ],
      "source": [
        "#train test split + validation\n",
        "import numpy as np\n",
        "from sklearn.model_selection import train_test_split\n",
        "\n",
        "# extract features and target variable\n",
        "X = simulated_spectra_df[['redshifted_wavelengths', 'processed_fluxes']].values\n",
        "y = simulated_spectra_df['redshift'].values  # target = redshift(z)\n",
        "\n",
        "X = np.hstack([\n",
        "    simulated_spectra_df['redshifted_wavelengths'].apply(np.array).tolist(),\n",
        "    simulated_spectra_df['processed_fluxes'].apply(np.array).tolist()\n",
        "])\n",
        "y = simulated_spectra_df['redshift'].values\n",
        "\n",
        "# Split into train, validation, and test sets\n",
        "X_train, X_temp, y_train, y_temp = train_test_split(X, y, test_size=0.3, random_state=42)  # 70% train, 30% (test + validation)\n",
        "X_val, X_test, y_val, y_test = train_test_split(X_temp, y_temp, test_size=0.5, random_state=42)  # 15% validation, 15% test\n",
        "\n",
        "print(\"Training set shape:\", X_train.shape, y_train.shape)\n",
        "print(\"Validation set shape:\", X_val.shape, y_val.shape)\n",
        "print(\"Testing set shape:\", X_test.shape, y_test.shape)\n",
        "print(\"X shape: \", X.shape)"
      ]
    },
    {
      "cell_type": "code",
      "source": [
        "from sklearn.metrics import mean_squared_error, r2_score\n",
        "\n",
        "def evaluate_model(model, X_test, y_test, X_val, y_val):\n",
        "\n",
        "    # Test set evaluation\n",
        "    y_pred = model.predict(X_test)\n",
        "    mse = mean_squared_error(y_test, y_pred)\n",
        "    r2 = r2_score(y_test, y_pred)\n",
        "\n",
        "    print(\"Test Mean Squared Error:\", mse)\n",
        "    print(\"Test R-squared Score:\", r2)\n",
        "\n",
        "    # Validation set evaluation\n",
        "    y_val_pred = model.predict(X_val)\n",
        "    mse_val = mean_squared_error(y_val, y_val_pred)\n",
        "    r2_val = r2_score(y_val, y_val_pred)\n",
        "\n",
        "    print(\"Validation Mean Squared Error:\", mse_val)\n",
        "    print(\"Validation R-squared Score:\", r2_val)"
      ],
      "metadata": {
        "id": "IfKE5DGc_FpF"
      },
      "execution_count": null,
      "outputs": []
    },
    {
      "cell_type": "code",
      "source": [
        "def plot_predicted_vs_actual(y_test, y_pred, title=\"Predicted vs Actual\"):\n",
        "\n",
        "    plt.figure(figsize=(8, 6))\n",
        "    plt.scatter(y_test, y_pred, alpha=0.5)\n",
        "    plt.xlabel(\"Actual\")\n",
        "    plt.ylabel(\"Predicted\")\n",
        "    plt.title(title)\n",
        "    plt.plot([min(y_test), max(y_test)], [min(y_test), max(y_test)],\n",
        "             color='red', linestyle='--', label='Ideal')\n",
        "    plt.legend()\n",
        "    plt.grid(True)\n",
        "    plt.show()"
      ],
      "metadata": {
        "id": "c6uTNRFFEIOh"
      },
      "execution_count": null,
      "outputs": []
    },
    {
      "cell_type": "code",
      "source": [
        "def plot_residuals_histogram(y_test, y_pred, bins=30, title=\"Histogram of Residuals\"):\n",
        "    residuals = y_test - y_pred\n",
        "    plt.figure(figsize=(8, 6))\n",
        "    plt.hist(residuals, bins=bins)\n",
        "    plt.xlabel(\"Residuals\")\n",
        "    plt.ylabel(\"Frequency\")\n",
        "    plt.title(title)\n",
        "    plt.grid(True)\n",
        "    plt.show()"
      ],
      "metadata": {
        "id": "AhI7nG9rvN31"
      },
      "execution_count": null,
      "outputs": []
    },
    {
      "cell_type": "code",
      "execution_count": null,
      "metadata": {
        "id": "QF2RC6tkMM_0",
        "colab": {
          "base_uri": "https://localhost:8080/",
          "height": 80
        },
        "outputId": "3291c43b-d554-48d4-fbee-91a45022383a"
      },
      "outputs": [
        {
          "output_type": "execute_result",
          "data": {
            "text/plain": [
              "RandomForestRegressor(random_state=42)"
            ],
            "text/html": [
              "<style>#sk-container-id-1 {\n",
              "  /* Definition of color scheme common for light and dark mode */\n",
              "  --sklearn-color-text: black;\n",
              "  --sklearn-color-line: gray;\n",
              "  /* Definition of color scheme for unfitted estimators */\n",
              "  --sklearn-color-unfitted-level-0: #fff5e6;\n",
              "  --sklearn-color-unfitted-level-1: #f6e4d2;\n",
              "  --sklearn-color-unfitted-level-2: #ffe0b3;\n",
              "  --sklearn-color-unfitted-level-3: chocolate;\n",
              "  /* Definition of color scheme for fitted estimators */\n",
              "  --sklearn-color-fitted-level-0: #f0f8ff;\n",
              "  --sklearn-color-fitted-level-1: #d4ebff;\n",
              "  --sklearn-color-fitted-level-2: #b3dbfd;\n",
              "  --sklearn-color-fitted-level-3: cornflowerblue;\n",
              "\n",
              "  /* Specific color for light theme */\n",
              "  --sklearn-color-text-on-default-background: var(--sg-text-color, var(--theme-code-foreground, var(--jp-content-font-color1, black)));\n",
              "  --sklearn-color-background: var(--sg-background-color, var(--theme-background, var(--jp-layout-color0, white)));\n",
              "  --sklearn-color-border-box: var(--sg-text-color, var(--theme-code-foreground, var(--jp-content-font-color1, black)));\n",
              "  --sklearn-color-icon: #696969;\n",
              "\n",
              "  @media (prefers-color-scheme: dark) {\n",
              "    /* Redefinition of color scheme for dark theme */\n",
              "    --sklearn-color-text-on-default-background: var(--sg-text-color, var(--theme-code-foreground, var(--jp-content-font-color1, white)));\n",
              "    --sklearn-color-background: var(--sg-background-color, var(--theme-background, var(--jp-layout-color0, #111)));\n",
              "    --sklearn-color-border-box: var(--sg-text-color, var(--theme-code-foreground, var(--jp-content-font-color1, white)));\n",
              "    --sklearn-color-icon: #878787;\n",
              "  }\n",
              "}\n",
              "\n",
              "#sk-container-id-1 {\n",
              "  color: var(--sklearn-color-text);\n",
              "}\n",
              "\n",
              "#sk-container-id-1 pre {\n",
              "  padding: 0;\n",
              "}\n",
              "\n",
              "#sk-container-id-1 input.sk-hidden--visually {\n",
              "  border: 0;\n",
              "  clip: rect(1px 1px 1px 1px);\n",
              "  clip: rect(1px, 1px, 1px, 1px);\n",
              "  height: 1px;\n",
              "  margin: -1px;\n",
              "  overflow: hidden;\n",
              "  padding: 0;\n",
              "  position: absolute;\n",
              "  width: 1px;\n",
              "}\n",
              "\n",
              "#sk-container-id-1 div.sk-dashed-wrapped {\n",
              "  border: 1px dashed var(--sklearn-color-line);\n",
              "  margin: 0 0.4em 0.5em 0.4em;\n",
              "  box-sizing: border-box;\n",
              "  padding-bottom: 0.4em;\n",
              "  background-color: var(--sklearn-color-background);\n",
              "}\n",
              "\n",
              "#sk-container-id-1 div.sk-container {\n",
              "  /* jupyter's `normalize.less` sets `[hidden] { display: none; }`\n",
              "     but bootstrap.min.css set `[hidden] { display: none !important; }`\n",
              "     so we also need the `!important` here to be able to override the\n",
              "     default hidden behavior on the sphinx rendered scikit-learn.org.\n",
              "     See: https://github.com/scikit-learn/scikit-learn/issues/21755 */\n",
              "  display: inline-block !important;\n",
              "  position: relative;\n",
              "}\n",
              "\n",
              "#sk-container-id-1 div.sk-text-repr-fallback {\n",
              "  display: none;\n",
              "}\n",
              "\n",
              "div.sk-parallel-item,\n",
              "div.sk-serial,\n",
              "div.sk-item {\n",
              "  /* draw centered vertical line to link estimators */\n",
              "  background-image: linear-gradient(var(--sklearn-color-text-on-default-background), var(--sklearn-color-text-on-default-background));\n",
              "  background-size: 2px 100%;\n",
              "  background-repeat: no-repeat;\n",
              "  background-position: center center;\n",
              "}\n",
              "\n",
              "/* Parallel-specific style estimator block */\n",
              "\n",
              "#sk-container-id-1 div.sk-parallel-item::after {\n",
              "  content: \"\";\n",
              "  width: 100%;\n",
              "  border-bottom: 2px solid var(--sklearn-color-text-on-default-background);\n",
              "  flex-grow: 1;\n",
              "}\n",
              "\n",
              "#sk-container-id-1 div.sk-parallel {\n",
              "  display: flex;\n",
              "  align-items: stretch;\n",
              "  justify-content: center;\n",
              "  background-color: var(--sklearn-color-background);\n",
              "  position: relative;\n",
              "}\n",
              "\n",
              "#sk-container-id-1 div.sk-parallel-item {\n",
              "  display: flex;\n",
              "  flex-direction: column;\n",
              "}\n",
              "\n",
              "#sk-container-id-1 div.sk-parallel-item:first-child::after {\n",
              "  align-self: flex-end;\n",
              "  width: 50%;\n",
              "}\n",
              "\n",
              "#sk-container-id-1 div.sk-parallel-item:last-child::after {\n",
              "  align-self: flex-start;\n",
              "  width: 50%;\n",
              "}\n",
              "\n",
              "#sk-container-id-1 div.sk-parallel-item:only-child::after {\n",
              "  width: 0;\n",
              "}\n",
              "\n",
              "/* Serial-specific style estimator block */\n",
              "\n",
              "#sk-container-id-1 div.sk-serial {\n",
              "  display: flex;\n",
              "  flex-direction: column;\n",
              "  align-items: center;\n",
              "  background-color: var(--sklearn-color-background);\n",
              "  padding-right: 1em;\n",
              "  padding-left: 1em;\n",
              "}\n",
              "\n",
              "\n",
              "/* Toggleable style: style used for estimator/Pipeline/ColumnTransformer box that is\n",
              "clickable and can be expanded/collapsed.\n",
              "- Pipeline and ColumnTransformer use this feature and define the default style\n",
              "- Estimators will overwrite some part of the style using the `sk-estimator` class\n",
              "*/\n",
              "\n",
              "/* Pipeline and ColumnTransformer style (default) */\n",
              "\n",
              "#sk-container-id-1 div.sk-toggleable {\n",
              "  /* Default theme specific background. It is overwritten whether we have a\n",
              "  specific estimator or a Pipeline/ColumnTransformer */\n",
              "  background-color: var(--sklearn-color-background);\n",
              "}\n",
              "\n",
              "/* Toggleable label */\n",
              "#sk-container-id-1 label.sk-toggleable__label {\n",
              "  cursor: pointer;\n",
              "  display: block;\n",
              "  width: 100%;\n",
              "  margin-bottom: 0;\n",
              "  padding: 0.5em;\n",
              "  box-sizing: border-box;\n",
              "  text-align: center;\n",
              "}\n",
              "\n",
              "#sk-container-id-1 label.sk-toggleable__label-arrow:before {\n",
              "  /* Arrow on the left of the label */\n",
              "  content: \"▸\";\n",
              "  float: left;\n",
              "  margin-right: 0.25em;\n",
              "  color: var(--sklearn-color-icon);\n",
              "}\n",
              "\n",
              "#sk-container-id-1 label.sk-toggleable__label-arrow:hover:before {\n",
              "  color: var(--sklearn-color-text);\n",
              "}\n",
              "\n",
              "/* Toggleable content - dropdown */\n",
              "\n",
              "#sk-container-id-1 div.sk-toggleable__content {\n",
              "  max-height: 0;\n",
              "  max-width: 0;\n",
              "  overflow: hidden;\n",
              "  text-align: left;\n",
              "  /* unfitted */\n",
              "  background-color: var(--sklearn-color-unfitted-level-0);\n",
              "}\n",
              "\n",
              "#sk-container-id-1 div.sk-toggleable__content.fitted {\n",
              "  /* fitted */\n",
              "  background-color: var(--sklearn-color-fitted-level-0);\n",
              "}\n",
              "\n",
              "#sk-container-id-1 div.sk-toggleable__content pre {\n",
              "  margin: 0.2em;\n",
              "  border-radius: 0.25em;\n",
              "  color: var(--sklearn-color-text);\n",
              "  /* unfitted */\n",
              "  background-color: var(--sklearn-color-unfitted-level-0);\n",
              "}\n",
              "\n",
              "#sk-container-id-1 div.sk-toggleable__content.fitted pre {\n",
              "  /* unfitted */\n",
              "  background-color: var(--sklearn-color-fitted-level-0);\n",
              "}\n",
              "\n",
              "#sk-container-id-1 input.sk-toggleable__control:checked~div.sk-toggleable__content {\n",
              "  /* Expand drop-down */\n",
              "  max-height: 200px;\n",
              "  max-width: 100%;\n",
              "  overflow: auto;\n",
              "}\n",
              "\n",
              "#sk-container-id-1 input.sk-toggleable__control:checked~label.sk-toggleable__label-arrow:before {\n",
              "  content: \"▾\";\n",
              "}\n",
              "\n",
              "/* Pipeline/ColumnTransformer-specific style */\n",
              "\n",
              "#sk-container-id-1 div.sk-label input.sk-toggleable__control:checked~label.sk-toggleable__label {\n",
              "  color: var(--sklearn-color-text);\n",
              "  background-color: var(--sklearn-color-unfitted-level-2);\n",
              "}\n",
              "\n",
              "#sk-container-id-1 div.sk-label.fitted input.sk-toggleable__control:checked~label.sk-toggleable__label {\n",
              "  background-color: var(--sklearn-color-fitted-level-2);\n",
              "}\n",
              "\n",
              "/* Estimator-specific style */\n",
              "\n",
              "/* Colorize estimator box */\n",
              "#sk-container-id-1 div.sk-estimator input.sk-toggleable__control:checked~label.sk-toggleable__label {\n",
              "  /* unfitted */\n",
              "  background-color: var(--sklearn-color-unfitted-level-2);\n",
              "}\n",
              "\n",
              "#sk-container-id-1 div.sk-estimator.fitted input.sk-toggleable__control:checked~label.sk-toggleable__label {\n",
              "  /* fitted */\n",
              "  background-color: var(--sklearn-color-fitted-level-2);\n",
              "}\n",
              "\n",
              "#sk-container-id-1 div.sk-label label.sk-toggleable__label,\n",
              "#sk-container-id-1 div.sk-label label {\n",
              "  /* The background is the default theme color */\n",
              "  color: var(--sklearn-color-text-on-default-background);\n",
              "}\n",
              "\n",
              "/* On hover, darken the color of the background */\n",
              "#sk-container-id-1 div.sk-label:hover label.sk-toggleable__label {\n",
              "  color: var(--sklearn-color-text);\n",
              "  background-color: var(--sklearn-color-unfitted-level-2);\n",
              "}\n",
              "\n",
              "/* Label box, darken color on hover, fitted */\n",
              "#sk-container-id-1 div.sk-label.fitted:hover label.sk-toggleable__label.fitted {\n",
              "  color: var(--sklearn-color-text);\n",
              "  background-color: var(--sklearn-color-fitted-level-2);\n",
              "}\n",
              "\n",
              "/* Estimator label */\n",
              "\n",
              "#sk-container-id-1 div.sk-label label {\n",
              "  font-family: monospace;\n",
              "  font-weight: bold;\n",
              "  display: inline-block;\n",
              "  line-height: 1.2em;\n",
              "}\n",
              "\n",
              "#sk-container-id-1 div.sk-label-container {\n",
              "  text-align: center;\n",
              "}\n",
              "\n",
              "/* Estimator-specific */\n",
              "#sk-container-id-1 div.sk-estimator {\n",
              "  font-family: monospace;\n",
              "  border: 1px dotted var(--sklearn-color-border-box);\n",
              "  border-radius: 0.25em;\n",
              "  box-sizing: border-box;\n",
              "  margin-bottom: 0.5em;\n",
              "  /* unfitted */\n",
              "  background-color: var(--sklearn-color-unfitted-level-0);\n",
              "}\n",
              "\n",
              "#sk-container-id-1 div.sk-estimator.fitted {\n",
              "  /* fitted */\n",
              "  background-color: var(--sklearn-color-fitted-level-0);\n",
              "}\n",
              "\n",
              "/* on hover */\n",
              "#sk-container-id-1 div.sk-estimator:hover {\n",
              "  /* unfitted */\n",
              "  background-color: var(--sklearn-color-unfitted-level-2);\n",
              "}\n",
              "\n",
              "#sk-container-id-1 div.sk-estimator.fitted:hover {\n",
              "  /* fitted */\n",
              "  background-color: var(--sklearn-color-fitted-level-2);\n",
              "}\n",
              "\n",
              "/* Specification for estimator info (e.g. \"i\" and \"?\") */\n",
              "\n",
              "/* Common style for \"i\" and \"?\" */\n",
              "\n",
              ".sk-estimator-doc-link,\n",
              "a:link.sk-estimator-doc-link,\n",
              "a:visited.sk-estimator-doc-link {\n",
              "  float: right;\n",
              "  font-size: smaller;\n",
              "  line-height: 1em;\n",
              "  font-family: monospace;\n",
              "  background-color: var(--sklearn-color-background);\n",
              "  border-radius: 1em;\n",
              "  height: 1em;\n",
              "  width: 1em;\n",
              "  text-decoration: none !important;\n",
              "  margin-left: 1ex;\n",
              "  /* unfitted */\n",
              "  border: var(--sklearn-color-unfitted-level-1) 1pt solid;\n",
              "  color: var(--sklearn-color-unfitted-level-1);\n",
              "}\n",
              "\n",
              ".sk-estimator-doc-link.fitted,\n",
              "a:link.sk-estimator-doc-link.fitted,\n",
              "a:visited.sk-estimator-doc-link.fitted {\n",
              "  /* fitted */\n",
              "  border: var(--sklearn-color-fitted-level-1) 1pt solid;\n",
              "  color: var(--sklearn-color-fitted-level-1);\n",
              "}\n",
              "\n",
              "/* On hover */\n",
              "div.sk-estimator:hover .sk-estimator-doc-link:hover,\n",
              ".sk-estimator-doc-link:hover,\n",
              "div.sk-label-container:hover .sk-estimator-doc-link:hover,\n",
              ".sk-estimator-doc-link:hover {\n",
              "  /* unfitted */\n",
              "  background-color: var(--sklearn-color-unfitted-level-3);\n",
              "  color: var(--sklearn-color-background);\n",
              "  text-decoration: none;\n",
              "}\n",
              "\n",
              "div.sk-estimator.fitted:hover .sk-estimator-doc-link.fitted:hover,\n",
              ".sk-estimator-doc-link.fitted:hover,\n",
              "div.sk-label-container:hover .sk-estimator-doc-link.fitted:hover,\n",
              ".sk-estimator-doc-link.fitted:hover {\n",
              "  /* fitted */\n",
              "  background-color: var(--sklearn-color-fitted-level-3);\n",
              "  color: var(--sklearn-color-background);\n",
              "  text-decoration: none;\n",
              "}\n",
              "\n",
              "/* Span, style for the box shown on hovering the info icon */\n",
              ".sk-estimator-doc-link span {\n",
              "  display: none;\n",
              "  z-index: 9999;\n",
              "  position: relative;\n",
              "  font-weight: normal;\n",
              "  right: .2ex;\n",
              "  padding: .5ex;\n",
              "  margin: .5ex;\n",
              "  width: min-content;\n",
              "  min-width: 20ex;\n",
              "  max-width: 50ex;\n",
              "  color: var(--sklearn-color-text);\n",
              "  box-shadow: 2pt 2pt 4pt #999;\n",
              "  /* unfitted */\n",
              "  background: var(--sklearn-color-unfitted-level-0);\n",
              "  border: .5pt solid var(--sklearn-color-unfitted-level-3);\n",
              "}\n",
              "\n",
              ".sk-estimator-doc-link.fitted span {\n",
              "  /* fitted */\n",
              "  background: var(--sklearn-color-fitted-level-0);\n",
              "  border: var(--sklearn-color-fitted-level-3);\n",
              "}\n",
              "\n",
              ".sk-estimator-doc-link:hover span {\n",
              "  display: block;\n",
              "}\n",
              "\n",
              "/* \"?\"-specific style due to the `<a>` HTML tag */\n",
              "\n",
              "#sk-container-id-1 a.estimator_doc_link {\n",
              "  float: right;\n",
              "  font-size: 1rem;\n",
              "  line-height: 1em;\n",
              "  font-family: monospace;\n",
              "  background-color: var(--sklearn-color-background);\n",
              "  border-radius: 1rem;\n",
              "  height: 1rem;\n",
              "  width: 1rem;\n",
              "  text-decoration: none;\n",
              "  /* unfitted */\n",
              "  color: var(--sklearn-color-unfitted-level-1);\n",
              "  border: var(--sklearn-color-unfitted-level-1) 1pt solid;\n",
              "}\n",
              "\n",
              "#sk-container-id-1 a.estimator_doc_link.fitted {\n",
              "  /* fitted */\n",
              "  border: var(--sklearn-color-fitted-level-1) 1pt solid;\n",
              "  color: var(--sklearn-color-fitted-level-1);\n",
              "}\n",
              "\n",
              "/* On hover */\n",
              "#sk-container-id-1 a.estimator_doc_link:hover {\n",
              "  /* unfitted */\n",
              "  background-color: var(--sklearn-color-unfitted-level-3);\n",
              "  color: var(--sklearn-color-background);\n",
              "  text-decoration: none;\n",
              "}\n",
              "\n",
              "#sk-container-id-1 a.estimator_doc_link.fitted:hover {\n",
              "  /* fitted */\n",
              "  background-color: var(--sklearn-color-fitted-level-3);\n",
              "}\n",
              "</style><div id=\"sk-container-id-1\" class=\"sk-top-container\"><div class=\"sk-text-repr-fallback\"><pre>RandomForestRegressor(random_state=42)</pre><b>In a Jupyter environment, please rerun this cell to show the HTML representation or trust the notebook. <br />On GitHub, the HTML representation is unable to render, please try loading this page with nbviewer.org.</b></div><div class=\"sk-container\" hidden><div class=\"sk-item\"><div class=\"sk-estimator fitted sk-toggleable\"><input class=\"sk-toggleable__control sk-hidden--visually\" id=\"sk-estimator-id-1\" type=\"checkbox\" checked><label for=\"sk-estimator-id-1\" class=\"sk-toggleable__label fitted sk-toggleable__label-arrow fitted\">&nbsp;&nbsp;RandomForestRegressor<a class=\"sk-estimator-doc-link fitted\" rel=\"noreferrer\" target=\"_blank\" href=\"https://scikit-learn.org/1.5/modules/generated/sklearn.ensemble.RandomForestRegressor.html\">?<span>Documentation for RandomForestRegressor</span></a><span class=\"sk-estimator-doc-link fitted\">i<span>Fitted</span></span></label><div class=\"sk-toggleable__content fitted\"><pre>RandomForestRegressor(random_state=42)</pre></div> </div></div></div></div>"
            ]
          },
          "metadata": {},
          "execution_count": 18
        }
      ],
      "source": [
        "from sklearn.ensemble import RandomForestRegressor\n",
        "\n",
        "# Random Forest Regressor\n",
        "rf_regressor = RandomForestRegressor(n_estimators=100, random_state=42)\n",
        "rf_regressor.fit(X_train, y_train)\n"
      ]
    },
    {
      "cell_type": "code",
      "source": [
        "evaluate_model(rf_regressor, X_test, y_test, X_val, y_val)"
      ],
      "metadata": {
        "id": "t3dj8nn__pZE",
        "colab": {
          "base_uri": "https://localhost:8080/"
        },
        "outputId": "6c0a42ff-cf92-4ba5-dc3f-db0b8af2878e"
      },
      "execution_count": null,
      "outputs": [
        {
          "output_type": "stream",
          "name": "stdout",
          "text": [
            "Test Mean Squared Error: 3.361172666964291e-08\n",
            "Test R-squared Score: 0.9999983231590478\n",
            "Validation Mean Squared Error: 3.428859503128833e-08\n",
            "Validation R-squared Score: 0.9999983409207199\n"
          ]
        }
      ]
    },
    {
      "cell_type": "code",
      "source": [
        "y_pred_rf = rf_regressor.predict(X_test)\n",
        "plot_predicted_vs_actual(y_test, y_pred_rf, title=\"Predicted vs Actual Redshift (RF Regressor)\")"
      ],
      "metadata": {
        "id": "M7FJUlhPEWFg",
        "colab": {
          "base_uri": "https://localhost:8080/",
          "height": 564
        },
        "outputId": "6709c74b-2ee0-4576-9352-4f365cc75c4a"
      },
      "execution_count": null,
      "outputs": [
        {
          "output_type": "display_data",
          "data": {
            "text/plain": [
              "<Figure size 800x600 with 1 Axes>"
            ],
            "image/png": "[encoded data removed]"
          },
          "metadata": {}
        }
      ]
    },
    {
      "cell_type": "code",
      "source": [
        "plot_residuals_histogram(y_test, y_pred_rf, title = \"Histogram of Residuals (RF)\")"
      ],
      "metadata": {
        "colab": {
          "base_uri": "https://localhost:8080/",
          "height": 564
        },
        "id": "6ctjb7cJokzr",
        "outputId": "86974df9-f2e9-4c5c-9c34-6b23aa644812"
      },
      "execution_count": null,
      "outputs": [
        {
          "output_type": "display_data",
          "data": {
            "text/plain": [
              "<Figure size 800x600 with 1 Axes>"
            ],
            "image/png": "[encoded data removed]"
          },
          "metadata": {}
        }
      ]
    },
    {
      "cell_type": "code",
      "execution_count": null,
      "metadata": {
        "id": "cm4XJinn3Mcp",
        "colab": {
          "base_uri": "https://localhost:8080/"
        },
        "outputId": "36747769-ea98-4730-d67e-853924b04b43"
      },
      "outputs": [
        {
          "output_type": "stream",
          "name": "stdout",
          "text": [
            "Requirement already satisfied: lightgbm==3.3.5 in /usr/local/lib/python3.10/dist-packages (3.3.5)\n",
            "Requirement already satisfied: wheel in /usr/local/lib/python3.10/dist-packages (from lightgbm==3.3.5) (0.44.0)\n",
            "Requirement already satisfied: numpy in /usr/local/lib/python3.10/dist-packages (from lightgbm==3.3.5) (1.26.4)\n",
            "Requirement already satisfied: scipy in /usr/local/lib/python3.10/dist-packages (from lightgbm==3.3.5) (1.13.1)\n",
            "Requirement already satisfied: scikit-learn!=0.22.0 in /usr/local/lib/python3.10/dist-packages (from lightgbm==3.3.5) (1.5.2)\n",
            "Requirement already satisfied: joblib>=1.2.0 in /usr/local/lib/python3.10/dist-packages (from scikit-learn!=0.22.0->lightgbm==3.3.5) (1.4.2)\n",
            "Requirement already satisfied: threadpoolctl>=3.1.0 in /usr/local/lib/python3.10/dist-packages (from scikit-learn!=0.22.0->lightgbm==3.3.5) (3.5.0)\n"
          ]
        },
        {
          "output_type": "stream",
          "name": "stderr",
          "text": [
            "/usr/local/lib/python3.10/dist-packages/dask/dataframe/__init__.py:42: FutureWarning: \n",
            "Dask dataframe query planning is disabled because dask-expr is not installed.\n",
            "\n",
            "You can install it with `pip install dask[dataframe]` or `conda install dask`.\n",
            "This will raise in a future version.\n",
            "\n",
            "  warnings.warn(msg, FutureWarning)\n"
          ]
        },
        {
          "output_type": "stream",
          "name": "stdout",
          "text": [
            "[LightGBM] [Warning] Auto-choosing col-wise multi-threading, the overhead of testing was 1.184580 seconds.\n",
            "You can set `force_col_wise=true` to remove the overhead.\n",
            "[LightGBM] [Info] Total Bins 509200\n",
            "[LightGBM] [Info] Number of data points in the train set: 2072, number of used features: 2048\n",
            "[LightGBM] [Info] Start training from score 0.257378\n"
          ]
        }
      ],
      "source": [
        "#GBM using decision trees\n",
        "!pip install lightgbm==3.3.5\n",
        "import lightgbm as lgb\n",
        "\n",
        "train_data = lgb.Dataset(X_train, label=y_train)\n",
        "\n",
        "params = {\n",
        "    'objective': 'regression',  # For redshift prediction\n",
        "    'boosting_type': 'gbdt',  # Gradient Boosting Decision Tree\n",
        "}\n",
        "\n",
        "lgb_model = lgb.train(params, train_data, num_boost_round=100)\n",
        "y_pred_lgb = lgb_model.predict(X_test)"
      ]
    },
    {
      "cell_type": "code",
      "source": [
        "plot_predicted_vs_actual(y_test, y_pred_lgb, title=\"Predicted vs Actual Redshift (LightGBM)\")"
      ],
      "metadata": {
        "id": "Hvp70qhWFhk6",
        "colab": {
          "base_uri": "https://localhost:8080/",
          "height": 564
        },
        "outputId": "4aecf3e1-ea5f-4d92-fed4-dbb33549eae7"
      },
      "execution_count": null,
      "outputs": [
        {
          "output_type": "display_data",
          "data": {
            "text/plain": [
              "<Figure size 800x600 with 1 Axes>"
            ],
            "image/png": "[encoded data removed]"
          },
          "metadata": {}
        }
      ]
    },
    {
      "cell_type": "code",
      "source": [
        "evaluate_model(lgb_model, X_test, y_test, X_val, y_val)"
      ],
      "metadata": {
        "id": "489Hp_qo_L43",
        "colab": {
          "base_uri": "https://localhost:8080/"
        },
        "outputId": "8b9f18ce-6526-4517-f70d-e079230e0a25"
      },
      "execution_count": null,
      "outputs": [
        {
          "output_type": "stream",
          "name": "stdout",
          "text": [
            "Test Mean Squared Error: 6.399565604214745e-07\n",
            "Test R-squared Score: 0.9999680734828437\n",
            "Validation Mean Squared Error: 7.152071512992574e-07\n",
            "Validation R-squared Score: 0.9999653941678109\n"
          ]
        }
      ]
    },
    {
      "cell_type": "code",
      "source": [
        "plot_residuals_histogram(y_test, y_pred_lgb, title = \"Histogram of Residuals (GBM)\")"
      ],
      "metadata": {
        "colab": {
          "base_uri": "https://localhost:8080/",
          "height": 564
        },
        "id": "j50hDNDeoV5a",
        "outputId": "0f4b87e1-2c3b-4454-f3f7-c9a37bfeeee0"
      },
      "execution_count": null,
      "outputs": [
        {
          "output_type": "display_data",
          "data": {
            "text/plain": [
              "<Figure size 800x600 with 1 Axes>"
            ],
            "image/png": "[encoded data removed]"
          },
          "metadata": {}
        }
      ]
    },
    {
      "cell_type": "code",
      "execution_count": null,
      "metadata": {
        "id": "CADjNtMm3MfS"
      },
      "outputs": [],
      "source": [
        "# Paper format\n",
        "\n",
        "# 1. Introduction\n",
        "# 2. Data\n",
        "#   2.1 Processing\n",
        "# 3. Method\n",
        "# 4. Results and Discussion\n",
        "# 5. Conclusions"
      ]
    },
    {
      "cell_type": "code",
      "source": [
        "from sklearn.svm import SVR\n",
        "from sklearn.preprocessing import StandardScaler\n",
        "from sklearn.pipeline import make_pipeline\n",
        "from sklearn.metrics import mean_squared_error, r2_score\n",
        "\n",
        "num_samples = X_train.shape[0]\n",
        "num_features = X_train.shape[1]\n",
        "X_train_reshaped = X_train.reshape(num_samples, num_features)\n",
        "\n",
        "X_test_reshaped = X_test.reshape(X_test.shape[0], X_test.shape[1])\n",
        "X_val_reshaped = X_val.reshape(X_val.shape[0], X_val.shape[1])\n",
        "\n",
        "svr_model = make_pipeline(StandardScaler(), SVR(kernel='rbf', C=1.0, epsilon=0.1))\n",
        "\n",
        "# Train the model using the reshaped X_train\n",
        "svr_model.fit(X_train_reshaped, y_train)\n",
        "\n",
        "y_pred_svr = svr_model.predict(X_test_reshaped)"
      ],
      "metadata": {
        "id": "8dPND0DEnVm-"
      },
      "execution_count": null,
      "outputs": []
    },
    {
      "cell_type": "code",
      "source": [
        "#evaluating model svr\n",
        "evaluate_model(svr_model, X_test, y_test, X_val, y_val)"
      ],
      "metadata": {
        "colab": {
          "base_uri": "https://localhost:8080/"
        },
        "id": "XCqAGoFRns4d",
        "outputId": "ffa434ff-c867-41a5-c8cc-833d84c92af2"
      },
      "execution_count": null,
      "outputs": [
        {
          "output_type": "stream",
          "name": "stdout",
          "text": [
            "Test Mean Squared Error: 0.001496472631241945\n",
            "Test R-squared Score: 0.9253431215645178\n",
            "Validation Mean Squared Error: 0.0015383732034818345\n",
            "Validation R-squared Score: 0.9255646635704313\n"
          ]
        }
      ]
    },
    {
      "cell_type": "code",
      "source": [
        "plot_predicted_vs_actual(y_test, y_pred_svr, title=\"Predicted vs Actual Redshift (SVR)\")"
      ],
      "metadata": {
        "id": "6yQIXNVDtRsE",
        "colab": {
          "base_uri": "https://localhost:8080/",
          "height": 564
        },
        "outputId": "161468ad-cb87-42fb-c332-a439664772d3"
      },
      "execution_count": null,
      "outputs": [
        {
          "output_type": "display_data",
          "data": {
            "text/plain": [
              "<Figure size 800x600 with 1 Axes>"
            ],
            "image/png": "[encoded data removed]"
          },
          "metadata": {}
        }
      ]
    },
    {
      "cell_type": "code",
      "source": [
        "plot_residuals_histogram(y_test, y_pred_svr, title = \"Histogram of Residuals (SVR)\")"
      ],
      "metadata": {
        "id": "IdbE1rAURUSx",
        "colab": {
          "base_uri": "https://localhost:8080/",
          "height": 564
        },
        "outputId": "ff5fb83c-e3ae-459b-9d1f-5642c663fef5"
      },
      "execution_count": null,
      "outputs": [
        {
          "output_type": "display_data",
          "data": {
            "text/plain": [
              "<Figure size 800x600 with 1 Axes>"
            ],
            "image/png": "[encoded data removed]"
          },
          "metadata": {}
        }
      ]
    },
    {
      "cell_type": "code",
      "source": [
        "from sklearn.model_selection import learning_curve\n",
        "from sklearn.pipeline import make_pipeline\n",
        "from sklearn.preprocessing import StandardScaler\n",
        "from sklearn.svm import SVR\n",
        "\n",
        "train_sizes, train_scores, test_scores = learning_curve(\n",
        "    make_pipeline(StandardScaler(),SVR(kernel='rbf', C=1.0, epsilon=0.1)), X_train, y_train, cv=5, scoring='neg_mean_squared_error',\n",
        "    train_sizes=np.linspace(0.1, 1.0, 10)\n",
        ")\n",
        "\n",
        "train_scores_mean = -np.mean(train_scores, axis=1)\n",
        "train_scores_std = np.std(train_scores, axis=1)\n",
        "test_scores_mean = -np.mean(test_scores, axis=1)\n",
        "test_scores_std = np.std(test_scores, axis=1)\n",
        "\n",
        "plt.figure()\n",
        "plt.title(\"Learning Curve (SVR)\")\n",
        "plt.xlabel(\"Training Examples\")\n",
        "plt.ylabel(\"Negative MSE\")\n",
        "plt.grid()\n",
        "\n",
        "plt.fill_between(train_sizes, train_scores_mean - train_scores_std,\n",
        "                 train_scores_mean + train_scores_std, alpha=0.1,\n",
        "                 color=\"r\")\n",
        "plt.fill_between(train_sizes, test_scores_mean - test_scores_std,\n",
        "                 test_scores_mean + test_scores_std, alpha=0.1, color=\"g\")\n",
        "plt.plot(train_sizes, train_scores_mean, 'o-', color=\"r\",\n",
        "         label=\"Training score\")\n",
        "plt.plot(train_sizes, test_scores_mean, 'o-', color=\"g\",\n",
        "         label=\"Cross-validation score\")\n",
        "\n",
        "plt.legend(loc=\"best\")\n",
        "plt.show()"
      ],
      "metadata": {
        "colab": {
          "base_uri": "https://localhost:8080/",
          "height": 472
        },
        "id": "GF338-j_0ldF",
        "outputId": "e7358a54-a0b9-4685-bc8e-5909f1bfbf59"
      },
      "execution_count": null,
      "outputs": [
        {
          "output_type": "display_data",
          "data": {
            "text/plain": [
              "<Figure size 640x480 with 1 Axes>"
            ],
            "image/png": "[encoded data removed]"
          },
          "metadata": {}
        }
      ]
    },
    {
      "cell_type": "code",
      "source": [],
      "metadata": {
        "id": "QQ9fnL8INk53"
      },
      "execution_count": null,
      "outputs": []
    }
  ],
  "metadata": {
    "colab": {
      "provenance": [],
      "include_colab_link": true
    },
    "kernelspec": {
      "display_name": "Python 3",
      "name": "python3"
    },
    "language_info": {
      "name": "python"
    }
  },
  "nbformat": 4,
  "nbformat_minor": 0
}